{
  "cells": [
    {
      "cell_type": "markdown",
      "metadata": {
        "id": "fl69zKXxrJL9"
      },
      "source": [
        "#SETUP KAGGLE"
      ]
    },
    {
      "cell_type": "markdown",
      "source": [
        "https://colab.research.google.com/drive/1DLaFV4FxY-0kRUmsKRMUONMiJTITrdeN?usp=sharing"
      ],
      "metadata": {
        "id": "O1eovUKk6dTC"
      }
    },
    {
      "cell_type": "code",
      "execution_count": 1,
      "metadata": {
        "id": "_MNKb2B8qNUM"
      },
      "outputs": [],
      "source": [
        "!pip install -q kaggle\n",
        "!pip install -q transformers"
      ]
    },
    {
      "cell_type": "code",
      "execution_count": 2,
      "metadata": {
        "id": "_4_liSGdrAMc",
        "colab": {
          "base_uri": "https://localhost:8080/"
        },
        "outputId": "5fc1b9ce-4009-40d2-e6b2-7d891319a3f8"
      },
      "outputs": [
        {
          "output_type": "stream",
          "name": "stdout",
          "text": [
            "Drive already mounted at /content/drive; to attempt to forcibly remount, call drive.mount(\"/content/drive\", force_remount=True).\n"
          ]
        }
      ],
      "source": [
        "from google.colab import drive\n",
        "drive.mount('/content/drive')"
      ]
    },
    {
      "cell_type": "code",
      "execution_count": 3,
      "metadata": {
        "colab": {
          "base_uri": "https://localhost:8080/"
        },
        "id": "KsZy-GY_rEQm",
        "outputId": "7ba028cf-a342-4fd4-e54b-77085d401231"
      },
      "outputs": [
        {
          "output_type": "stream",
          "name": "stdout",
          "text": [
            "mkdir: cannot create directory ‘/root/.kaggle’: File exists\n",
            "ref                                                      title                                         size  lastUpdated          downloadCount  voteCount  usabilityRating  \n",
            "-------------------------------------------------------  -------------------------------------------  -----  -------------------  -------------  ---------  ---------------  \n",
            "themrityunjaypathak/covid-cases-and-deaths-worldwide     Covid Cases and Deaths WorldWide               8KB  2023-02-01 12:22:51          10698        352  1.0              \n",
            "naveenkumar20bps1137/walmart-sales-analysis              WALMART SALES ANALYSIS                       119KB  2023-03-03 18:02:11           1143         39  0.9411765        \n",
            "datascientistanna/customers-dataset                      Shop Customer Data                            23KB  2023-02-07 18:42:21           9120        210  1.0              \n",
            "ulrikthygepedersen/co2-emissions-by-country              CO2 Emissions                                114KB  2023-02-28 12:39:49            719         25  1.0              \n",
            "amaanansari09/most-streamed-songs-all-time               Most Streamed Songs (All Time)                 8KB  2023-03-08 10:56:24            676         25  1.0              \n",
            "ulrikthygepedersen/populations                           Populations                                  124KB  2023-02-28 12:43:44            507         22  1.0              \n",
            "rkiattisak/student-performance-in-mathematics            Student performance prediction for beginner    2KB  2023-03-06 04:51:32            511         26  1.0              \n",
            "amaanansari09/top-100-songs                              Top 100 songs                                  6KB  2023-02-16 18:55:35           2850         88  1.0              \n",
            "thedevastator/airbnb-prices-in-european-cities           Airbnb Prices in European Cities               4MB  2023-02-20 09:48:04           3081         65  1.0              \n",
            "sunayanagawde/countrywise-covid-cases                    Countrywise COVID cases                        4KB  2023-02-23 15:07:35            932         23  1.0              \n",
            "rkiattisak/mobile-phone-price                            Mobile Phone Price                             5KB  2023-03-09 04:15:24            551         26  1.0              \n",
            "iabdulw/co2-emissions-uk                                 CO2 Emissions UK                              935B  2023-03-09 01:02:40            250         22  1.0              \n",
            "rkiattisak/traveler-trip-data                            Traveler Trip Dataset for beginner             4KB  2023-03-06 07:11:05            506         24  1.0              \n",
            "justin2028/unemployment-in-america-per-us-state          Unemployment in America, Per US State        826KB  2023-03-02 07:26:03            913         47  1.0              \n",
            "cdeotte/census-data-for-godaddy                          Census Data for GoDaddy                       14MB  2023-02-21 07:59:53            907        122  0.47058824       \n",
            "rajugc/imdb-top-250-movies-dataset                       IMDB Top 250 Movies Dataset                   52KB  2023-02-11 16:02:01           3741         83  1.0              \n",
            "shrikrishnaparab/forbes-billionaires-and-companies-2022  Forbes Billionaires and Companies 2022       735KB  2023-02-17 06:15:43           1077         24  1.0              \n",
            "rkiattisak/salaly-prediction-for-beginer                 Salary prediction for beginner                 3KB  2023-03-07 02:45:11            504         28  1.0              \n",
            "karkavelrajaj/amazon-sales-dataset                       Amazon Sales Dataset                           2MB  2023-01-17 06:21:15          11266        167  1.0              \n",
            "warcoder/earthquake-dataset                              Earthquake dataset                            35KB  2023-02-26 09:59:04            992         35  1.0              \n",
            "hackathon-online-fake-news-classification.zip: Skipping, found more recently modified local copy (use --force to force download)\n"
          ]
        }
      ],
      "source": [
        "!mkdir ~/.kaggle\n",
        "!cp /content/drive/MyDrive/Kaggle/kaggle.json ~/.kaggle/ #copy api key ---- depend on your directory -- my directory is .../colab/..\n",
        "!chmod 600 ~/.kaggle/kaggle.json\n",
        "!kaggle datasets list\n",
        "!kaggle competitions download -c hackathon-online-fake-news-classification #download competition dataset\n"
      ]
    },
    {
      "cell_type": "code",
      "execution_count": 17,
      "metadata": {
        "colab": {
          "base_uri": "https://localhost:8080/"
        },
        "id": "LaKLEJU9tFKf",
        "outputId": "cfb7a07b-d4f1-40d9-eede-6c6ee9cdf590"
      },
      "outputs": [
        {
          "output_type": "stream",
          "name": "stdout",
          "text": [
            "Archive:  /content/hackathon-online-fake-news-classification.zip\n",
            "replace sample_submission.csv? [y]es, [n]o, [A]ll, [N]one, [r]ename: "
          ]
        }
      ],
      "source": [
        "!unzip /content/hackathon-online-fake-news-classification.zip"
      ]
    },
    {
      "cell_type": "markdown",
      "metadata": {
        "id": "2NqDCqVBdjXj"
      },
      "source": [
        "#DATA"
      ]
    },
    {
      "cell_type": "code",
      "execution_count": 1,
      "metadata": {
        "id": "sCOwD3fprHqR"
      },
      "outputs": [],
      "source": [
        "import pandas as pd\n",
        "import numpy as np"
      ]
    },
    {
      "cell_type": "code",
      "execution_count": 2,
      "metadata": {
        "colab": {
          "base_uri": "https://localhost:8080/",
          "height": 423
        },
        "id": "ucMkm8OsxADT",
        "outputId": "051b44ad-553b-4e5a-ac8e-5f208bb81bff"
      },
      "outputs": [
        {
          "output_type": "execute_result",
          "data": {
            "text/plain": [
              "                           id  \\\n",
              "0      GZsDkNhz42u4SAzbAnUouC   \n",
              "1      jaRxYZgqXRNrxZiPiLT6xy   \n",
              "2      nYUyyPh5R5zxs8dPa4p6XY   \n",
              "3      myF2ZaAj2ekwKxuoN8fprG   \n",
              "4      DUQVYqAz4W6EZBy2CFevZq   \n",
              "...                       ...   \n",
              "42445  T2TAxsd3ZX76QPCiCYk45S   \n",
              "42446  AEyZjphKDHLfrxbuzJDUMU   \n",
              "42447  A7XDwhEUCDctCcTmWXiq7w   \n",
              "42448  Q579MHsdizW54cN5fNBy22   \n",
              "42449  QcTxmNq9fddwpGoxS8yfr9   \n",
              "\n",
              "                                                    text language label  \n",
              "0      Last month, Mr. McLaren delivered a preliminar...  english  Real  \n",
              "1      JOHANNESBURG (Reuters) - Leaders of Zimbabwe s...  english  Real  \n",
              "2      “But our real goal is to reach the stage when ...  english  Real  \n",
              "3      BEN CARSON fearlessly explain the TRUTH behind...  english  Fake  \n",
              "4      They just spent big bucks on a new headquarter...  english  Fake  \n",
              "...                                                  ...      ...   ...  \n",
              "42445  Shawn Helton ศตวรรษที่ 21 Wireanother Active-S...     thai  Fake  \n",
              "42446  “If we just impose a tariff, they’ll put recip...  english  Real  \n",
              "42447  At a blistering speech in Columbus, Ohio (a ve...  english  Fake  \n",
              "42448  JOHANNESBURG (Reuters) - South Africa s ruling...  english  Real  \n",
              "42449  “We think we should be offering more assistanc...  english  Real  \n",
              "\n",
              "[42450 rows x 4 columns]"
            ],
            "text/html": [
              "\n",
              "  <div id=\"df-245b8807-ec76-4d43-89a6-0a339a983e66\">\n",
              "    <div class=\"colab-df-container\">\n",
              "      <div>\n",
              "<style scoped>\n",
              "    .dataframe tbody tr th:only-of-type {\n",
              "        vertical-align: middle;\n",
              "    }\n",
              "\n",
              "    .dataframe tbody tr th {\n",
              "        vertical-align: top;\n",
              "    }\n",
              "\n",
              "    .dataframe thead th {\n",
              "        text-align: right;\n",
              "    }\n",
              "</style>\n",
              "<table border=\"1\" class=\"dataframe\">\n",
              "  <thead>\n",
              "    <tr style=\"text-align: right;\">\n",
              "      <th></th>\n",
              "      <th>id</th>\n",
              "      <th>text</th>\n",
              "      <th>language</th>\n",
              "      <th>label</th>\n",
              "    </tr>\n",
              "  </thead>\n",
              "  <tbody>\n",
              "    <tr>\n",
              "      <th>0</th>\n",
              "      <td>GZsDkNhz42u4SAzbAnUouC</td>\n",
              "      <td>Last month, Mr. McLaren delivered a preliminar...</td>\n",
              "      <td>english</td>\n",
              "      <td>Real</td>\n",
              "    </tr>\n",
              "    <tr>\n",
              "      <th>1</th>\n",
              "      <td>jaRxYZgqXRNrxZiPiLT6xy</td>\n",
              "      <td>JOHANNESBURG (Reuters) - Leaders of Zimbabwe s...</td>\n",
              "      <td>english</td>\n",
              "      <td>Real</td>\n",
              "    </tr>\n",
              "    <tr>\n",
              "      <th>2</th>\n",
              "      <td>nYUyyPh5R5zxs8dPa4p6XY</td>\n",
              "      <td>“But our real goal is to reach the stage when ...</td>\n",
              "      <td>english</td>\n",
              "      <td>Real</td>\n",
              "    </tr>\n",
              "    <tr>\n",
              "      <th>3</th>\n",
              "      <td>myF2ZaAj2ekwKxuoN8fprG</td>\n",
              "      <td>BEN CARSON fearlessly explain the TRUTH behind...</td>\n",
              "      <td>english</td>\n",
              "      <td>Fake</td>\n",
              "    </tr>\n",
              "    <tr>\n",
              "      <th>4</th>\n",
              "      <td>DUQVYqAz4W6EZBy2CFevZq</td>\n",
              "      <td>They just spent big bucks on a new headquarter...</td>\n",
              "      <td>english</td>\n",
              "      <td>Fake</td>\n",
              "    </tr>\n",
              "    <tr>\n",
              "      <th>...</th>\n",
              "      <td>...</td>\n",
              "      <td>...</td>\n",
              "      <td>...</td>\n",
              "      <td>...</td>\n",
              "    </tr>\n",
              "    <tr>\n",
              "      <th>42445</th>\n",
              "      <td>T2TAxsd3ZX76QPCiCYk45S</td>\n",
              "      <td>Shawn Helton ศตวรรษที่ 21 Wireanother Active-S...</td>\n",
              "      <td>thai</td>\n",
              "      <td>Fake</td>\n",
              "    </tr>\n",
              "    <tr>\n",
              "      <th>42446</th>\n",
              "      <td>AEyZjphKDHLfrxbuzJDUMU</td>\n",
              "      <td>“If we just impose a tariff, they’ll put recip...</td>\n",
              "      <td>english</td>\n",
              "      <td>Real</td>\n",
              "    </tr>\n",
              "    <tr>\n",
              "      <th>42447</th>\n",
              "      <td>A7XDwhEUCDctCcTmWXiq7w</td>\n",
              "      <td>At a blistering speech in Columbus, Ohio (a ve...</td>\n",
              "      <td>english</td>\n",
              "      <td>Fake</td>\n",
              "    </tr>\n",
              "    <tr>\n",
              "      <th>42448</th>\n",
              "      <td>Q579MHsdizW54cN5fNBy22</td>\n",
              "      <td>JOHANNESBURG (Reuters) - South Africa s ruling...</td>\n",
              "      <td>english</td>\n",
              "      <td>Real</td>\n",
              "    </tr>\n",
              "    <tr>\n",
              "      <th>42449</th>\n",
              "      <td>QcTxmNq9fddwpGoxS8yfr9</td>\n",
              "      <td>“We think we should be offering more assistanc...</td>\n",
              "      <td>english</td>\n",
              "      <td>Real</td>\n",
              "    </tr>\n",
              "  </tbody>\n",
              "</table>\n",
              "<p>42450 rows × 4 columns</p>\n",
              "</div>\n",
              "      <button class=\"colab-df-convert\" onclick=\"convertToInteractive('df-245b8807-ec76-4d43-89a6-0a339a983e66')\"\n",
              "              title=\"Convert this dataframe to an interactive table.\"\n",
              "              style=\"display:none;\">\n",
              "        \n",
              "  <svg xmlns=\"http://www.w3.org/2000/svg\" height=\"24px\"viewBox=\"0 0 24 24\"\n",
              "       width=\"24px\">\n",
              "    <path d=\"M0 0h24v24H0V0z\" fill=\"none\"/>\n",
              "    <path d=\"M18.56 5.44l.94 2.06.94-2.06 2.06-.94-2.06-.94-.94-2.06-.94 2.06-2.06.94zm-11 1L8.5 8.5l.94-2.06 2.06-.94-2.06-.94L8.5 2.5l-.94 2.06-2.06.94zm10 10l.94 2.06.94-2.06 2.06-.94-2.06-.94-.94-2.06-.94 2.06-2.06.94z\"/><path d=\"M17.41 7.96l-1.37-1.37c-.4-.4-.92-.59-1.43-.59-.52 0-1.04.2-1.43.59L10.3 9.45l-7.72 7.72c-.78.78-.78 2.05 0 2.83L4 21.41c.39.39.9.59 1.41.59.51 0 1.02-.2 1.41-.59l7.78-7.78 2.81-2.81c.8-.78.8-2.07 0-2.86zM5.41 20L4 18.59l7.72-7.72 1.47 1.35L5.41 20z\"/>\n",
              "  </svg>\n",
              "      </button>\n",
              "      \n",
              "  <style>\n",
              "    .colab-df-container {\n",
              "      display:flex;\n",
              "      flex-wrap:wrap;\n",
              "      gap: 12px;\n",
              "    }\n",
              "\n",
              "    .colab-df-convert {\n",
              "      background-color: #E8F0FE;\n",
              "      border: none;\n",
              "      border-radius: 50%;\n",
              "      cursor: pointer;\n",
              "      display: none;\n",
              "      fill: #1967D2;\n",
              "      height: 32px;\n",
              "      padding: 0 0 0 0;\n",
              "      width: 32px;\n",
              "    }\n",
              "\n",
              "    .colab-df-convert:hover {\n",
              "      background-color: #E2EBFA;\n",
              "      box-shadow: 0px 1px 2px rgba(60, 64, 67, 0.3), 0px 1px 3px 1px rgba(60, 64, 67, 0.15);\n",
              "      fill: #174EA6;\n",
              "    }\n",
              "\n",
              "    [theme=dark] .colab-df-convert {\n",
              "      background-color: #3B4455;\n",
              "      fill: #D2E3FC;\n",
              "    }\n",
              "\n",
              "    [theme=dark] .colab-df-convert:hover {\n",
              "      background-color: #434B5C;\n",
              "      box-shadow: 0px 1px 3px 1px rgba(0, 0, 0, 0.15);\n",
              "      filter: drop-shadow(0px 1px 2px rgba(0, 0, 0, 0.3));\n",
              "      fill: #FFFFFF;\n",
              "    }\n",
              "  </style>\n",
              "\n",
              "      <script>\n",
              "        const buttonEl =\n",
              "          document.querySelector('#df-245b8807-ec76-4d43-89a6-0a339a983e66 button.colab-df-convert');\n",
              "        buttonEl.style.display =\n",
              "          google.colab.kernel.accessAllowed ? 'block' : 'none';\n",
              "\n",
              "        async function convertToInteractive(key) {\n",
              "          const element = document.querySelector('#df-245b8807-ec76-4d43-89a6-0a339a983e66');\n",
              "          const dataTable =\n",
              "            await google.colab.kernel.invokeFunction('convertToInteractive',\n",
              "                                                     [key], {});\n",
              "          if (!dataTable) return;\n",
              "\n",
              "          const docLinkHtml = 'Like what you see? Visit the ' +\n",
              "            '<a target=\"_blank\" href=https://colab.research.google.com/notebooks/data_table.ipynb>data table notebook</a>'\n",
              "            + ' to learn more about interactive tables.';\n",
              "          element.innerHTML = '';\n",
              "          dataTable['output_type'] = 'display_data';\n",
              "          await google.colab.output.renderOutput(dataTable, element);\n",
              "          const docLink = document.createElement('div');\n",
              "          docLink.innerHTML = docLinkHtml;\n",
              "          element.appendChild(docLink);\n",
              "        }\n",
              "      </script>\n",
              "    </div>\n",
              "  </div>\n",
              "  "
            ]
          },
          "metadata": {},
          "execution_count": 2
        }
      ],
      "source": [
        "df = pd.read_csv(\"/content/train.csv\")\n",
        "df"
      ]
    },
    {
      "cell_type": "code",
      "execution_count": 3,
      "metadata": {
        "colab": {
          "base_uri": "https://localhost:8080/",
          "height": 147
        },
        "id": "Ru8geOyYOvfc",
        "outputId": "e312174c-3f8c-4c46-b36a-447f79fb03c6"
      },
      "outputs": [
        {
          "output_type": "execute_result",
          "data": {
            "text/plain": [
              "'JOHANNESBURG (Reuters) - South Africa s ruling African National Congress holds an election this weekend to replace Jacob Zuma as party leader in a closely fought contest whose winner is likely to emerge as the nation s next president.  The stakes are high because the ANC s electoral dominance means whoever wins the party s top job is likely become the next president of South Africa after a national election in 2019.Analysts have said South Africa s business and consumer confidence has been dented in recent years by allegations of corruption in Zuma s government and influence-peddling by the Gupta family - businessmen who are close friends of the president.The front runners are Deputy President Cyril Ramaphosa, a former trade union leader and one of South Africa s richest people, and Zuma s preferred candidate, his ex-wife Nkosazana Dlamini-Zuma, a former minister and chairwoman of the African Union Commission.Ramaphosa edged Dlamini-Zuma by getting the majority of nominations to become leader of the party, but the complexity of the leadership race means it is far from certain he will become the next party leader and therefore the likely next president.All seven ANC leadership hopefuls pledged to Zuma at a meeting last month that they would accept the outcome of the leadership vote in the interests of keeping the 105-year-old organization intact and avoid splits that could weaken its strength at the national elections in 2019.Dlamini-Zuma has said she is not tainted by graft and it is fine if the country s white business community will not endorse her.S&P Global Ratings and Fitch rate South Africa s debt as  junk .  Zuma said last week he was  very happy  to be stepping down as ANC president.Ramaphosa is viewed as more investor friendly and has pledged to fight the corruption that has plagued Zuma s tenure.Political uncertainty over the ANC race is a major threat to the country s credit rating.In a race seen as too close to call, seven candidates are seeking to succeed Zuma, who has been at the helm of the party for a decade.The party holds its conference in Johannesburg between Dec. 16-20.'"
            ],
            "application/vnd.google.colaboratory.intrinsic+json": {
              "type": "string"
            }
          },
          "metadata": {},
          "execution_count": 3
        }
      ],
      "source": [
        "df.text[42448]"
      ]
    },
    {
      "cell_type": "code",
      "execution_count": 4,
      "metadata": {
        "colab": {
          "base_uri": "https://localhost:8080/"
        },
        "id": "INhCZ_HG0jXW",
        "outputId": "2e0378a8-ea67-48dd-ad9b-6728c4c95671"
      },
      "outputs": [
        {
          "output_type": "execute_result",
          "data": {
            "text/plain": [
              "english    41717\n",
              "thai         733\n",
              "Name: language, dtype: int64"
            ]
          },
          "metadata": {},
          "execution_count": 4
        }
      ],
      "source": [
        "df.language.value_counts()"
      ]
    },
    {
      "cell_type": "code",
      "execution_count": 5,
      "metadata": {
        "id": "cQD55KxNOEv5"
      },
      "outputs": [],
      "source": [
        "def reWord(text):\n",
        "  replace_word = '−=豆芽扁潤餅干щ†фюжёјễậôỳđ조해방전쟁祖國解放戰爭韓ŏụả油ōīⁿmắồ,ö‐—ïベトナム独立戦争参加人の事跡に基づく越あり方関する研究井川一久係発展途を探ヴェ―そ実態と両国って歴史的意味ðæí¹α‡þβóǎ§γüäñθικλμνξοπρςστυφχψωΝΑΒΓΔΕΖΗΘΙΚΛΜΞΨΟΠΡΣΤΧΥΦΩ㊊㊋㊌㊍㊎㊏㊐㊑㊒㊓㊔㊕㊖㊗㊘㊭㊙㊚㊛㊜㊝㊢㊞㊟㊠㊡㊤㊣㊥㊦㊧㊨㊩㊪㊫㊬㊮㊯㊰ㄱㄹㄲㄳㄺㄴㄻㄵㄶㄸㄷㄼㄽㄾㅓㄿㅀㅁㅂㅃㅄㅅㅆㅈㅇㅌㅉㅊㅍㅋㅎㅏㅐㅑㅒㅔㅕㅖㅗㅘㅙㅚㅛㅜㅝㅞㅟㅠㅩㅡㅢㅥㅪㅬㅭㅨㅫㅧㅮㅯㅰㅱㅲㅳㅴㅵㅶㅷㅸㅹㅺㅻㅼㅽㅾㅿㆀㆁㆃㆂㆉㆄㆅㆊㆇㆈㆆąčĤħĩŇŘŤŴŽå/η’;[]ζδʰε₂}{지구·িষ্ণুপর|\"¶:ĭ><ūथव?地球!@#ԥәэअधབོད་ཡིགᨅᨔᨕᨘᨁᨗꮳꮃꭹēᓀᐦᔭᐍᐏᐣıѣⱄⰾⱁⰲⱑⱀⱐⰽⱏडटཇངཁʋگगयचण𐌲𐌿𐍄𐌹𐍃𐌺ɩɛũļैزِଓଡ଼ିଆᱥᱟᱱᱛᱲᱤḥၽႃႇတႆး$%^&*()+-~`“”๑๒๓๔฿๕๖๗๘๙↑ʻ–⋅←→°አማርኛالعربيةܐܪܡܝمصىঅসমীয়াаврəتۆکجهбшҡотсžėšелукяіцъгиभोजपुरीবংলдàìĕ̤ṳ̄нхчйودیëӑɔŋދިވެހބަސްάòفسõøç贛語ẽગુજરાતી客家âîעבריתहिन्दհայերնւմտէӏᐃᓄᒃᑎᑐᑦ日本ქართულიқзភាសខ្មែរಕನ್ಡ한국어мकॉशٲشُыáລາວųāമലയാളംꯃꯤꯇꯩꯂꯣꯟमाठမြန်ာဘသेलषߒߞߏਪੰਜਾਬੀپنښêăãьसंृतڌпසිංහලئśůதமிழ்ತುಳతెలుగҷӣትግۇغچەїўếệ吴语მგִדשù中文言ú粵×éè±'\n",
        "  text = text.replace( \"\\n\" , ' ' )\n",
        "  text = text.replace( \"\\t\" , ' ' )\n",
        "  text = text.replace(\"   \",\" \")\n",
        "  text = text.replace(\"   \",\" \")\n",
        "  for i in replace_word:\n",
        "    text = text.replace( i , '' )\n",
        "  return text\n",
        "\n",
        "data_dict = {0 : \"Real\",\n",
        "             1 : \"Fake\"}"
      ]
    },
    {
      "cell_type": "code",
      "execution_count": 6,
      "metadata": {
        "id": "ZNdAxNfa0e5J",
        "colab": {
          "base_uri": "https://localhost:8080/",
          "height": 35,
          "referenced_widgets": [
            "8935ec51667343dca68588c09f0ddd7f"
          ]
        },
        "outputId": "c287d6c6-a7f2-4cdf-b2de-442c0e8a35fd"
      },
      "outputs": [
        {
          "output_type": "display_data",
          "data": {
            "text/plain": [
              "VBox(children=(HTML(value='<center> <img\\nsrc=https://huggingface.co/front/assets/huggingface_logo-noborder.sv…"
            ],
            "application/vnd.jupyter.widget-view+json": {
              "version_major": 2,
              "version_minor": 0,
              "model_id": "8935ec51667343dca68588c09f0ddd7f"
            }
          },
          "metadata": {}
        }
      ],
      "source": [
        "from huggingface_hub import notebook_login\n",
        "notebook_login()"
      ]
    },
    {
      "cell_type": "markdown",
      "metadata": {
        "id": "m9wEfrY9rZ58"
      },
      "source": [
        "#Transformers Phoenyx83"
      ]
    },
    {
      "cell_type": "code",
      "execution_count": null,
      "metadata": {
        "id": "xHvXL6D10gsf"
      },
      "outputs": [],
      "source": [
        "from transformers import AutoModelForSequenceClassification, AutoTokenizer\n",
        "\n",
        "model = AutoModelForSequenceClassification.from_pretrained(\"Phoenyx83/autotrain-fake-news-classification-1532855215\", use_auth_token=True)\n",
        "tokenizer = AutoTokenizer.from_pretrained(\"Phoenyx83/autotrain-fake-news-classification-1532855215\", use_auth_token=True)"
      ]
    },
    {
      "cell_type": "code",
      "execution_count": null,
      "metadata": {
        "id": "GPzL4xPEf0Nk"
      },
      "outputs": [],
      "source": [
        "inputs = tokenizer(reWord(df.text[0]) , return_tensors=\"pt\" )\n",
        "outputs = model(**inputs)\n",
        "logits = outputs.logits.detach().tolist()[0]\n",
        "max_index = logits.index(max(logits))\n",
        "print(data_dict[max_index])"
      ]
    },
    {
      "cell_type": "code",
      "execution_count": null,
      "metadata": {
        "colab": {
          "base_uri": "https://localhost:8080/"
        },
        "id": "BP_ZcjUIy-Hq",
        "outputId": "36d95223-37b9-4902-a526-ac6f09b385a5"
      },
      "outputs": [
        {
          "name": "stdout",
          "output_type": "stream",
          "text": [
            "Real\n"
          ]
        }
      ],
      "source": [
        "# 0 Real 1 Fake\n",
        "inputs = tokenizer(reWord(df.text[3]) , return_tensors=\"pt\")\n",
        "outputs = model(**inputs)\n",
        "logits = outputs.logits.detach().tolist()[0]\n",
        "max_index = logits.index(max(logits))\n",
        "print(data_dict[max_index])"
      ]
    },
    {
      "cell_type": "code",
      "execution_count": null,
      "metadata": {
        "id": "NbewcWEFlXtt"
      },
      "outputs": [],
      "source": [
        "# from transformers import AutoModelForSequenceClassification, AutoTokenizer\n",
        "\n",
        "# model = AutoModelForSequenceClassification.from_pretrained(\"bert-base-cased\")\n",
        "# tokenizer = AutoTokenizer.from_pretrained(\"bert-base-cased\")\n",
        "\n",
        "inputs = tokenizer.encode(df_test.text[5], return_tensors=\"pt\", max_length=1512, truncation=True)\n",
        "outputs = model(inputs)\n",
        "logits = outputs.logits.detach().tolist()[0]\n",
        "max_index = logits.index(max(logits))\n",
        "print(data_dict[max_index])\n",
        "\n"
      ]
    },
    {
      "cell_type": "markdown",
      "metadata": {
        "id": "WKMwbZMcGIzM"
      },
      "source": [
        "#Transformers cometrain\n"
      ]
    },
    {
      "cell_type": "code",
      "execution_count": null,
      "metadata": {
        "colab": {
          "base_uri": "https://localhost:8080/"
        },
        "id": "OCYCQUHnJ_hp",
        "outputId": "0fb9e292-dd6b-42be-cd1d-9c97b592cfc9"
      },
      "outputs": [
        {
          "name": "stdout",
          "output_type": "stream",
          "text": [
            "Looking in indexes: https://pypi.org/simple, https://us-python.pkg.dev/colab-wheels/public/simple/\n",
            "Requirement already satisfied: sentencepiece in /usr/local/lib/python3.9/dist-packages (0.1.97)\n",
            "Looking in indexes: https://pypi.org/simple, https://us-python.pkg.dev/colab-wheels/public/simple/\n",
            "Requirement already satisfied: transformers in /usr/local/lib/python3.9/dist-packages (4.26.1)\n",
            "Requirement already satisfied: huggingface-hub<1.0,>=0.11.0 in /usr/local/lib/python3.9/dist-packages (from transformers) (0.13.1)\n",
            "Requirement already satisfied: filelock in /usr/local/lib/python3.9/dist-packages (from transformers) (3.9.0)\n",
            "Requirement already satisfied: pyyaml>=5.1 in /usr/local/lib/python3.9/dist-packages (from transformers) (6.0)\n",
            "Requirement already satisfied: numpy>=1.17 in /usr/local/lib/python3.9/dist-packages (from transformers) (1.22.4)\n",
            "Requirement already satisfied: tqdm>=4.27 in /usr/local/lib/python3.9/dist-packages (from transformers) (4.65.0)\n",
            "Requirement already satisfied: requests in /usr/local/lib/python3.9/dist-packages (from transformers) (2.25.1)\n",
            "Requirement already satisfied: tokenizers!=0.11.3,<0.14,>=0.11.1 in /usr/local/lib/python3.9/dist-packages (from transformers) (0.13.2)\n",
            "Requirement already satisfied: packaging>=20.0 in /usr/local/lib/python3.9/dist-packages (from transformers) (23.0)\n",
            "Requirement already satisfied: regex!=2019.12.17 in /usr/local/lib/python3.9/dist-packages (from transformers) (2022.6.2)\n",
            "Requirement already satisfied: typing-extensions>=3.7.4.3 in /usr/local/lib/python3.9/dist-packages (from huggingface-hub<1.0,>=0.11.0->transformers) (4.5.0)\n",
            "Requirement already satisfied: chardet<5,>=3.0.2 in /usr/local/lib/python3.9/dist-packages (from requests->transformers) (4.0.0)\n",
            "Requirement already satisfied: certifi>=2017.4.17 in /usr/local/lib/python3.9/dist-packages (from requests->transformers) (2022.12.7)\n",
            "Requirement already satisfied: idna<3,>=2.5 in /usr/local/lib/python3.9/dist-packages (from requests->transformers) (2.10)\n",
            "Requirement already satisfied: urllib3<1.27,>=1.21.1 in /usr/local/lib/python3.9/dist-packages (from requests->transformers) (1.26.14)\n"
          ]
        }
      ],
      "source": [
        "!pip install sentencepiece\n",
        "!pip install transformers -U"
      ]
    },
    {
      "cell_type": "code",
      "execution_count": null,
      "metadata": {
        "id": "mLRirWQ9GIpF"
      },
      "outputs": [],
      "source": [
        "from transformers import AutoTokenizer, AutoModelForSeq2SeqLM\n",
        "\n",
        "tokenizer = AutoTokenizer.from_pretrained(\"cometrain/fake-news-detector-t5\")\n",
        "modelcometrain = AutoModelForSeq2SeqLM.from_pretrained(\"cometrain/fake-news-detector-t5\")"
      ]
    },
    {
      "cell_type": "code",
      "execution_count": null,
      "metadata": {
        "colab": {
          "base_uri": "https://localhost:8080/",
          "height": 423
        },
        "id": "FVBuDZaEkkq2",
        "outputId": "a60d2a72-ca05-457d-a7a9-0342a40fc3eb"
      },
      "outputs": [
        {
          "data": {
            "text/html": [
              "\n",
              "  <div id=\"df-0216ce0e-5dcf-4832-a6ff-43db27755f6b\">\n",
              "    <div class=\"colab-df-container\">\n",
              "      <div>\n",
              "<style scoped>\n",
              "    .dataframe tbody tr th:only-of-type {\n",
              "        vertical-align: middle;\n",
              "    }\n",
              "\n",
              "    .dataframe tbody tr th {\n",
              "        vertical-align: top;\n",
              "    }\n",
              "\n",
              "    .dataframe thead th {\n",
              "        text-align: right;\n",
              "    }\n",
              "</style>\n",
              "<table border=\"1\" class=\"dataframe\">\n",
              "  <thead>\n",
              "    <tr style=\"text-align: right;\">\n",
              "      <th></th>\n",
              "      <th>id</th>\n",
              "      <th>text</th>\n",
              "      <th>language</th>\n",
              "      <th>label</th>\n",
              "    </tr>\n",
              "  </thead>\n",
              "  <tbody>\n",
              "    <tr>\n",
              "      <th>0</th>\n",
              "      <td>GZsDkNhz42u4SAzbAnUouC</td>\n",
              "      <td>Last month, Mr. McLaren delivered a preliminar...</td>\n",
              "      <td>english</td>\n",
              "      <td>Real</td>\n",
              "    </tr>\n",
              "    <tr>\n",
              "      <th>1</th>\n",
              "      <td>jaRxYZgqXRNrxZiPiLT6xy</td>\n",
              "      <td>JOHANNESBURG (Reuters) - Leaders of Zimbabwe s...</td>\n",
              "      <td>english</td>\n",
              "      <td>Real</td>\n",
              "    </tr>\n",
              "    <tr>\n",
              "      <th>2</th>\n",
              "      <td>nYUyyPh5R5zxs8dPa4p6XY</td>\n",
              "      <td>“But our real goal is to reach the stage when ...</td>\n",
              "      <td>english</td>\n",
              "      <td>Real</td>\n",
              "    </tr>\n",
              "    <tr>\n",
              "      <th>3</th>\n",
              "      <td>myF2ZaAj2ekwKxuoN8fprG</td>\n",
              "      <td>BEN CARSON fearlessly explain the TRUTH behind...</td>\n",
              "      <td>english</td>\n",
              "      <td>Fake</td>\n",
              "    </tr>\n",
              "    <tr>\n",
              "      <th>4</th>\n",
              "      <td>DUQVYqAz4W6EZBy2CFevZq</td>\n",
              "      <td>They just spent big bucks on a new headquarter...</td>\n",
              "      <td>english</td>\n",
              "      <td>Fake</td>\n",
              "    </tr>\n",
              "    <tr>\n",
              "      <th>...</th>\n",
              "      <td>...</td>\n",
              "      <td>...</td>\n",
              "      <td>...</td>\n",
              "      <td>...</td>\n",
              "    </tr>\n",
              "    <tr>\n",
              "      <th>42445</th>\n",
              "      <td>T2TAxsd3ZX76QPCiCYk45S</td>\n",
              "      <td>Shawn Helton ศตวรรษที่ 21 Wireanother Active-S...</td>\n",
              "      <td>thai</td>\n",
              "      <td>Fake</td>\n",
              "    </tr>\n",
              "    <tr>\n",
              "      <th>42446</th>\n",
              "      <td>AEyZjphKDHLfrxbuzJDUMU</td>\n",
              "      <td>“If we just impose a tariff, they’ll put recip...</td>\n",
              "      <td>english</td>\n",
              "      <td>Real</td>\n",
              "    </tr>\n",
              "    <tr>\n",
              "      <th>42447</th>\n",
              "      <td>A7XDwhEUCDctCcTmWXiq7w</td>\n",
              "      <td>At a blistering speech in Columbus, Ohio (a ve...</td>\n",
              "      <td>english</td>\n",
              "      <td>Fake</td>\n",
              "    </tr>\n",
              "    <tr>\n",
              "      <th>42448</th>\n",
              "      <td>Q579MHsdizW54cN5fNBy22</td>\n",
              "      <td>JOHANNESBURG (Reuters) - South Africa s ruling...</td>\n",
              "      <td>english</td>\n",
              "      <td>Real</td>\n",
              "    </tr>\n",
              "    <tr>\n",
              "      <th>42449</th>\n",
              "      <td>QcTxmNq9fddwpGoxS8yfr9</td>\n",
              "      <td>“We think we should be offering more assistanc...</td>\n",
              "      <td>english</td>\n",
              "      <td>Real</td>\n",
              "    </tr>\n",
              "  </tbody>\n",
              "</table>\n",
              "<p>42450 rows × 4 columns</p>\n",
              "</div>\n",
              "      <button class=\"colab-df-convert\" onclick=\"convertToInteractive('df-0216ce0e-5dcf-4832-a6ff-43db27755f6b')\"\n",
              "              title=\"Convert this dataframe to an interactive table.\"\n",
              "              style=\"display:none;\">\n",
              "        \n",
              "  <svg xmlns=\"http://www.w3.org/2000/svg\" height=\"24px\"viewBox=\"0 0 24 24\"\n",
              "       width=\"24px\">\n",
              "    <path d=\"M0 0h24v24H0V0z\" fill=\"none\"/>\n",
              "    <path d=\"M18.56 5.44l.94 2.06.94-2.06 2.06-.94-2.06-.94-.94-2.06-.94 2.06-2.06.94zm-11 1L8.5 8.5l.94-2.06 2.06-.94-2.06-.94L8.5 2.5l-.94 2.06-2.06.94zm10 10l.94 2.06.94-2.06 2.06-.94-2.06-.94-.94-2.06-.94 2.06-2.06.94z\"/><path d=\"M17.41 7.96l-1.37-1.37c-.4-.4-.92-.59-1.43-.59-.52 0-1.04.2-1.43.59L10.3 9.45l-7.72 7.72c-.78.78-.78 2.05 0 2.83L4 21.41c.39.39.9.59 1.41.59.51 0 1.02-.2 1.41-.59l7.78-7.78 2.81-2.81c.8-.78.8-2.07 0-2.86zM5.41 20L4 18.59l7.72-7.72 1.47 1.35L5.41 20z\"/>\n",
              "  </svg>\n",
              "      </button>\n",
              "      \n",
              "  <style>\n",
              "    .colab-df-container {\n",
              "      display:flex;\n",
              "      flex-wrap:wrap;\n",
              "      gap: 12px;\n",
              "    }\n",
              "\n",
              "    .colab-df-convert {\n",
              "      background-color: #E8F0FE;\n",
              "      border: none;\n",
              "      border-radius: 50%;\n",
              "      cursor: pointer;\n",
              "      display: none;\n",
              "      fill: #1967D2;\n",
              "      height: 32px;\n",
              "      padding: 0 0 0 0;\n",
              "      width: 32px;\n",
              "    }\n",
              "\n",
              "    .colab-df-convert:hover {\n",
              "      background-color: #E2EBFA;\n",
              "      box-shadow: 0px 1px 2px rgba(60, 64, 67, 0.3), 0px 1px 3px 1px rgba(60, 64, 67, 0.15);\n",
              "      fill: #174EA6;\n",
              "    }\n",
              "\n",
              "    [theme=dark] .colab-df-convert {\n",
              "      background-color: #3B4455;\n",
              "      fill: #D2E3FC;\n",
              "    }\n",
              "\n",
              "    [theme=dark] .colab-df-convert:hover {\n",
              "      background-color: #434B5C;\n",
              "      box-shadow: 0px 1px 3px 1px rgba(0, 0, 0, 0.15);\n",
              "      filter: drop-shadow(0px 1px 2px rgba(0, 0, 0, 0.3));\n",
              "      fill: #FFFFFF;\n",
              "    }\n",
              "  </style>\n",
              "\n",
              "      <script>\n",
              "        const buttonEl =\n",
              "          document.querySelector('#df-0216ce0e-5dcf-4832-a6ff-43db27755f6b button.colab-df-convert');\n",
              "        buttonEl.style.display =\n",
              "          google.colab.kernel.accessAllowed ? 'block' : 'none';\n",
              "\n",
              "        async function convertToInteractive(key) {\n",
              "          const element = document.querySelector('#df-0216ce0e-5dcf-4832-a6ff-43db27755f6b');\n",
              "          const dataTable =\n",
              "            await google.colab.kernel.invokeFunction('convertToInteractive',\n",
              "                                                     [key], {});\n",
              "          if (!dataTable) return;\n",
              "\n",
              "          const docLinkHtml = 'Like what you see? Visit the ' +\n",
              "            '<a target=\"_blank\" href=https://colab.research.google.com/notebooks/data_table.ipynb>data table notebook</a>'\n",
              "            + ' to learn more about interactive tables.';\n",
              "          element.innerHTML = '';\n",
              "          dataTable['output_type'] = 'display_data';\n",
              "          await google.colab.output.renderOutput(dataTable, element);\n",
              "          const docLink = document.createElement('div');\n",
              "          docLink.innerHTML = docLinkHtml;\n",
              "          element.appendChild(docLink);\n",
              "        }\n",
              "      </script>\n",
              "    </div>\n",
              "  </div>\n",
              "  "
            ],
            "text/plain": [
              "                           id  \\\n",
              "0      GZsDkNhz42u4SAzbAnUouC   \n",
              "1      jaRxYZgqXRNrxZiPiLT6xy   \n",
              "2      nYUyyPh5R5zxs8dPa4p6XY   \n",
              "3      myF2ZaAj2ekwKxuoN8fprG   \n",
              "4      DUQVYqAz4W6EZBy2CFevZq   \n",
              "...                       ...   \n",
              "42445  T2TAxsd3ZX76QPCiCYk45S   \n",
              "42446  AEyZjphKDHLfrxbuzJDUMU   \n",
              "42447  A7XDwhEUCDctCcTmWXiq7w   \n",
              "42448  Q579MHsdizW54cN5fNBy22   \n",
              "42449  QcTxmNq9fddwpGoxS8yfr9   \n",
              "\n",
              "                                                    text language label  \n",
              "0      Last month, Mr. McLaren delivered a preliminar...  english  Real  \n",
              "1      JOHANNESBURG (Reuters) - Leaders of Zimbabwe s...  english  Real  \n",
              "2      “But our real goal is to reach the stage when ...  english  Real  \n",
              "3      BEN CARSON fearlessly explain the TRUTH behind...  english  Fake  \n",
              "4      They just spent big bucks on a new headquarter...  english  Fake  \n",
              "...                                                  ...      ...   ...  \n",
              "42445  Shawn Helton ศตวรรษที่ 21 Wireanother Active-S...     thai  Fake  \n",
              "42446  “If we just impose a tariff, they’ll put recip...  english  Real  \n",
              "42447  At a blistering speech in Columbus, Ohio (a ve...  english  Fake  \n",
              "42448  JOHANNESBURG (Reuters) - South Africa s ruling...  english  Real  \n",
              "42449  “We think we should be offering more assistanc...  english  Real  \n",
              "\n",
              "[42450 rows x 4 columns]"
            ]
          },
          "execution_count": 243,
          "metadata": {},
          "output_type": "execute_result"
        }
      ],
      "source": [
        "df"
      ]
    },
    {
      "cell_type": "code",
      "execution_count": null,
      "metadata": {
        "colab": {
          "base_uri": "https://localhost:8080/"
        },
        "id": "q16HKlmmGR97",
        "outputId": "5d9311e9-f961-4f21-880b-9e0ab0cd4639"
      },
      "outputs": [
        {
          "name": "stderr",
          "output_type": "stream",
          "text": [
            "Token indices sequence length is longer than the specified maximum sequence length for this model (869 > 512). Running this sequence through the model will result in indexing errors\n"
          ]
        },
        {
          "name": "stdout",
          "output_type": "stream",
          "text": [
            "true\n",
            "869\n"
          ]
        }
      ],
      "source": [
        "# 0 Real 1 Fake\n",
        "input_ids = tokenizer.encode(df_test[\"text\"][98], return_tensors='pt')\n",
        "\n",
        "output = modelcometrain.generate(input_ids,\n",
        "                        max_length=1515, \n",
        "                        num_beams=1, \n",
        "                        early_stopping=True)\n",
        "\n",
        "generated_text = tokenizer.decode(output[0], skip_special_tokens=True)\n",
        "print(generated_text)\n",
        "print(len(input_ids[0]))"
      ]
    },
    {
      "cell_type": "markdown",
      "metadata": {
        "id": "06AgcbZAPqAg"
      },
      "source": [
        "#Transformers jy46604790"
      ]
    },
    {
      "cell_type": "code",
      "execution_count": null,
      "metadata": {
        "id": "_aZb99DKPp28"
      },
      "outputs": [],
      "source": [
        "from transformers import pipeline\n",
        "MODEL = \"jy46604790/Fake-News-Bert-Detect\"\n",
        "clf = pipeline(\"text-classification\", model=MODEL, tokenizer=MODEL)"
      ]
    },
    {
      "cell_type": "code",
      "execution_count": null,
      "metadata": {
        "id": "GC5y18n2PxDS"
      },
      "outputs": [],
      "source": [
        "result = clf(df)\n",
        "result"
      ]
    },
    {
      "cell_type": "markdown",
      "source": [
        "# Kaggle Fake News Keras/BERT"
      ],
      "metadata": {
        "id": "Kw1T9-9cxhdT"
      }
    },
    {
      "cell_type": "markdown",
      "source": [
        "https://www.kaggle.com/code/tmishinev/fake-news-keras-bert"
      ],
      "metadata": {
        "id": "-rQdDWjBxkC8"
      }
    },
    {
      "cell_type": "code",
      "source": [
        "import pandas as pd\n",
        "import numpy as np\n",
        "import matplotlib.pyplot as plt\n",
        "import seaborn as sns\n",
        "import tensorflow as tf\n",
        "import keras\n",
        "import gc\n",
        "\n",
        "from keras.models import Model, Sequential\n",
        "from keras.layers import Input, Dense, Dropout, Embedding\n",
        "from sklearn.model_selection import train_test_split \n",
        "from keras.preprocessing.text import Tokenizer\n",
        "from keras.callbacks import EarlyStopping\n",
        "from tensorflow.keras.optimizers import Adam\n",
        "from sklearn.model_selection import train_test_split,StratifiedKFold\n",
        "from sklearn.metrics import confusion_matrix, classification_report, f1_score\n",
        "from tensorflow.python.client import device_lib\n",
        "from transformers import AutoTokenizer, TFBertModel\n",
        "\n",
        "SEED = 10"
      ],
      "metadata": {
        "id": "cGiHol6mxhUx"
      },
      "execution_count": 7,
      "outputs": []
    },
    {
      "cell_type": "code",
      "source": [
        "df['label'] = pd.factorize(df['label'])[0]"
      ],
      "metadata": {
        "id": "o4q-9Os0Dp2Y"
      },
      "execution_count": 8,
      "outputs": []
    },
    {
      "cell_type": "code",
      "source": [
        "X = df['text']\n",
        "y = df['label']"
      ],
      "metadata": {
        "id": "e7ZisJRjxqJe"
      },
      "execution_count": 9,
      "outputs": []
    },
    {
      "cell_type": "markdown",
      "source": [
        "##EDA"
      ],
      "metadata": {
        "id": "mc_dTvEZzaUD"
      }
    },
    {
      "cell_type": "code",
      "source": [
        "df['num_words'] = df['text'].apply(lambda x: len(x.split()))"
      ],
      "metadata": {
        "id": "-wpgp3yExqBh"
      },
      "execution_count": 10,
      "outputs": []
    },
    {
      "cell_type": "code",
      "source": [
        "plt.figure(figsize = (8,5))\n",
        "sns.countplot(x = df['label'], palette = 'Set1', alpha = 0.8)\n",
        "plt.title('Distribution of Fake - 0 /Real - 1 News')"
      ],
      "metadata": {
        "colab": {
          "base_uri": "https://localhost:8080/",
          "height": 368
        },
        "id": "z10Ubu9r52sn",
        "outputId": "5877f6c4-e07b-4345-ef1d-eb5edce68046"
      },
      "execution_count": 11,
      "outputs": [
        {
          "output_type": "execute_result",
          "data": {
            "text/plain": [
              "Text(0.5, 1.0, 'Distribution of Fake - 0 /Real - 1 News')"
            ]
          },
          "metadata": {},
          "execution_count": 11
        },
        {
          "output_type": "display_data",
          "data": {
            "text/plain": [
              "<Figure size 576x360 with 1 Axes>"
            ],
            "image/png": "[encoded data removed]"
          },
          "metadata": {
            "needs_background": "light"
          }
        }
      ]
    },
    {
      "cell_type": "markdown",
      "source": [
        "##Define Model"
      ],
      "metadata": {
        "id": "2y_7fft_zbkA"
      }
    },
    {
      "cell_type": "code",
      "source": [
        "#define the LSTM model\n",
        "MAX_LEN = 100\n",
        "\n",
        "# def get_model():\n",
        "#     tokenizer = AutoTokenizer.from_pretrained('bert-base-uncased')\n",
        "#     bert = TFBertModel.from_pretrained('bert-base-uncased')\n",
        "    \n",
        "#     model = tf.keras.Sequential([\n",
        "#         bert.bert,\n",
        "#         tf.keras.layers.Dense(2, activation='softmax')\n",
        "#     ])\n",
        "    \n",
        "#     optimizer = tf.keras.optimizers.Adam(learning_rate=0.001)\n",
        "#     model.compile(loss='categorical_crossentropy', optimizer=optimizer, metrics=['accuracy'])\n",
        "    \n",
        "#     return model\n",
        "\n",
        "\n",
        "def get_model():\n",
        "    dropout_rate = 0.2\n",
        "\n",
        "    input_ids = Input(shape = (MAX_LEN,), dtype = tf.int32, name = 'input_ids')\n",
        "    input_mask = Input(shape = (MAX_LEN,), dtype = tf.int32, name = 'input_mask')\n",
        "\n",
        "    embeddings = bert([input_ids, input_mask])[1] #pooler output\n",
        "    print(embeddings)\n",
        "\n",
        "    out = Dropout(0.2)(embeddings)\n",
        "    \n",
        "    #64 units dense layer\n",
        "    out = Dense(64,activation = 'relu')(out)\n",
        "    out = Dropout(0.2)(out)\n",
        "\n",
        "    y = Dense(1,activation = 'sigmoid')(out)\n",
        "    \n",
        "    model = Model(inputs=[input_ids, input_mask], outputs=y)\n",
        "    model.layers[2].trainable = True\n",
        "    \n",
        "    #define optimizer\n",
        "    optimizer = tf.keras.optimizers.legacy.Adam(learning_rate=1e-05, epsilon=1e-08,decay=0.01,clipnorm=1.0)\n",
        "    \n",
        "    #complile the model\n",
        "    model.compile(optimizer = optimizer, loss = 'binary_crossentropy', metrics = 'accuracy')\n",
        "    \n",
        "    return model\n",
        "\n",
        "#define tokenization function\n",
        "def get_tokens(X):\n",
        "    \n",
        "    X = tokenizer(\n",
        "                text = list(X),\n",
        "                add_special_tokens = True,\n",
        "                max_length = MAX_LEN,\n",
        "                truncation = True,\n",
        "                padding = True,\n",
        "                return_tensors = 'tf',\n",
        "                return_token_type_ids = False,\n",
        "                return_attention_mask = True,\n",
        "                verbose = True\n",
        "                )\n",
        "    \n",
        "    return X"
      ],
      "metadata": {
        "id": "x8YDKgqjzfhb"
      },
      "execution_count": 12,
      "outputs": []
    },
    {
      "cell_type": "code",
      "source": [
        "#plot the model architecture\n",
        "tokenizer = AutoTokenizer.from_pretrained('bert-base-uncased')\n",
        "bert = TFBertModel.from_pretrained('bert-base-uncased')\n",
        "\n",
        "model = get_model()\n",
        "tf.keras.utils.plot_model(model)"
      ],
      "metadata": {
        "colab": {
          "base_uri": "https://localhost:8080/",
          "height": 695
        },
        "id": "_T7sqcsN581a",
        "outputId": "813ec814-0c06-43dc-dfa9-68d9bfb370c1"
      },
      "execution_count": 13,
      "outputs": [
        {
          "output_type": "stream",
          "name": "stderr",
          "text": [
            "Some layers from the model checkpoint at bert-base-uncased were not used when initializing TFBertModel: ['mlm___cls', 'nsp___cls']\n",
            "- This IS expected if you are initializing TFBertModel from the checkpoint of a model trained on another task or with another architecture (e.g. initializing a BertForSequenceClassification model from a BertForPreTraining model).\n",
            "- This IS NOT expected if you are initializing TFBertModel from the checkpoint of a model that you expect to be exactly identical (initializing a BertForSequenceClassification model from a BertForSequenceClassification model).\n",
            "All the layers of TFBertModel were initialized from the model checkpoint at bert-base-uncased.\n",
            "If your task is similar to the task the model of the checkpoint was trained on, you can already use TFBertModel for predictions without further training.\n"
          ]
        },
        {
          "output_type": "stream",
          "name": "stdout",
          "text": [
            "KerasTensor(type_spec=TensorSpec(shape=(None, 768), dtype=tf.float32, name=None), name='tf_bert_model/bert/pooler/dense/Tanh:0', description=\"created by layer 'tf_bert_model'\")\n"
          ]
        },
        {
          "output_type": "execute_result",
          "data": {
            "image/png": "[encoded data removed]",
            "text/plain": [
              "<IPython.core.display.Image object>"
            ]
          },
          "metadata": {},
          "execution_count": 13
        }
      ]
    },
    {
      "cell_type": "markdown",
      "source": [
        "##Train and evaluate"
      ],
      "metadata": {
        "id": "xU9zxpetzh24"
      }
    },
    {
      "cell_type": "code",
      "source": [
        "#split the train and test data\n",
        "X_train, X_test, y_train, y_test = train_test_split(X, y, stratify = y, test_size = 0.2, random_state = SEED)"
      ],
      "metadata": {
        "id": "YAxsj8hozfZv"
      },
      "execution_count": 14,
      "outputs": []
    },
    {
      "cell_type": "markdown",
      "source": [
        "##Training the model"
      ],
      "metadata": {
        "id": "8KTUDjSDzvdb"
      }
    },
    {
      "cell_type": "code",
      "source": [
        "X_train_seq = get_tokens(X_train)\n",
        "X_test_seq = get_tokens(X_test)\n"
      ],
      "metadata": {
        "id": "IYw_BpVPzfRB"
      },
      "execution_count": 15,
      "outputs": []
    },
    {
      "cell_type": "code",
      "source": [
        "y_train = y_train.astype(float)\n",
        "y_test = y_test.astype(float)"
      ],
      "metadata": {
        "id": "l5fIwRS1DDq1"
      },
      "execution_count": 16,
      "outputs": []
    },
    {
      "cell_type": "code",
      "source": [
        "history = model.fit(x = {'input_ids':X_train_seq['input_ids'],'input_mask':X_train_seq['attention_mask']}, \n",
        "                    y = y_train, epochs=3,\n",
        "                    validation_split = 0.2, batch_size = 32, callbacks=[EarlyStopping(monitor='val_accuracy',mode='max', patience=3, verbose=False,restore_best_weights=True)])\n"
      ],
      "metadata": {
        "id": "g70CTUWP_W-_"
      },
      "execution_count": null,
      "outputs": []
    },
    {
      "cell_type": "code",
      "source": [
        "#plot the train/validation loss and accuracy\n",
        "def plot_graphs(history, metric):\n",
        "    \n",
        "    plt.plot(history.history[metric])\n",
        "    plt.plot(history.history['val_'+metric], '')\n",
        "    plt.xlabel(\"Epochs\")\n",
        "    plt.ylabel(metric)\n",
        "    plt.legend([metric, 'val_'+metric])\n",
        "\n",
        "\n",
        "plt.figure(figsize=(16, 6))\n",
        "plt.subplot(1, 2, 1)\n",
        "plot_graphs(history, 'accuracy')\n",
        "plt.subplot(1, 2, 2)\n",
        "plot_graphs(history, 'loss')"
      ],
      "metadata": {
        "id": "KJO57yS96Ha9"
      },
      "execution_count": null,
      "outputs": []
    },
    {
      "cell_type": "markdown",
      "source": [
        "##Evaluate the model"
      ],
      "metadata": {
        "id": "0GxsIjA1zyCU"
      }
    },
    {
      "cell_type": "code",
      "source": [
        "#predict the test set labels\n",
        "yhat =  np.where(model.predict({'input_ids':X_test_seq['input_ids'],'input_mask':X_test_seq['attention_mask']}) >=0.5,1,0)"
      ],
      "metadata": {
        "id": "O7W2kSc1ze8G"
      },
      "execution_count": null,
      "outputs": []
    },
    {
      "cell_type": "code",
      "source": [
        "## print classification report\n",
        "print(classification_report(y_test,yhat))"
      ],
      "metadata": {
        "id": "VPz9nOjX6J_a"
      },
      "execution_count": null,
      "outputs": []
    },
    {
      "cell_type": "code",
      "source": [
        "#plot the confusion matrix\n",
        "plt.figure(figsize = (8,6))\n",
        "\n",
        "sns.heatmap(confusion_matrix(y_test,yhat), annot=True, \n",
        "            fmt='', cmap='Blues')\n",
        "\n",
        "plt.xlabel('Predicted Labels')\n",
        "plt.ylabel('Real Labels')"
      ],
      "metadata": {
        "id": "OPTa8X_Q6NJX"
      },
      "execution_count": null,
      "outputs": []
    },
    {
      "cell_type": "code",
      "source": [
        "#save the model \n",
        "model.save('fake_news_bert.h5')\n",
        "model.save_weights(\"fake_news_bert_weights\")"
      ],
      "metadata": {
        "id": "QJ-bd7EQ6PH-"
      },
      "execution_count": null,
      "outputs": []
    },
    {
      "cell_type": "markdown",
      "metadata": {
        "id": "VSRujeTzVerx"
      },
      "source": [
        "#ML"
      ]
    },
    {
      "cell_type": "code",
      "execution_count": 56,
      "metadata": {
        "id": "gUNG18s9VhLb"
      },
      "outputs": [],
      "source": [
        "import pandas as pd\n",
        "from sklearn.feature_extraction.text import TfidfVectorizer\n",
        "from sklearn.metrics import accuracy_score, precision_score, recall_score, f1_score\n",
        "from sklearn.model_selection import train_test_split\n",
        "\n",
        "df = pd.read_csv(\"/content/train.csv\")\n",
        "df_i = pd.read_csv(\"/content/test.csv\")\n",
        "\n",
        "text_train = df[\"text\"].apply(reWord)\n",
        "label_train = df[\"label\"]\n",
        "\n",
        "text_test = df_i[\"text\"].apply(reWord)\n",
        "\n",
        "# Convert the text data into numerical representations using TF-IDF\n",
        "vectorizer = TfidfVectorizer()\n",
        "text_train_tfidf = vectorizer.fit_transform(text_train)\n",
        "text_test_tfidf = vectorizer.transform(text_test)\n"
      ]
    },
    {
      "cell_type": "code",
      "execution_count": 57,
      "metadata": {
        "id": "6KROAuY7vUF6"
      },
      "outputs": [],
      "source": [
        "text_train_tfidf, text_val_tfidf, label_train, label_val = train_test_split(text_train_tfidf, label_train, test_size=0.1, random_state=42)"
      ]
    },
    {
      "cell_type": "markdown",
      "source": [
        "##PassiveAggressiveClassifier"
      ],
      "metadata": {
        "id": "XvVo0L0F0cxD"
      }
    },
    {
      "cell_type": "code",
      "execution_count": null,
      "metadata": {
        "colab": {
          "base_uri": "https://localhost:8080/"
        },
        "id": "UMiCiW250e6v",
        "outputId": "19088c43-144a-42ad-a491-eb02fe4a1d60"
      },
      "outputs": [
        {
          "data": {
            "text/plain": [
              "0.9142520612485276"
            ]
          },
          "execution_count": 14,
          "metadata": {},
          "output_type": "execute_result"
        }
      ],
      "source": [
        "import numpy as np\n",
        "from sklearn.linear_model import PassiveAggressiveClassifier\n",
        "\n",
        "model_PassiveAggressive = PassiveAggressiveClassifier(max_iter=10000, tol=1e-4)\n",
        "model_PassiveAggressive.fit(text_train_tfidf, label_train)\n",
        "predictions = model_PassiveAggressive.predict(text_val_tfidf)\n",
        "accuracy_score(label_val, predictions)"
      ]
    },
    {
      "cell_type": "markdown",
      "source": [
        "##LogisticRegression"
      ],
      "metadata": {
        "id": "UmO0hs_D0fCU"
      }
    },
    {
      "cell_type": "code",
      "execution_count": null,
      "metadata": {
        "colab": {
          "base_uri": "https://localhost:8080/"
        },
        "id": "lA2KMfedX6Ec",
        "outputId": "941f16f5-023e-40e4-8ebe-70464690e7ba"
      },
      "outputs": [
        {
          "data": {
            "text/plain": [
              "0.9140164899882215"
            ]
          },
          "execution_count": 11,
          "metadata": {},
          "output_type": "execute_result"
        }
      ],
      "source": [
        "from sklearn.linear_model import LogisticRegression\n",
        "\n",
        "model_LogisticRegression = LogisticRegression()\n",
        "model_LogisticRegression.fit(text_train_tfidf, label_train)\n",
        "predictions = model_LogisticRegression.predict(text_val_tfidf)\n",
        "accuracy_score(label_val, predictions)"
      ]
    },
    {
      "cell_type": "markdown",
      "source": [
        "##LogisticRegression + cross_validate"
      ],
      "metadata": {
        "id": "kabpsBqu0hCh"
      }
    },
    {
      "cell_type": "code",
      "source": [
        "from sklearn.linear_model import LogisticRegression\n",
        "from sklearn.model_selection import cross_validate\n",
        "from sklearn.metrics import accuracy_score\n",
        "\n",
        "model_LogisticRegression = LogisticRegression()\n",
        "\n",
        "cv_results = cross_validate(model_LogisticRegression, text_train_tfidf, label_train, cv=5, scoring='accuracy')\n",
        "\n",
        "print(\"Accuracy: %0.2f (+/- %0.2f)\" % (cv_results['test_score'].mean(), cv_results['test_score'].std() * 2))\n"
      ],
      "metadata": {
        "colab": {
          "base_uri": "https://localhost:8080/"
        },
        "id": "Nmr6KEbothvZ",
        "outputId": "2314ca1c-886f-4876-bc82-298ba57e3b94"
      },
      "execution_count": 59,
      "outputs": [
        {
          "output_type": "stream",
          "name": "stdout",
          "text": [
            "Accuracy: 0.92 (+/- 0.00)\n"
          ]
        }
      ]
    },
    {
      "cell_type": "code",
      "execution_count": null,
      "metadata": {
        "id": "OjyGShAJyxtY"
      },
      "outputs": [],
      "source": [
        "predictions = model_LogisticRegression.predict(text_test_tfidf)"
      ]
    },
    {
      "cell_type": "markdown",
      "source": [
        "##MultinomialNB"
      ],
      "metadata": {
        "id": "I1H2IbZI0mZg"
      }
    },
    {
      "cell_type": "code",
      "execution_count": null,
      "metadata": {
        "colab": {
          "base_uri": "https://localhost:8080/"
        },
        "id": "5CcOp0lNgeOl",
        "outputId": "04b5cbcd-cfbf-44e9-b9ce-37d21c0f7b17"
      },
      "outputs": [
        {
          "data": {
            "text/plain": [
              "0.7941107184923439"
            ]
          },
          "execution_count": 12,
          "metadata": {},
          "output_type": "execute_result"
        }
      ],
      "source": [
        "from sklearn.naive_bayes import MultinomialNB\n",
        "\n",
        "model_MultinomialNB = MultinomialNB()\n",
        "model_MultinomialNB.fit(text_train_tfidf, label_train)\n",
        "predictions = model_MultinomialNB.predict(text_val_tfidf)\n",
        "accuracy_score(label_val, predictions)"
      ]
    },
    {
      "cell_type": "markdown",
      "source": [
        "##MLPClassifier"
      ],
      "metadata": {
        "id": "2H87txkN0o7t"
      }
    },
    {
      "cell_type": "code",
      "execution_count": null,
      "metadata": {
        "colab": {
          "base_uri": "https://localhost:8080/"
        },
        "id": "Sq2eP9XbwcdZ",
        "outputId": "45d0eb25-6e15-4182-caf7-e88b68cd256f"
      },
      "outputs": [
        {
          "name": "stderr",
          "output_type": "stream",
          "text": [
            "/usr/local/lib/python3.9/dist-packages/sklearn/neural_network/_multilayer_perceptron.py:691: UserWarning: Training interrupted by user.\n",
            "  warnings.warn(\"Training interrupted by user.\")\n"
          ]
        },
        {
          "data": {
            "text/plain": [
              "0.9313898704358068"
            ]
          },
          "execution_count": 109,
          "metadata": {},
          "output_type": "execute_result"
        }
      ],
      "source": [
        "from sklearn.neural_network import MLPClassifier\n",
        "\n",
        "model_MLPClassifier = MLPClassifier() #hidden_layer_sizes=hidden_layer\n",
        "model_MLPClassifier.fit(text_train_tfidf, label_train)\n",
        "predictions = model_MLPClassifier.predict(text_val_tfidf)\n",
        "accuracy_score(label_val, predictions)"
      ]
    },
    {
      "cell_type": "code",
      "execution_count": null,
      "metadata": {
        "id": "5IV0TZ4yUH5-"
      },
      "outputs": [],
      "source": [
        "predictions = model_MLPClassifier.predict(text_test_tfidf)"
      ]
    },
    {
      "cell_type": "code",
      "execution_count": null,
      "metadata": {
        "colab": {
          "base_uri": "https://localhost:8080/"
        },
        "id": "VxWGFeOx8-D1",
        "outputId": "36928f14-3325-4391-98ba-69d6a2c41d36"
      },
      "outputs": [
        {
          "data": {
            "text/plain": [
              "[(305146, 100),\n",
              " (100, 128),\n",
              " (128, 256),\n",
              " (256, 64),\n",
              " (64, 100),\n",
              " (100, 32),\n",
              " (32, 16),\n",
              " (16, 8),\n",
              " (8, 1)]"
            ]
          },
          "execution_count": 92,
          "metadata": {},
          "output_type": "execute_result"
        }
      ],
      "source": [
        "[coef.shape for coef in model_MLPClassifier.coefs_]"
      ]
    },
    {
      "cell_type": "markdown",
      "source": [
        "##RandomForestClassifier"
      ],
      "metadata": {
        "id": "kQp_dOP10r1T"
      }
    },
    {
      "cell_type": "code",
      "source": [
        "from sklearn.ensemble import RandomForestClassifier\n",
        "from sklearn.model_selection import cross_validate\n",
        "\n",
        "RandomForest = RandomForestClassifier(n_estimators=300)\n",
        "RandomForest.fit(text_train_tfidf, label_train)\n",
        "predictions = RandomForest.predict(text_val_tfidf)\n",
        "accuracy_score(label_val, predictions)"
      ],
      "metadata": {
        "id": "sLnGYzGhrjJD"
      },
      "execution_count": null,
      "outputs": []
    },
    {
      "cell_type": "markdown",
      "source": [
        "##RandomForestClassifier + cross_validate"
      ],
      "metadata": {
        "id": "6uswAqXT0s3l"
      }
    },
    {
      "cell_type": "code",
      "source": [
        "from sklearn.ensemble import RandomForestClassifier\n",
        "from sklearn.model_selection import cross_validate\n",
        "from sklearn.metrics import accuracy_score\n",
        "\n",
        "RandomForest = RandomForestClassifier(n_estimators=300)\n",
        "\n",
        "cv_results = cross_validate(RandomForest, text_train_tfidf, label_train, cv=5, scoring='accuracy')\n",
        "\n",
        "print(\"Accuracy: %0.2f (+/- %0.2f)\" % (cv_results['test_score'].mean(), cv_results['test_score'].std() * 2))"
      ],
      "metadata": {
        "id": "lK3pMw2LtN4v"
      },
      "execution_count": null,
      "outputs": []
    },
    {
      "cell_type": "markdown",
      "source": [
        "##SVC"
      ],
      "metadata": {
        "id": "HOi6irtg0v_n"
      }
    },
    {
      "cell_type": "code",
      "execution_count": null,
      "metadata": {
        "id": "OwQo5xvNgISA"
      },
      "outputs": [],
      "source": [
        "from sklearn.svm import SVC\n",
        "\n",
        "model_clf = SVC()\n",
        "model_clf.fit(text_train_tfidf, label_train)\n",
        "predictions = model_clf.predict(text_val_tfidf)\n",
        "accuracy_score(label_val, predictions)"
      ]
    },
    {
      "cell_type": "markdown",
      "source": [
        "##VotingClassifier + cross_validate"
      ],
      "metadata": {
        "id": "g3gbaS0z0x6N"
      }
    },
    {
      "cell_type": "code",
      "execution_count": 63,
      "metadata": {
        "colab": {
          "base_uri": "https://localhost:8080/"
        },
        "id": "4WXhoowoxnV8",
        "outputId": "50e3d523-1c09-4762-8f16-fcb4c7e2bba4"
      },
      "outputs": [
        {
          "output_type": "stream",
          "name": "stdout",
          "text": [
            "Accuracy: 0.9130742049469964\n",
            "Accuracy: 0.92 (+/- 0.01)\n"
          ]
        }
      ],
      "source": [
        "# Ensemble model\n",
        "from sklearn.ensemble import VotingClassifier\n",
        "from sklearn.naive_bayes import MultinomialNB\n",
        "from sklearn.linear_model import LogisticRegression\n",
        "from sklearn.model_selection import cross_validate\n",
        "from sklearn.linear_model import LogisticRegression\n",
        "\n",
        "\n",
        "mnb = MultinomialNB()\n",
        "lr = LogisticRegression()\n",
        "mlp = PassiveAggressiveClassifier(max_iter=10000, tol=1e-4)\n",
        "\n",
        "ensemble_model = VotingClassifier(estimators=[('mnb', mnb), ('lr', lr), ('mlp', mlp)], voting='hard')\n",
        "ensemble_model.fit(text_train_tfidf, label_train)\n",
        "cv_results = cross_validate(ensemble_model, text_train_tfidf, label_train, cv=5, scoring='accuracy')\n",
        "\n",
        "predictions = ensemble_model.predict(text_val_tfidf)\n",
        "accuracy = accuracy_score(label_val, predictions)\n",
        "\n",
        "print(\"Accuracy:\", accuracy)\n",
        "print(\"Accuracy: %0.2f (+/- %0.2f)\" % (cv_results['test_score'].mean(), cv_results['test_score'].std() * 2))"
      ]
    },
    {
      "cell_type": "code",
      "source": [
        "from sklearn.model_selection import cross_val_predict\n",
        "\n",
        "predictions = cross_val_predict(ensemble_model, text_val_tfidf, label_val, cv=5)\n",
        "accuracy = accuracy_score(label_train, predictions)\n",
        "print(\"Accuracy:\", accuracy)"
      ],
      "metadata": {
        "id": "x2o7j1bI1U2l"
      },
      "execution_count": null,
      "outputs": []
    },
    {
      "cell_type": "code",
      "execution_count": null,
      "metadata": {
        "colab": {
          "base_uri": "https://localhost:8080/"
        },
        "id": "bsACd7Ik5-fF",
        "outputId": "a8a8e4ed-3eb7-4971-9b16-e3b75752bb58"
      },
      "outputs": [
        {
          "data": {
            "text/plain": [
              "0.9209658421672556"
            ]
          },
          "execution_count": 51,
          "metadata": {},
          "output_type": "execute_result"
        }
      ],
      "source": [
        "predictions = ensemble_model.predict(text_val_tfidf)\n",
        "accuracy_score(label_val, predictions)"
      ]
    },
    {
      "cell_type": "markdown",
      "metadata": {
        "id": "AfnHHmAlihPZ"
      },
      "source": [
        "#DL"
      ]
    },
    {
      "cell_type": "code",
      "execution_count": 27,
      "metadata": {
        "colab": {
          "base_uri": "https://localhost:8080/"
        },
        "id": "nJYd89iRlgDZ",
        "outputId": "8d0a590e-a4a6-45cd-a6ec-59f223b4d07e"
      },
      "outputs": [
        {
          "output_type": "stream",
          "name": "stdout",
          "text": [
            "Looking in indexes: https://pypi.org/simple, https://us-python.pkg.dev/colab-wheels/public/simple/\n",
            "Requirement already satisfied: keras in /usr/local/lib/python3.9/dist-packages (2.11.0)\n"
          ]
        }
      ],
      "source": [
        "!pip install --upgrade keras"
      ]
    },
    {
      "cell_type": "code",
      "execution_count": 64,
      "metadata": {
        "id": "1Nf1sVEBijfb"
      },
      "outputs": [],
      "source": [
        "import numpy as np\n",
        "import pandas as pd\n",
        "from tensorflow.keras.preprocessing.text import Tokenizer\n",
        "from tensorflow.keras.preprocessing.sequence import pad_sequences\n",
        "from tensorflow.keras.layers import Dense, Embedding, LSTM, GRU , Activation, RepeatVector, Bidirectional, LSTM, Dropout, Embedding #RNNs\n",
        "from tensorflow.keras.models import Sequential\n",
        "from sklearn.model_selection import train_test_split\n",
        "\n",
        "df = pd.read_csv(\"/content/train.csv\")\n",
        "df_i = pd.read_csv(\"/content/test.csv\")\n",
        "\n",
        "text_train = df[\"text\"].apply(reWord)\n",
        "label_train = df[\"label\"]\n",
        "\n",
        "text_test = df_i[\"text\"].apply(reWord)\n",
        "\n",
        "tokenizer = Tokenizer(num_words=5000)\n",
        "tokenizer.fit_on_texts(text_train)\n",
        "\n",
        "text_train_seq = tokenizer.texts_to_sequences(text_train)\n",
        "text_test_seq = tokenizer.texts_to_sequences(text_test)\n",
        "\n",
        "max_len = 481\n",
        "text_train_seq = pad_sequences(text_train_seq, maxlen=max_len)\n",
        "text_test_seq = pad_sequences(text_test_seq, maxlen=max_len)\n",
        "\n",
        "text_train_seq, text_val_seq, label_train, label_val = train_test_split(text_train_seq, label_train, test_size=0.2, random_state=42)\n",
        "\n",
        "label_train = np.array(pd.get_dummies(label_train))\n",
        "label_val = np.array(pd.get_dummies(label_val))\n",
        "\n"
      ]
    },
    {
      "cell_type": "code",
      "source": [
        "from tensorflow.keras.layers import Flatten"
      ],
      "metadata": {
        "id": "IAnQhuYP3YpO"
      },
      "execution_count": 69,
      "outputs": []
    },
    {
      "cell_type": "markdown",
      "source": [
        "##LSTM + DNN"
      ],
      "metadata": {
        "id": "WGHP5DLC5PUz"
      }
    },
    {
      "cell_type": "code",
      "execution_count": 70,
      "metadata": {
        "id": "nvCkP9Tbijan"
      },
      "outputs": [],
      "source": [
        "# Build the model\n",
        "model = Sequential()\n",
        "model.add(Embedding(5000, 128, input_length=max_len))\n",
        "# model.add(GRU(128, dropout=0.2, recurrent_dropout=0.2))\n",
        "model.add(Bidirectional(LSTM(128, dropout=0.2, recurrent_dropout=0.2 ,return_sequences=True)))\n",
        "model.add(Bidirectional(LSTM(64, return_sequences=True)))\n",
        "# model.add(LSTM(128, dropout=0.5, recurrent_dropout=0.2))\n",
        "model.add(Flatten())\n",
        "model.add(Dense(64, activation='relu'))\n",
        "model.add(Dense(2, activation='softmax'))\n",
        "model.compile(loss='categorical_crossentropy', optimizer='adam', metrics=['accuracy'])\n"
      ]
    },
    {
      "cell_type": "code",
      "execution_count": null,
      "metadata": {
        "id": "19TzyXqPm3tg"
      },
      "outputs": [],
      "source": [
        "# Train the model\n",
        "model.fit(text_train_seq, label_train, \n",
        "          validation_data=(text_val_seq, \n",
        "                           label_val), \n",
        "          epochs=5, \n",
        "          batch_size=128)"
      ]
    },
    {
      "cell_type": "code",
      "execution_count": null,
      "metadata": {
        "id": "bOJJhZuj2PIy"
      },
      "outputs": [],
      "source": [
        "from sklearn.metrics import accuracy_score"
      ]
    },
    {
      "cell_type": "code",
      "execution_count": 38,
      "metadata": {
        "colab": {
          "base_uri": "https://localhost:8080/"
        },
        "id": "oRG4-lep1KcJ",
        "outputId": "5897b082-0d72-4e6f-cf8c-2f1df36f566c"
      },
      "outputs": [
        {
          "output_type": "stream",
          "name": "stdout",
          "text": [
            "266/266 [==============================] - 1s 4ms/step\n"
          ]
        },
        {
          "output_type": "execute_result",
          "data": {
            "text/plain": [
              "0.9143698468786808"
            ]
          },
          "metadata": {},
          "execution_count": 38
        }
      ],
      "source": [
        "predictions = model.predict(text_val_seq)\n",
        "best_positions = np.argmax(predictions, axis=1)\n",
        "result = np.zeros_like(predictions, dtype=np.uint8)\n",
        "result[np.arange(len(best_positions)), best_positions] = 1\n",
        "accuracy_score(label_val, result)"
      ]
    },
    {
      "cell_type": "code",
      "execution_count": 39,
      "metadata": {
        "colab": {
          "base_uri": "https://localhost:8080/"
        },
        "id": "g0jcCWoFnIr8",
        "outputId": "86afaf81-560d-4906-dd61-3775f5b296fd"
      },
      "outputs": [
        {
          "output_type": "stream",
          "name": "stdout",
          "text": [
            "654/654 [==============================] - 3s 4ms/step\n"
          ]
        },
        {
          "output_type": "execute_result",
          "data": {
            "text/plain": [
              "173"
            ]
          },
          "metadata": {},
          "execution_count": 39
        }
      ],
      "source": [
        "prediction = model.predict(text_test_seq)\n",
        "predicted_class_index = np.argmax(prediction)\n",
        "predicted_class_index"
      ]
    },
    {
      "cell_type": "code",
      "execution_count": 40,
      "metadata": {
        "colab": {
          "base_uri": "https://localhost:8080/"
        },
        "id": "4CLxLEIp6NFB",
        "outputId": "43769805-bc07-4c38-8852-cb70e78c8c9f"
      },
      "outputs": [
        {
          "output_type": "execute_result",
          "data": {
            "text/plain": [
              "array([1, 0, 1, ..., 1, 1, 1])"
            ]
          },
          "metadata": {},
          "execution_count": 40
        }
      ],
      "source": [
        "best_positions = np.argmax(prediction, axis=1)\n",
        "best_positions"
      ]
    },
    {
      "cell_type": "markdown",
      "metadata": {
        "id": "9DNJr9fQ7yUw"
      },
      "source": [
        "# Kaggle Fake News Classification"
      ]
    },
    {
      "cell_type": "markdown",
      "source": [
        "https://www.kaggle.com/code/sabarostami/fake-news-classification"
      ],
      "metadata": {
        "id": "MKLpSkKTdRsW"
      }
    },
    {
      "cell_type": "code",
      "execution_count": 29,
      "metadata": {
        "id": "u312ofyW8Kni"
      },
      "outputs": [],
      "source": [
        "import tensorflow as tf"
      ]
    },
    {
      "cell_type": "code",
      "execution_count": 36,
      "metadata": {
        "id": "tl2Jdkm18KjW",
        "colab": {
          "base_uri": "https://localhost:8080/"
        },
        "outputId": "cfe00efa-0534-4f0d-a12c-40cd26c0cc73"
      },
      "outputs": [
        {
          "output_type": "stream",
          "name": "stdout",
          "text": [
            "Model: \"sequential_3\"\n",
            "_________________________________________________________________\n",
            " Layer (type)                Output Shape              Param #   \n",
            "=================================================================\n",
            " embedding_3 (Embedding)     (None, 481, 128)          640000    \n",
            "                                                                 \n",
            " global_average_pooling1d_2   (None, 128)              0         \n",
            " (GlobalAveragePooling1D)                                        \n",
            "                                                                 \n",
            " dense_6 (Dense)             (None, 128)               16512     \n",
            "                                                                 \n",
            " dense_7 (Dense)             (None, 64)                8256      \n",
            "                                                                 \n",
            " dense_8 (Dense)             (None, 2)                 130       \n",
            "                                                                 \n",
            "=================================================================\n",
            "Total params: 664,898\n",
            "Trainable params: 664,898\n",
            "Non-trainable params: 0\n",
            "_________________________________________________________________\n"
          ]
        }
      ],
      "source": [
        "model = tf.keras.Sequential([\n",
        "    tf.keras.layers.Embedding(5000, 128, input_length=max_len),\n",
        "    tf.keras.layers.GlobalAveragePooling1D(),\n",
        "    tf.keras.layers.Dense(128, activation='relu'),\n",
        "    tf.keras.layers.Dense(64, activation='relu'),\n",
        "    tf.keras.layers.Dense(2, activation='softmax')\n",
        "])\n",
        "\n",
        "model.compile(loss='categorical_crossentropy', optimizer='adam', metrics=['accuracy'])\n",
        "model.summary()"
      ]
    },
    {
      "cell_type": "code",
      "source": [
        "# Train the model\n",
        "model.fit(text_train_seq, label_train, \n",
        "          validation_data=(text_val_seq, \n",
        "                           label_val), \n",
        "          epochs=5, \n",
        "          batch_size=128)"
      ],
      "metadata": {
        "colab": {
          "base_uri": "https://localhost:8080/"
        },
        "id": "VJAgw5QWRrLC",
        "outputId": "54b4afdb-635a-4509-b053-45c8d8baf40e"
      },
      "execution_count": 37,
      "outputs": [
        {
          "output_type": "stream",
          "name": "stdout",
          "text": [
            "Epoch 1/5\n",
            "266/266 [==============================] - 30s 105ms/step - loss: 0.3409 - accuracy: 0.8344 - val_loss: 0.1963 - val_accuracy: 0.9271\n",
            "Epoch 2/5\n",
            "266/266 [==============================] - 13s 48ms/step - loss: 0.1695 - accuracy: 0.9346 - val_loss: 0.1948 - val_accuracy: 0.9205\n",
            "Epoch 3/5\n",
            "266/266 [==============================] - 13s 48ms/step - loss: 0.1429 - accuracy: 0.9455 - val_loss: 0.1935 - val_accuracy: 0.9272\n",
            "Epoch 4/5\n",
            "266/266 [==============================] - 12s 44ms/step - loss: 0.1263 - accuracy: 0.9511 - val_loss: 0.1943 - val_accuracy: 0.9278\n",
            "Epoch 5/5\n",
            "266/266 [==============================] - 14s 53ms/step - loss: 0.1122 - accuracy: 0.9572 - val_loss: 0.2315 - val_accuracy: 0.9144\n"
          ]
        },
        {
          "output_type": "execute_result",
          "data": {
            "text/plain": [
              "<keras.callbacks.History at 0x7f5a54290a30>"
            ]
          },
          "metadata": {},
          "execution_count": 37
        }
      ]
    },
    {
      "cell_type": "markdown",
      "source": [],
      "metadata": {
        "id": "IOOLNH2SdIF2"
      }
    },
    {
      "cell_type": "markdown",
      "metadata": {
        "id": "VYm_5y470yua"
      },
      "source": [
        "#Predict"
      ]
    },
    {
      "cell_type": "code",
      "execution_count": 42,
      "metadata": {
        "colab": {
          "base_uri": "https://localhost:8080/",
          "height": 423
        },
        "id": "mrXZb8Bm001P",
        "outputId": "fdcbe3da-f34e-4bad-c9c1-bfe3e0210a88"
      },
      "outputs": [
        {
          "output_type": "execute_result",
          "data": {
            "text/plain": [
              "                           id  \\\n",
              "0      63e2vyej6oXukEfDdoGuA5   \n",
              "1      ZjYG72fdvd6JmazkS32ZFx   \n",
              "2      ZYUhHXzaDxtncvd6nw8yiy   \n",
              "3      HejAe5F5BGKD4HUYMT9DTg   \n",
              "4      5ZjAEKgz9RCsBykjtYyp4S   \n",
              "...                       ...   \n",
              "20904  W425RhXCDso796s9LWrCye   \n",
              "20905  EWwMtde6s3skSDmLKXPojr   \n",
              "20906  afMmnJ6K3LSpsHSPbaSr45   \n",
              "20907  MCakJo4x4pkoELSiPvtgkB   \n",
              "20908  E8UBWYESTvz5JXDykmTtXX   \n",
              "\n",
              "                                                    text language  \n",
              "0      —   Holger Stark (@holger_stark) January 20, 2...  english  \n",
              "1      Can you hear us now?If they keep this up Disne...  english  \n",
              "2      “I’ve witnessed him as a businessman sitting a...  english  \n",
              "3      WASHINGTON (Sputnik) — Earlier in the day, loc...  english  \n",
              "4      A world where our resources are applied creati...  english  \n",
              "...                                                  ...      ...  \n",
              "20904  Friday on ABC’s “The View,” senior    for Brei...  english  \n",
              "20905  Conservative pundit Sean Hannity leveled what ...  english  \n",
              "20906  The court said Samsung s financial support of ...  english  \n",
              "20907  [The drapes were a change from the crimson dra...  english  \n",
              "20908  In a statement after the meeting, Iowa Republi...  english  \n",
              "\n",
              "[20909 rows x 3 columns]"
            ],
            "text/html": [
              "\n",
              "  <div id=\"df-9584c703-33d2-42b8-bc0a-fe77f4b8a17c\">\n",
              "    <div class=\"colab-df-container\">\n",
              "      <div>\n",
              "<style scoped>\n",
              "    .dataframe tbody tr th:only-of-type {\n",
              "        vertical-align: middle;\n",
              "    }\n",
              "\n",
              "    .dataframe tbody tr th {\n",
              "        vertical-align: top;\n",
              "    }\n",
              "\n",
              "    .dataframe thead th {\n",
              "        text-align: right;\n",
              "    }\n",
              "</style>\n",
              "<table border=\"1\" class=\"dataframe\">\n",
              "  <thead>\n",
              "    <tr style=\"text-align: right;\">\n",
              "      <th></th>\n",
              "      <th>id</th>\n",
              "      <th>text</th>\n",
              "      <th>language</th>\n",
              "    </tr>\n",
              "  </thead>\n",
              "  <tbody>\n",
              "    <tr>\n",
              "      <th>0</th>\n",
              "      <td>63e2vyej6oXukEfDdoGuA5</td>\n",
              "      <td>—   Holger Stark (@holger_stark) January 20, 2...</td>\n",
              "      <td>english</td>\n",
              "    </tr>\n",
              "    <tr>\n",
              "      <th>1</th>\n",
              "      <td>ZjYG72fdvd6JmazkS32ZFx</td>\n",
              "      <td>Can you hear us now?If they keep this up Disne...</td>\n",
              "      <td>english</td>\n",
              "    </tr>\n",
              "    <tr>\n",
              "      <th>2</th>\n",
              "      <td>ZYUhHXzaDxtncvd6nw8yiy</td>\n",
              "      <td>“I’ve witnessed him as a businessman sitting a...</td>\n",
              "      <td>english</td>\n",
              "    </tr>\n",
              "    <tr>\n",
              "      <th>3</th>\n",
              "      <td>HejAe5F5BGKD4HUYMT9DTg</td>\n",
              "      <td>WASHINGTON (Sputnik) — Earlier in the day, loc...</td>\n",
              "      <td>english</td>\n",
              "    </tr>\n",
              "    <tr>\n",
              "      <th>4</th>\n",
              "      <td>5ZjAEKgz9RCsBykjtYyp4S</td>\n",
              "      <td>A world where our resources are applied creati...</td>\n",
              "      <td>english</td>\n",
              "    </tr>\n",
              "    <tr>\n",
              "      <th>...</th>\n",
              "      <td>...</td>\n",
              "      <td>...</td>\n",
              "      <td>...</td>\n",
              "    </tr>\n",
              "    <tr>\n",
              "      <th>20904</th>\n",
              "      <td>W425RhXCDso796s9LWrCye</td>\n",
              "      <td>Friday on ABC’s “The View,” senior    for Brei...</td>\n",
              "      <td>english</td>\n",
              "    </tr>\n",
              "    <tr>\n",
              "      <th>20905</th>\n",
              "      <td>EWwMtde6s3skSDmLKXPojr</td>\n",
              "      <td>Conservative pundit Sean Hannity leveled what ...</td>\n",
              "      <td>english</td>\n",
              "    </tr>\n",
              "    <tr>\n",
              "      <th>20906</th>\n",
              "      <td>afMmnJ6K3LSpsHSPbaSr45</td>\n",
              "      <td>The court said Samsung s financial support of ...</td>\n",
              "      <td>english</td>\n",
              "    </tr>\n",
              "    <tr>\n",
              "      <th>20907</th>\n",
              "      <td>MCakJo4x4pkoELSiPvtgkB</td>\n",
              "      <td>[The drapes were a change from the crimson dra...</td>\n",
              "      <td>english</td>\n",
              "    </tr>\n",
              "    <tr>\n",
              "      <th>20908</th>\n",
              "      <td>E8UBWYESTvz5JXDykmTtXX</td>\n",
              "      <td>In a statement after the meeting, Iowa Republi...</td>\n",
              "      <td>english</td>\n",
              "    </tr>\n",
              "  </tbody>\n",
              "</table>\n",
              "<p>20909 rows × 3 columns</p>\n",
              "</div>\n",
              "      <button class=\"colab-df-convert\" onclick=\"convertToInteractive('df-9584c703-33d2-42b8-bc0a-fe77f4b8a17c')\"\n",
              "              title=\"Convert this dataframe to an interactive table.\"\n",
              "              style=\"display:none;\">\n",
              "        \n",
              "  <svg xmlns=\"http://www.w3.org/2000/svg\" height=\"24px\"viewBox=\"0 0 24 24\"\n",
              "       width=\"24px\">\n",
              "    <path d=\"M0 0h24v24H0V0z\" fill=\"none\"/>\n",
              "    <path d=\"M18.56 5.44l.94 2.06.94-2.06 2.06-.94-2.06-.94-.94-2.06-.94 2.06-2.06.94zm-11 1L8.5 8.5l.94-2.06 2.06-.94-2.06-.94L8.5 2.5l-.94 2.06-2.06.94zm10 10l.94 2.06.94-2.06 2.06-.94-2.06-.94-.94-2.06-.94 2.06-2.06.94z\"/><path d=\"M17.41 7.96l-1.37-1.37c-.4-.4-.92-.59-1.43-.59-.52 0-1.04.2-1.43.59L10.3 9.45l-7.72 7.72c-.78.78-.78 2.05 0 2.83L4 21.41c.39.39.9.59 1.41.59.51 0 1.02-.2 1.41-.59l7.78-7.78 2.81-2.81c.8-.78.8-2.07 0-2.86zM5.41 20L4 18.59l7.72-7.72 1.47 1.35L5.41 20z\"/>\n",
              "  </svg>\n",
              "      </button>\n",
              "      \n",
              "  <style>\n",
              "    .colab-df-container {\n",
              "      display:flex;\n",
              "      flex-wrap:wrap;\n",
              "      gap: 12px;\n",
              "    }\n",
              "\n",
              "    .colab-df-convert {\n",
              "      background-color: #E8F0FE;\n",
              "      border: none;\n",
              "      border-radius: 50%;\n",
              "      cursor: pointer;\n",
              "      display: none;\n",
              "      fill: #1967D2;\n",
              "      height: 32px;\n",
              "      padding: 0 0 0 0;\n",
              "      width: 32px;\n",
              "    }\n",
              "\n",
              "    .colab-df-convert:hover {\n",
              "      background-color: #E2EBFA;\n",
              "      box-shadow: 0px 1px 2px rgba(60, 64, 67, 0.3), 0px 1px 3px 1px rgba(60, 64, 67, 0.15);\n",
              "      fill: #174EA6;\n",
              "    }\n",
              "\n",
              "    [theme=dark] .colab-df-convert {\n",
              "      background-color: #3B4455;\n",
              "      fill: #D2E3FC;\n",
              "    }\n",
              "\n",
              "    [theme=dark] .colab-df-convert:hover {\n",
              "      background-color: #434B5C;\n",
              "      box-shadow: 0px 1px 3px 1px rgba(0, 0, 0, 0.15);\n",
              "      filter: drop-shadow(0px 1px 2px rgba(0, 0, 0, 0.3));\n",
              "      fill: #FFFFFF;\n",
              "    }\n",
              "  </style>\n",
              "\n",
              "      <script>\n",
              "        const buttonEl =\n",
              "          document.querySelector('#df-9584c703-33d2-42b8-bc0a-fe77f4b8a17c button.colab-df-convert');\n",
              "        buttonEl.style.display =\n",
              "          google.colab.kernel.accessAllowed ? 'block' : 'none';\n",
              "\n",
              "        async function convertToInteractive(key) {\n",
              "          const element = document.querySelector('#df-9584c703-33d2-42b8-bc0a-fe77f4b8a17c');\n",
              "          const dataTable =\n",
              "            await google.colab.kernel.invokeFunction('convertToInteractive',\n",
              "                                                     [key], {});\n",
              "          if (!dataTable) return;\n",
              "\n",
              "          const docLinkHtml = 'Like what you see? Visit the ' +\n",
              "            '<a target=\"_blank\" href=https://colab.research.google.com/notebooks/data_table.ipynb>data table notebook</a>'\n",
              "            + ' to learn more about interactive tables.';\n",
              "          element.innerHTML = '';\n",
              "          dataTable['output_type'] = 'display_data';\n",
              "          await google.colab.output.renderOutput(dataTable, element);\n",
              "          const docLink = document.createElement('div');\n",
              "          docLink.innerHTML = docLinkHtml;\n",
              "          element.appendChild(docLink);\n",
              "        }\n",
              "      </script>\n",
              "    </div>\n",
              "  </div>\n",
              "  "
            ]
          },
          "metadata": {},
          "execution_count": 42
        }
      ],
      "source": [
        "df_test = pd.read_csv(\"/content/test.csv\")\n",
        "df_test"
      ]
    },
    {
      "cell_type": "code",
      "execution_count": 43,
      "metadata": {
        "id": "SYV6nNLZPxaJ"
      },
      "outputs": [],
      "source": [
        "df_test[\"text\"] = df_test[\"text\"].apply(reWord)"
      ]
    },
    {
      "cell_type": "code",
      "execution_count": 44,
      "metadata": {
        "id": "J47DZWjKR4f9"
      },
      "outputs": [],
      "source": [
        "data_dict2 = {\"LABEL_0\":\"Fake\",\n",
        "              \"LABEL_1\":\"Real\"}"
      ]
    },
    {
      "cell_type": "code",
      "execution_count": null,
      "metadata": {
        "id": "vb5Hl3biQ5bO"
      },
      "outputs": [],
      "source": [
        "result = clf(df_test.text[1])\n",
        "data_dict2[result[0]['label']]"
      ]
    },
    {
      "cell_type": "code",
      "execution_count": 48,
      "metadata": {
        "colab": {
          "base_uri": "https://localhost:8080/",
          "height": 423
        },
        "id": "ZfDGZ5jftWii",
        "outputId": "96892876-75c2-4874-9513-09f60892fe54"
      },
      "outputs": [
        {
          "output_type": "execute_result",
          "data": {
            "text/plain": [
              "                           id label\n",
              "0      63e2vyej6oXukEfDdoGuA5  Real\n",
              "1      ZjYG72fdvd6JmazkS32ZFx  Fake\n",
              "2      ZYUhHXzaDxtncvd6nw8yiy  Fake\n",
              "3      HejAe5F5BGKD4HUYMT9DTg   NaN\n",
              "4      5ZjAEKgz9RCsBykjtYyp4S   NaN\n",
              "...                       ...   ...\n",
              "20904  W425RhXCDso796s9LWrCye   NaN\n",
              "20905  EWwMtde6s3skSDmLKXPojr   NaN\n",
              "20906  afMmnJ6K3LSpsHSPbaSr45   NaN\n",
              "20907  MCakJo4x4pkoELSiPvtgkB   NaN\n",
              "20908  E8UBWYESTvz5JXDykmTtXX   NaN\n",
              "\n",
              "[20909 rows x 2 columns]"
            ],
            "text/html": [
              "\n",
              "  <div id=\"df-4cb44e67-5323-48f2-8d2c-3d818d3c0851\">\n",
              "    <div class=\"colab-df-container\">\n",
              "      <div>\n",
              "<style scoped>\n",
              "    .dataframe tbody tr th:only-of-type {\n",
              "        vertical-align: middle;\n",
              "    }\n",
              "\n",
              "    .dataframe tbody tr th {\n",
              "        vertical-align: top;\n",
              "    }\n",
              "\n",
              "    .dataframe thead th {\n",
              "        text-align: right;\n",
              "    }\n",
              "</style>\n",
              "<table border=\"1\" class=\"dataframe\">\n",
              "  <thead>\n",
              "    <tr style=\"text-align: right;\">\n",
              "      <th></th>\n",
              "      <th>id</th>\n",
              "      <th>label</th>\n",
              "    </tr>\n",
              "  </thead>\n",
              "  <tbody>\n",
              "    <tr>\n",
              "      <th>0</th>\n",
              "      <td>63e2vyej6oXukEfDdoGuA5</td>\n",
              "      <td>Real</td>\n",
              "    </tr>\n",
              "    <tr>\n",
              "      <th>1</th>\n",
              "      <td>ZjYG72fdvd6JmazkS32ZFx</td>\n",
              "      <td>Fake</td>\n",
              "    </tr>\n",
              "    <tr>\n",
              "      <th>2</th>\n",
              "      <td>ZYUhHXzaDxtncvd6nw8yiy</td>\n",
              "      <td>Fake</td>\n",
              "    </tr>\n",
              "    <tr>\n",
              "      <th>3</th>\n",
              "      <td>HejAe5F5BGKD4HUYMT9DTg</td>\n",
              "      <td>NaN</td>\n",
              "    </tr>\n",
              "    <tr>\n",
              "      <th>4</th>\n",
              "      <td>5ZjAEKgz9RCsBykjtYyp4S</td>\n",
              "      <td>NaN</td>\n",
              "    </tr>\n",
              "    <tr>\n",
              "      <th>...</th>\n",
              "      <td>...</td>\n",
              "      <td>...</td>\n",
              "    </tr>\n",
              "    <tr>\n",
              "      <th>20904</th>\n",
              "      <td>W425RhXCDso796s9LWrCye</td>\n",
              "      <td>NaN</td>\n",
              "    </tr>\n",
              "    <tr>\n",
              "      <th>20905</th>\n",
              "      <td>EWwMtde6s3skSDmLKXPojr</td>\n",
              "      <td>NaN</td>\n",
              "    </tr>\n",
              "    <tr>\n",
              "      <th>20906</th>\n",
              "      <td>afMmnJ6K3LSpsHSPbaSr45</td>\n",
              "      <td>NaN</td>\n",
              "    </tr>\n",
              "    <tr>\n",
              "      <th>20907</th>\n",
              "      <td>MCakJo4x4pkoELSiPvtgkB</td>\n",
              "      <td>NaN</td>\n",
              "    </tr>\n",
              "    <tr>\n",
              "      <th>20908</th>\n",
              "      <td>E8UBWYESTvz5JXDykmTtXX</td>\n",
              "      <td>NaN</td>\n",
              "    </tr>\n",
              "  </tbody>\n",
              "</table>\n",
              "<p>20909 rows × 2 columns</p>\n",
              "</div>\n",
              "      <button class=\"colab-df-convert\" onclick=\"convertToInteractive('df-4cb44e67-5323-48f2-8d2c-3d818d3c0851')\"\n",
              "              title=\"Convert this dataframe to an interactive table.\"\n",
              "              style=\"display:none;\">\n",
              "        \n",
              "  <svg xmlns=\"http://www.w3.org/2000/svg\" height=\"24px\"viewBox=\"0 0 24 24\"\n",
              "       width=\"24px\">\n",
              "    <path d=\"M0 0h24v24H0V0z\" fill=\"none\"/>\n",
              "    <path d=\"M18.56 5.44l.94 2.06.94-2.06 2.06-.94-2.06-.94-.94-2.06-.94 2.06-2.06.94zm-11 1L8.5 8.5l.94-2.06 2.06-.94-2.06-.94L8.5 2.5l-.94 2.06-2.06.94zm10 10l.94 2.06.94-2.06 2.06-.94-2.06-.94-.94-2.06-.94 2.06-2.06.94z\"/><path d=\"M17.41 7.96l-1.37-1.37c-.4-.4-.92-.59-1.43-.59-.52 0-1.04.2-1.43.59L10.3 9.45l-7.72 7.72c-.78.78-.78 2.05 0 2.83L4 21.41c.39.39.9.59 1.41.59.51 0 1.02-.2 1.41-.59l7.78-7.78 2.81-2.81c.8-.78.8-2.07 0-2.86zM5.41 20L4 18.59l7.72-7.72 1.47 1.35L5.41 20z\"/>\n",
              "  </svg>\n",
              "      </button>\n",
              "      \n",
              "  <style>\n",
              "    .colab-df-container {\n",
              "      display:flex;\n",
              "      flex-wrap:wrap;\n",
              "      gap: 12px;\n",
              "    }\n",
              "\n",
              "    .colab-df-convert {\n",
              "      background-color: #E8F0FE;\n",
              "      border: none;\n",
              "      border-radius: 50%;\n",
              "      cursor: pointer;\n",
              "      display: none;\n",
              "      fill: #1967D2;\n",
              "      height: 32px;\n",
              "      padding: 0 0 0 0;\n",
              "      width: 32px;\n",
              "    }\n",
              "\n",
              "    .colab-df-convert:hover {\n",
              "      background-color: #E2EBFA;\n",
              "      box-shadow: 0px 1px 2px rgba(60, 64, 67, 0.3), 0px 1px 3px 1px rgba(60, 64, 67, 0.15);\n",
              "      fill: #174EA6;\n",
              "    }\n",
              "\n",
              "    [theme=dark] .colab-df-convert {\n",
              "      background-color: #3B4455;\n",
              "      fill: #D2E3FC;\n",
              "    }\n",
              "\n",
              "    [theme=dark] .colab-df-convert:hover {\n",
              "      background-color: #434B5C;\n",
              "      box-shadow: 0px 1px 3px 1px rgba(0, 0, 0, 0.15);\n",
              "      filter: drop-shadow(0px 1px 2px rgba(0, 0, 0, 0.3));\n",
              "      fill: #FFFFFF;\n",
              "    }\n",
              "  </style>\n",
              "\n",
              "      <script>\n",
              "        const buttonEl =\n",
              "          document.querySelector('#df-4cb44e67-5323-48f2-8d2c-3d818d3c0851 button.colab-df-convert');\n",
              "        buttonEl.style.display =\n",
              "          google.colab.kernel.accessAllowed ? 'block' : 'none';\n",
              "\n",
              "        async function convertToInteractive(key) {\n",
              "          const element = document.querySelector('#df-4cb44e67-5323-48f2-8d2c-3d818d3c0851');\n",
              "          const dataTable =\n",
              "            await google.colab.kernel.invokeFunction('convertToInteractive',\n",
              "                                                     [key], {});\n",
              "          if (!dataTable) return;\n",
              "\n",
              "          const docLinkHtml = 'Like what you see? Visit the ' +\n",
              "            '<a target=\"_blank\" href=https://colab.research.google.com/notebooks/data_table.ipynb>data table notebook</a>'\n",
              "            + ' to learn more about interactive tables.';\n",
              "          element.innerHTML = '';\n",
              "          dataTable['output_type'] = 'display_data';\n",
              "          await google.colab.output.renderOutput(dataTable, element);\n",
              "          const docLink = document.createElement('div');\n",
              "          docLink.innerHTML = docLinkHtml;\n",
              "          element.appendChild(docLink);\n",
              "        }\n",
              "      </script>\n",
              "    </div>\n",
              "  </div>\n",
              "  "
            ]
          },
          "metadata": {},
          "execution_count": 48
        }
      ],
      "source": [
        "df_submission = pd.read_csv(\"/content/sample_submission.csv\")\n",
        "df_submission"
      ]
    },
    {
      "cell_type": "code",
      "execution_count": null,
      "metadata": {
        "colab": {
          "base_uri": "https://localhost:8080/",
          "height": 423
        },
        "id": "xbZA6kbVS7Yf",
        "outputId": "74ec088c-5ff0-4b7a-b87c-1fccb4eb9d2b"
      },
      "outputs": [
        {
          "data": {
            "text/html": [
              "\n",
              "  <div id=\"df-565759db-f076-4911-b83f-f43c588b400c\">\n",
              "    <div class=\"colab-df-container\">\n",
              "      <div>\n",
              "<style scoped>\n",
              "    .dataframe tbody tr th:only-of-type {\n",
              "        vertical-align: middle;\n",
              "    }\n",
              "\n",
              "    .dataframe tbody tr th {\n",
              "        vertical-align: top;\n",
              "    }\n",
              "\n",
              "    .dataframe thead th {\n",
              "        text-align: right;\n",
              "    }\n",
              "</style>\n",
              "<table border=\"1\" class=\"dataframe\">\n",
              "  <thead>\n",
              "    <tr style=\"text-align: right;\">\n",
              "      <th></th>\n",
              "      <th>id</th>\n",
              "      <th>label</th>\n",
              "    </tr>\n",
              "  </thead>\n",
              "  <tbody>\n",
              "    <tr>\n",
              "      <th>0</th>\n",
              "      <td>63e2vyej6oXukEfDdoGuA5</td>\n",
              "      <td>Real</td>\n",
              "    </tr>\n",
              "    <tr>\n",
              "      <th>1</th>\n",
              "      <td>ZjYG72fdvd6JmazkS32ZFx</td>\n",
              "      <td>Fake</td>\n",
              "    </tr>\n",
              "    <tr>\n",
              "      <th>2</th>\n",
              "      <td>ZYUhHXzaDxtncvd6nw8yiy</td>\n",
              "      <td>Fake</td>\n",
              "    </tr>\n",
              "    <tr>\n",
              "      <th>3</th>\n",
              "      <td>HejAe5F5BGKD4HUYMT9DTg</td>\n",
              "      <td>Fake</td>\n",
              "    </tr>\n",
              "    <tr>\n",
              "      <th>4</th>\n",
              "      <td>5ZjAEKgz9RCsBykjtYyp4S</td>\n",
              "      <td>Fake</td>\n",
              "    </tr>\n",
              "    <tr>\n",
              "      <th>...</th>\n",
              "      <td>...</td>\n",
              "      <td>...</td>\n",
              "    </tr>\n",
              "    <tr>\n",
              "      <th>20904</th>\n",
              "      <td>W425RhXCDso796s9LWrCye</td>\n",
              "      <td>Real</td>\n",
              "    </tr>\n",
              "    <tr>\n",
              "      <th>20905</th>\n",
              "      <td>EWwMtde6s3skSDmLKXPojr</td>\n",
              "      <td>Fake</td>\n",
              "    </tr>\n",
              "    <tr>\n",
              "      <th>20906</th>\n",
              "      <td>afMmnJ6K3LSpsHSPbaSr45</td>\n",
              "      <td>Real</td>\n",
              "    </tr>\n",
              "    <tr>\n",
              "      <th>20907</th>\n",
              "      <td>MCakJo4x4pkoELSiPvtgkB</td>\n",
              "      <td>Real</td>\n",
              "    </tr>\n",
              "    <tr>\n",
              "      <th>20908</th>\n",
              "      <td>E8UBWYESTvz5JXDykmTtXX</td>\n",
              "      <td>Real</td>\n",
              "    </tr>\n",
              "  </tbody>\n",
              "</table>\n",
              "<p>20909 rows × 2 columns</p>\n",
              "</div>\n",
              "      <button class=\"colab-df-convert\" onclick=\"convertToInteractive('df-565759db-f076-4911-b83f-f43c588b400c')\"\n",
              "              title=\"Convert this dataframe to an interactive table.\"\n",
              "              style=\"display:none;\">\n",
              "        \n",
              "  <svg xmlns=\"http://www.w3.org/2000/svg\" height=\"24px\"viewBox=\"0 0 24 24\"\n",
              "       width=\"24px\">\n",
              "    <path d=\"M0 0h24v24H0V0z\" fill=\"none\"/>\n",
              "    <path d=\"M18.56 5.44l.94 2.06.94-2.06 2.06-.94-2.06-.94-.94-2.06-.94 2.06-2.06.94zm-11 1L8.5 8.5l.94-2.06 2.06-.94-2.06-.94L8.5 2.5l-.94 2.06-2.06.94zm10 10l.94 2.06.94-2.06 2.06-.94-2.06-.94-.94-2.06-.94 2.06-2.06.94z\"/><path d=\"M17.41 7.96l-1.37-1.37c-.4-.4-.92-.59-1.43-.59-.52 0-1.04.2-1.43.59L10.3 9.45l-7.72 7.72c-.78.78-.78 2.05 0 2.83L4 21.41c.39.39.9.59 1.41.59.51 0 1.02-.2 1.41-.59l7.78-7.78 2.81-2.81c.8-.78.8-2.07 0-2.86zM5.41 20L4 18.59l7.72-7.72 1.47 1.35L5.41 20z\"/>\n",
              "  </svg>\n",
              "      </button>\n",
              "      \n",
              "  <style>\n",
              "    .colab-df-container {\n",
              "      display:flex;\n",
              "      flex-wrap:wrap;\n",
              "      gap: 12px;\n",
              "    }\n",
              "\n",
              "    .colab-df-convert {\n",
              "      background-color: #E8F0FE;\n",
              "      border: none;\n",
              "      border-radius: 50%;\n",
              "      cursor: pointer;\n",
              "      display: none;\n",
              "      fill: #1967D2;\n",
              "      height: 32px;\n",
              "      padding: 0 0 0 0;\n",
              "      width: 32px;\n",
              "    }\n",
              "\n",
              "    .colab-df-convert:hover {\n",
              "      background-color: #E2EBFA;\n",
              "      box-shadow: 0px 1px 2px rgba(60, 64, 67, 0.3), 0px 1px 3px 1px rgba(60, 64, 67, 0.15);\n",
              "      fill: #174EA6;\n",
              "    }\n",
              "\n",
              "    [theme=dark] .colab-df-convert {\n",
              "      background-color: #3B4455;\n",
              "      fill: #D2E3FC;\n",
              "    }\n",
              "\n",
              "    [theme=dark] .colab-df-convert:hover {\n",
              "      background-color: #434B5C;\n",
              "      box-shadow: 0px 1px 3px 1px rgba(0, 0, 0, 0.15);\n",
              "      filter: drop-shadow(0px 1px 2px rgba(0, 0, 0, 0.3));\n",
              "      fill: #FFFFFF;\n",
              "    }\n",
              "  </style>\n",
              "\n",
              "      <script>\n",
              "        const buttonEl =\n",
              "          document.querySelector('#df-565759db-f076-4911-b83f-f43c588b400c button.colab-df-convert');\n",
              "        buttonEl.style.display =\n",
              "          google.colab.kernel.accessAllowed ? 'block' : 'none';\n",
              "\n",
              "        async function convertToInteractive(key) {\n",
              "          const element = document.querySelector('#df-565759db-f076-4911-b83f-f43c588b400c');\n",
              "          const dataTable =\n",
              "            await google.colab.kernel.invokeFunction('convertToInteractive',\n",
              "                                                     [key], {});\n",
              "          if (!dataTable) return;\n",
              "\n",
              "          const docLinkHtml = 'Like what you see? Visit the ' +\n",
              "            '<a target=\"_blank\" href=https://colab.research.google.com/notebooks/data_table.ipynb>data table notebook</a>'\n",
              "            + ' to learn more about interactive tables.';\n",
              "          element.innerHTML = '';\n",
              "          dataTable['output_type'] = 'display_data';\n",
              "          await google.colab.output.renderOutput(dataTable, element);\n",
              "          const docLink = document.createElement('div');\n",
              "          docLink.innerHTML = docLinkHtml;\n",
              "          element.appendChild(docLink);\n",
              "        }\n",
              "      </script>\n",
              "    </div>\n",
              "  </div>\n",
              "  "
            ],
            "text/plain": [
              "                           id label\n",
              "0      63e2vyej6oXukEfDdoGuA5  Real\n",
              "1      ZjYG72fdvd6JmazkS32ZFx  Fake\n",
              "2      ZYUhHXzaDxtncvd6nw8yiy  Fake\n",
              "3      HejAe5F5BGKD4HUYMT9DTg  Fake\n",
              "4      5ZjAEKgz9RCsBykjtYyp4S  Fake\n",
              "...                       ...   ...\n",
              "20904  W425RhXCDso796s9LWrCye  Real\n",
              "20905  EWwMtde6s3skSDmLKXPojr  Fake\n",
              "20906  afMmnJ6K3LSpsHSPbaSr45  Real\n",
              "20907  MCakJo4x4pkoELSiPvtgkB  Real\n",
              "20908  E8UBWYESTvz5JXDykmTtXX  Real\n",
              "\n",
              "[20909 rows x 2 columns]"
            ]
          },
          "execution_count": 263,
          "metadata": {},
          "output_type": "execute_result"
        }
      ],
      "source": [
        "df_submission2 = pd.read_csv(\"/content/Submission_SS.csv\")\n",
        "df_submission2"
      ]
    },
    {
      "cell_type": "code",
      "execution_count": null,
      "metadata": {
        "colab": {
          "base_uri": "https://localhost:8080/",
          "height": 36
        },
        "id": "gUTrNvafS_3E",
        "outputId": "7d5d07b9-26de-4770-9d77-0d6267e4f9bf"
      },
      "outputs": [
        {
          "data": {
            "application/vnd.google.colaboratory.intrinsic+json": {
              "type": "string"
            },
            "text/plain": [
              "'Fake'"
            ]
          },
          "execution_count": 264,
          "metadata": {},
          "output_type": "execute_result"
        }
      ],
      "source": [
        "df_submission2[\"label\"][12]"
      ]
    },
    {
      "cell_type": "markdown",
      "metadata": {
        "id": "8BE3ldG6dNI8"
      },
      "source": [
        "##P_transformers"
      ]
    },
    {
      "cell_type": "code",
      "execution_count": null,
      "metadata": {
        "colab": {
          "base_uri": "https://localhost:8080/",
          "height": 157
        },
        "id": "nSwfWZ8RSXJw",
        "outputId": "5045879c-1acb-44b2-d7d5-ba1567c4fe02"
      },
      "outputs": [
        {
          "data": {
            "application/vnd.google.colaboratory.intrinsic+json": {
              "type": "string"
            },
            "text/plain": [
              "'Ive witnessed hi as a businessan sitting at the desk Ive witnessed hi as a potential candidate sitting at the desk Ive witnessed hi as a candidate sitting at the desk and Ive now witnessed hi as the sitting at the desk said Kellyanne Conway a senior adviser.He is worried his aides say that he will not be able to keep his Android phone once he gets to the White House and wonders aloud how isolated he will becoe   and whether he will be able to keep in touch with his friends   without it as president.He is proud they say that he has so rapidly naed people for his cabinet and senior staff including a group of hawks and loyalists  Senator Jeff Sessions of Alabaa as attorney general  Michael T. Flynn as national security adviser  Representative Mike Popeo of Kansas as director of the C. I. A. and Stephen K. Bannon the executive chairan of Breitbart News as chief strategist.As a parade of job seekers TV talking heads and statesen like Henry Kissinger paraded through the lobby of Trup Tower this past week Mr. Trup ran his presidential transition fro his triplex on the 58th floor uch the way he ran his capaign and his business before that   schoozing rewarding loyalty foenting infighting aong advisers and oving confidently forward through a series of fits and starts.He joins a daily orning transition eeting with his faily and staff but still aintains the routine that sustained hi during the capaign starting his day at 5 a. . reading The New York Post and The New York Ties then switching on MSNBCs Morning Joe whose Joe Scarborough he once publicly savaged but now often seeks out for advice.Ahead of schedule under budget high energy trust and loyalty   theres just a pattern to the whole thing said Richard F. Hohlt a longtie Republican consultant in Washington.They say that Mr. Trup believes that Mr. Roney with his patrician bearing looks the part of a top diploat right out of central casting   the sae phrase Mr. Trup used to describe Mike Pence before choosing hi as his running ate.A senior adviser described the eeting in part as Mr. Roney siply coing to pay his respects to the and kiss his ring. And Mr. Trup has happily resued control of his Twitter feed using it to bash targets in the news edia and criticize the cast of the Broadway usical Hailton for iploring Vice Mike Pence who was in the audience Friday night to govern on behalf of all Aericans.And after he becae upset by Mr. Giulianis headlines his aides leaked the news that he was considering Gov. Nikki R. Haley of South Carolina for secretary of state   speculation that has since faded as Mr. Roneys prospects have risen.The presidency ay change hi eventually but its not going to change hi initially said Barry Bennett a forer senior adviser to the Trup capaign and a Republican strategist.Its a cofortable environent she added but now the stakes are higher. Hes a an who likes a lot of input fro a lot of people and hes soeone who has an incredible instinct for the Aerican people. People close to Mr. Trup say that aong other concerns he deterined that Mr. Christie had to go after two forer top aides were convicted by a federal jury on all charges steing fro a 2013 schee to close access lanes at the George Washington Bridge to punish a New Jersey ayor who declined to endorse Mr. Christie for  .But people close to the  say that he has such habits fored by fae wealth and the freedo to have done whatever he wanted that they reain skeptical at least for now that he will transfor to fit the constraints of the White House.He was nervous and jolted they said by the Oval Office eeting with Mr. Obaa and for the first tie appeared to take in the enorousness of the job.Suddenly he arranged a Saturday eeting with one of his fiercest critics Mitt Roney at Trup National Golf Club in Bedinster N. J. Transition officials say the eeting with Mr. Roney a oderate Republican who was the partys noinee for president in 2012 ay not have been siply for show.The forality of the setting contrasted with the freewheeling style that Mr. Trup adopts in his cluttered corner office on the 26th floor where aides his children and his longtie assistant Rhona Graff ove busily in and out as he holds court behind his desk.The setting was Mr. Trups arble and gold Louis residence on the 58th floor with sweeping views of New York and Central Park.Showanship reains central to Mr. Trup who on Thursday held his first eeting as with a foreign leader Prie Minister Shinzo Abe of Japan.There were initial reports fro senior officials within Mr. Trups orbit that Mr. Giuliani Mr. Trups ost fervent supporter in the capaigns final weeks was the leading candidate for secretary of state.Mr. Trup who does not use a coputer or read online does keep an eye on the television particularly the news about hiself.He gets angry when ebers of his inner circle get too uch of the spotlight as Rudolph W. Giuliani did when headlines about his illions of dollars in speaking fees appeared as the forer New York ayor was publicly prooting hiself to be Mr. Trups secretary of state.Donald J. Trup sits high in Trup Tower in New York spending hours on the phone with friends television personalities and donors to ask if they know people to recoend for his cabinet.Thats his ark of success. Mr. Trup who has been known to act precipitously against people who have not pleased hi did so again this past week when he reoved Gov. Chris Christie of New Jersey another longtie loyalist as the head of his transition.But the headlines about Mr. Giulianis business interests bothered Mr. Trup who was urged by several business leaders and soe edia hosts to reconsider the option.President Obaa who et with Mr. Trup two days after the election has held out hope that the gravity of the presidency will change the forer reality show star.His children ay stay there when they coe to the nations capital and there is chatter that it ay supplant Blair House which traditionally hosts foreign dignitaries visiting the president.People close to Mr. Trup nonetheless say he is ore focused now than he was in the first few days after his surprise victory.He continues to discuss with the Secret Service how uch he can return on weekends to Trup Tower and still expects to use the Bedinster golf club and his private  resort in Pal Beach Fla. as vacation retreats.'"
            ]
          },
          "execution_count": 17,
          "metadata": {},
          "output_type": "execute_result"
        }
      ],
      "source": [
        "df_test[\"text\"][2]"
      ]
    },
    {
      "cell_type": "code",
      "execution_count": null,
      "metadata": {
        "colab": {
          "base_uri": "https://localhost:8080/",
          "height": 249,
          "referenced_widgets": [
            "a956b7088f3e45c58701e4a0beffe2f3",
            "0cbc7a14de0c40e8a57e2d8e246336bc",
            "14d9231ab6004b75ab9a7a4f31341e43",
            "0869b3a94be24ecea515379d2bf2f200",
            "afbd01b700814c3a910b6d4c8e4022ee",
            "5b30ff237c58428aa27c4abaaa3a3890",
            "a3a67dccf8b1442c9a7d65da6dea0d14",
            "69d277f65b694760ac6d2908f14b63dd",
            "9eefbd465ae24b948845b558ee0d0d1e",
            "c4085060233b45fb82dce3e659c38035",
            "7982c149be0b42928c0a3b554cf70de1",
            "f6a2804a0fe54dab8f948ad9d621d74a",
            "9093ce9e04dd4294b93e715c0a37588e",
            "6b6722bcdf2b4f348ea3035412735ca0",
            "24a48fc7b3d44d378d22888588ebe9b0",
            "9ebf87bf3d56427bacb99e3c51099232",
            "deb699772682430b8777489a26b0456b",
            "cf7efd650278445ca6a4f7de5ec0c677",
            "023def7acb6f417da6f73d83d87768a4",
            "2dced758ea4e4f5192284c0e99225717",
            "8c7da9207e3a4cce865f40c74322c5d5",
            "2df8531b4e004a9ca0fc6b83636e4361",
            "1382afed0bdf4e58b352325bcc750340",
            "3cba6cbbd518420bb3f56108b523afd1",
            "7d78dfd34eff44f5bbb120e5435978bb",
            "5838c520fd1643feb929912345079aa4",
            "b46265e4eebc40dc9961dc1a74c4299f",
            "1a2f3739b9694a9080c097835ce7150e",
            "ea32f12120074179bbfc7fab0f4c7bb6",
            "fce583c8f51c49b2af628037e8f7c7db",
            "5bb6e045487a4860a194e19706696e2b",
            "c30b63ba08304f1ba075a0fe0a087db5",
            "61078a99414243a89edb7844fd2ee493",
            "905d5feee5df41c5985035d134723135",
            "c59b23d9a4d14f93bf4fe9c10f13d8fd",
            "d2d1de6236764afb911d06a879a134ec",
            "cd7c8418ca0b4d17bc4fb989b9a0feb4",
            "7bbd2d1517e74316af990fe0bb042aee",
            "cc177e0041274775b42eb38ad49baf27",
            "1c526328b5ca4e8da2874cc68167e190",
            "56f94cbec1d642d391da902dd582fb8b",
            "3c7a7d4cfaf54f5797d25b60ab5bb0af",
            "5cd7650d7dc34b058c26648fac03f1d4",
            "2b7f2ad9844a48eea2b09a2264b98beb",
            "a2fb7123939b4ffaaf6995ee9cfb109b",
            "068f12d20da74138a81ce3af222698be",
            "e3af7724acd64f94a8f29f6717138dff",
            "a93cf36ddf424140b20c3071678f0f56",
            "95d18a63261e4ca5935ce085bbcc9685",
            "a71c26404a76404ba6eaed7dcee55866",
            "da5554c4e2ab4d6bab5f6d28847d95a3",
            "2dd324b41eac46498d0ed7c609239be8",
            "46180cb920b248d08c620d23318c6d04",
            "b707258052c0485d864c035bca604e98",
            "0fc186ccd4d742fdbdb524b18a55a63a"
          ]
        },
        "id": "XEsWi-GLR7kz",
        "outputId": "f54c4604-196f-40d3-9cb9-a17e4467e9ea"
      },
      "outputs": [
        {
          "data": {
            "application/vnd.jupyter.widget-view+json": {
              "model_id": "a956b7088f3e45c58701e4a0beffe2f3",
              "version_major": 2,
              "version_minor": 0
            },
            "text/plain": [
              "Downloading (…)lve/main/config.json:   0%|          | 0.00/624 [00:00<?, ?B/s]"
            ]
          },
          "metadata": {},
          "output_type": "display_data"
        },
        {
          "data": {
            "application/vnd.jupyter.widget-view+json": {
              "model_id": "f6a2804a0fe54dab8f948ad9d621d74a",
              "version_major": 2,
              "version_minor": 0
            },
            "text/plain": [
              "Downloading (…)olve/main/vocab.json:   0%|          | 0.00/899k [00:00<?, ?B/s]"
            ]
          },
          "metadata": {},
          "output_type": "display_data"
        },
        {
          "data": {
            "application/vnd.jupyter.widget-view+json": {
              "model_id": "1382afed0bdf4e58b352325bcc750340",
              "version_major": 2,
              "version_minor": 0
            },
            "text/plain": [
              "Downloading (…)olve/main/merges.txt:   0%|          | 0.00/456k [00:00<?, ?B/s]"
            ]
          },
          "metadata": {},
          "output_type": "display_data"
        },
        {
          "data": {
            "application/vnd.jupyter.widget-view+json": {
              "model_id": "905d5feee5df41c5985035d134723135",
              "version_major": 2,
              "version_minor": 0
            },
            "text/plain": [
              "Downloading (…)/main/tokenizer.json:   0%|          | 0.00/1.36M [00:00<?, ?B/s]"
            ]
          },
          "metadata": {},
          "output_type": "display_data"
        },
        {
          "data": {
            "application/vnd.jupyter.widget-view+json": {
              "model_id": "a2fb7123939b4ffaaf6995ee9cfb109b",
              "version_major": 2,
              "version_minor": 0
            },
            "text/plain": [
              "Downloading pytorch_model.bin:   0%|          | 0.00/501M [00:00<?, ?B/s]"
            ]
          },
          "metadata": {},
          "output_type": "display_data"
        },
        {
          "name": "stderr",
          "output_type": "stream",
          "text": [
            "Some weights of the model checkpoint at roberta-base-openai-detector were not used when initializing RobertaForSequenceClassification: ['roberta.pooler.dense.weight', 'roberta.pooler.dense.bias']\n",
            "- This IS expected if you are initializing RobertaForSequenceClassification from the checkpoint of a model trained on another task or with another architecture (e.g. initializing a BertForSequenceClassification model from a BertForPreTraining model).\n",
            "- This IS NOT expected if you are initializing RobertaForSequenceClassification from the checkpoint of a model that you expect to be exactly identical (initializing a BertForSequenceClassification model from a BertForSequenceClassification model).\n"
          ]
        }
      ],
      "source": [
        "tokenizer = AutoTokenizer.from_pretrained(\"roberta-base-openai-detector\")\n",
        "model = AutoModelForSequenceClassification.from_pretrained(\"roberta-base-openai-detector\")"
      ]
    },
    {
      "cell_type": "code",
      "execution_count": null,
      "metadata": {
        "id": "-W0OQ0IVtuqo"
      },
      "outputs": [],
      "source": [
        "for idx,row in df_test.iterrows():\n",
        "  if idx > 2:\n",
        "    inputs = tokenizer(df_test[\"text\"][idx], return_tensors=\"pt\")\n",
        "    outputs = model(**inputs)\n",
        "    logits = outputs.logits.detach().tolist()[0]\n",
        "    max_index = logits.index(max(logits))\n",
        "    df_submission[\"label\"][idx] = (data_dict[max_index])\n",
        "  if idx % 100 == 0:\n",
        "    print(idx)\n",
        "\n",
        "df_submission.to_csv('Submission.csv',encoding='utf-8-sig',index=False)"
      ]
    },
    {
      "cell_type": "code",
      "execution_count": null,
      "metadata": {
        "id": "2c8U_lPr-XIc"
      },
      "outputs": [],
      "source": [
        "# 0 Real 1 Fake\n",
        "t = 0\n",
        "for idx,row in df_test.iterrows():\n",
        "  if idx > 2:\n",
        "    try:\n",
        "      result = clf(df_test.text[idx])\n",
        "      df_submission[\"label\"][idx] = data_dict2[result[idx]['label']]\n",
        "      t += 1\n",
        "    except:\n",
        "      df_submission[\"label\"][idx] = df_submission2[\"label\"][idx]\n",
        "\n",
        "    # df_submission[\"label\"][idx] = (data_dict[max_index])\n",
        "  if idx % 100 == 0:\n",
        "    print(idx)\n",
        "\n",
        "df_submission.to_csv('Submission.csv',encoding='utf-8-sig',index=False)\n",
        "t"
      ]
    },
    {
      "cell_type": "code",
      "execution_count": null,
      "metadata": {
        "colab": {
          "base_uri": "https://localhost:8080/",
          "height": 424
        },
        "id": "VMbNDgrc-zG4",
        "outputId": "c5e9eac3-d37c-4791-856f-31eb0307bc3e"
      },
      "outputs": [
        {
          "data": {
            "text/html": [
              "\n",
              "  <div id=\"df-759a0fe0-57a4-431a-91f5-d10ca63491a1\">\n",
              "    <div class=\"colab-df-container\">\n",
              "      <div>\n",
              "<style scoped>\n",
              "    .dataframe tbody tr th:only-of-type {\n",
              "        vertical-align: middle;\n",
              "    }\n",
              "\n",
              "    .dataframe tbody tr th {\n",
              "        vertical-align: top;\n",
              "    }\n",
              "\n",
              "    .dataframe thead th {\n",
              "        text-align: right;\n",
              "    }\n",
              "</style>\n",
              "<table border=\"1\" class=\"dataframe\">\n",
              "  <thead>\n",
              "    <tr style=\"text-align: right;\">\n",
              "      <th></th>\n",
              "      <th>id</th>\n",
              "      <th>label</th>\n",
              "    </tr>\n",
              "  </thead>\n",
              "  <tbody>\n",
              "    <tr>\n",
              "      <th>0</th>\n",
              "      <td>63e2vyej6oXukEfDdoGuA5</td>\n",
              "      <td>Real</td>\n",
              "    </tr>\n",
              "    <tr>\n",
              "      <th>1</th>\n",
              "      <td>ZjYG72fdvd6JmazkS32ZFx</td>\n",
              "      <td>Fake</td>\n",
              "    </tr>\n",
              "    <tr>\n",
              "      <th>2</th>\n",
              "      <td>ZYUhHXzaDxtncvd6nw8yiy</td>\n",
              "      <td>Fake</td>\n",
              "    </tr>\n",
              "    <tr>\n",
              "      <th>3</th>\n",
              "      <td>HejAe5F5BGKD4HUYMT9DTg</td>\n",
              "      <td>Fake</td>\n",
              "    </tr>\n",
              "    <tr>\n",
              "      <th>4</th>\n",
              "      <td>5ZjAEKgz9RCsBykjtYyp4S</td>\n",
              "      <td>Fake</td>\n",
              "    </tr>\n",
              "    <tr>\n",
              "      <th>...</th>\n",
              "      <td>...</td>\n",
              "      <td>...</td>\n",
              "    </tr>\n",
              "    <tr>\n",
              "      <th>20904</th>\n",
              "      <td>W425RhXCDso796s9LWrCye</td>\n",
              "      <td>Real</td>\n",
              "    </tr>\n",
              "    <tr>\n",
              "      <th>20905</th>\n",
              "      <td>EWwMtde6s3skSDmLKXPojr</td>\n",
              "      <td>Fake</td>\n",
              "    </tr>\n",
              "    <tr>\n",
              "      <th>20906</th>\n",
              "      <td>afMmnJ6K3LSpsHSPbaSr45</td>\n",
              "      <td>Real</td>\n",
              "    </tr>\n",
              "    <tr>\n",
              "      <th>20907</th>\n",
              "      <td>MCakJo4x4pkoELSiPvtgkB</td>\n",
              "      <td>Real</td>\n",
              "    </tr>\n",
              "    <tr>\n",
              "      <th>20908</th>\n",
              "      <td>E8UBWYESTvz5JXDykmTtXX</td>\n",
              "      <td>Real</td>\n",
              "    </tr>\n",
              "  </tbody>\n",
              "</table>\n",
              "<p>20909 rows × 2 columns</p>\n",
              "</div>\n",
              "      <button class=\"colab-df-convert\" onclick=\"convertToInteractive('df-759a0fe0-57a4-431a-91f5-d10ca63491a1')\"\n",
              "              title=\"Convert this dataframe to an interactive table.\"\n",
              "              style=\"display:none;\">\n",
              "        \n",
              "  <svg xmlns=\"http://www.w3.org/2000/svg\" height=\"24px\"viewBox=\"0 0 24 24\"\n",
              "       width=\"24px\">\n",
              "    <path d=\"M0 0h24v24H0V0z\" fill=\"none\"/>\n",
              "    <path d=\"M18.56 5.44l.94 2.06.94-2.06 2.06-.94-2.06-.94-.94-2.06-.94 2.06-2.06.94zm-11 1L8.5 8.5l.94-2.06 2.06-.94-2.06-.94L8.5 2.5l-.94 2.06-2.06.94zm10 10l.94 2.06.94-2.06 2.06-.94-2.06-.94-.94-2.06-.94 2.06-2.06.94z\"/><path d=\"M17.41 7.96l-1.37-1.37c-.4-.4-.92-.59-1.43-.59-.52 0-1.04.2-1.43.59L10.3 9.45l-7.72 7.72c-.78.78-.78 2.05 0 2.83L4 21.41c.39.39.9.59 1.41.59.51 0 1.02-.2 1.41-.59l7.78-7.78 2.81-2.81c.8-.78.8-2.07 0-2.86zM5.41 20L4 18.59l7.72-7.72 1.47 1.35L5.41 20z\"/>\n",
              "  </svg>\n",
              "      </button>\n",
              "      \n",
              "  <style>\n",
              "    .colab-df-container {\n",
              "      display:flex;\n",
              "      flex-wrap:wrap;\n",
              "      gap: 12px;\n",
              "    }\n",
              "\n",
              "    .colab-df-convert {\n",
              "      background-color: #E8F0FE;\n",
              "      border: none;\n",
              "      border-radius: 50%;\n",
              "      cursor: pointer;\n",
              "      display: none;\n",
              "      fill: #1967D2;\n",
              "      height: 32px;\n",
              "      padding: 0 0 0 0;\n",
              "      width: 32px;\n",
              "    }\n",
              "\n",
              "    .colab-df-convert:hover {\n",
              "      background-color: #E2EBFA;\n",
              "      box-shadow: 0px 1px 2px rgba(60, 64, 67, 0.3), 0px 1px 3px 1px rgba(60, 64, 67, 0.15);\n",
              "      fill: #174EA6;\n",
              "    }\n",
              "\n",
              "    [theme=dark] .colab-df-convert {\n",
              "      background-color: #3B4455;\n",
              "      fill: #D2E3FC;\n",
              "    }\n",
              "\n",
              "    [theme=dark] .colab-df-convert:hover {\n",
              "      background-color: #434B5C;\n",
              "      box-shadow: 0px 1px 3px 1px rgba(0, 0, 0, 0.15);\n",
              "      filter: drop-shadow(0px 1px 2px rgba(0, 0, 0, 0.3));\n",
              "      fill: #FFFFFF;\n",
              "    }\n",
              "  </style>\n",
              "\n",
              "      <script>\n",
              "        const buttonEl =\n",
              "          document.querySelector('#df-759a0fe0-57a4-431a-91f5-d10ca63491a1 button.colab-df-convert');\n",
              "        buttonEl.style.display =\n",
              "          google.colab.kernel.accessAllowed ? 'block' : 'none';\n",
              "\n",
              "        async function convertToInteractive(key) {\n",
              "          const element = document.querySelector('#df-759a0fe0-57a4-431a-91f5-d10ca63491a1');\n",
              "          const dataTable =\n",
              "            await google.colab.kernel.invokeFunction('convertToInteractive',\n",
              "                                                     [key], {});\n",
              "          if (!dataTable) return;\n",
              "\n",
              "          const docLinkHtml = 'Like what you see? Visit the ' +\n",
              "            '<a target=\"_blank\" href=https://colab.research.google.com/notebooks/data_table.ipynb>data table notebook</a>'\n",
              "            + ' to learn more about interactive tables.';\n",
              "          element.innerHTML = '';\n",
              "          dataTable['output_type'] = 'display_data';\n",
              "          await google.colab.output.renderOutput(dataTable, element);\n",
              "          const docLink = document.createElement('div');\n",
              "          docLink.innerHTML = docLinkHtml;\n",
              "          element.appendChild(docLink);\n",
              "        }\n",
              "      </script>\n",
              "    </div>\n",
              "  </div>\n",
              "  "
            ],
            "text/plain": [
              "                           id label\n",
              "0      63e2vyej6oXukEfDdoGuA5  Real\n",
              "1      ZjYG72fdvd6JmazkS32ZFx  Fake\n",
              "2      ZYUhHXzaDxtncvd6nw8yiy  Fake\n",
              "3      HejAe5F5BGKD4HUYMT9DTg  Fake\n",
              "4      5ZjAEKgz9RCsBykjtYyp4S  Fake\n",
              "...                       ...   ...\n",
              "20904  W425RhXCDso796s9LWrCye  Real\n",
              "20905  EWwMtde6s3skSDmLKXPojr  Fake\n",
              "20906  afMmnJ6K3LSpsHSPbaSr45  Real\n",
              "20907  MCakJo4x4pkoELSiPvtgkB  Real\n",
              "20908  E8UBWYESTvz5JXDykmTtXX  Real\n",
              "\n",
              "[20909 rows x 2 columns]"
            ]
          },
          "execution_count": 17,
          "metadata": {},
          "output_type": "execute_result"
        }
      ],
      "source": [
        "df_submission"
      ]
    },
    {
      "cell_type": "markdown",
      "metadata": {
        "id": "GlKqVVXcdVhX"
      },
      "source": [
        "##P_ML"
      ]
    },
    {
      "cell_type": "code",
      "execution_count": null,
      "metadata": {
        "colab": {
          "base_uri": "https://localhost:8080/"
        },
        "id": "m5oYxpYLyW8_",
        "outputId": "0d96f47e-c654-4b0d-8f9f-a1d6113b30a8"
      },
      "outputs": [
        {
          "data": {
            "text/plain": [
              "array(['Fake', 'Fake', 'Real', ..., 'Real', 'Real', 'Real'], dtype='<U4')"
            ]
          },
          "execution_count": 40,
          "metadata": {},
          "output_type": "execute_result"
        }
      ],
      "source": [
        "predictions"
      ]
    },
    {
      "cell_type": "code",
      "execution_count": 50,
      "metadata": {
        "colab": {
          "base_uri": "https://localhost:8080/"
        },
        "id": "xLcMQuhO6gsI",
        "outputId": "de9bde32-c321-45e6-8b93-f9a20ac14dbd"
      },
      "outputs": [
        {
          "output_type": "execute_result",
          "data": {
            "text/plain": [
              "array([1, 0, 1, ..., 1, 1, 1])"
            ]
          },
          "metadata": {},
          "execution_count": 50
        }
      ],
      "source": [
        "data_dict = {0:'Fake',\n",
        "             1:'Real'}\n",
        "\n",
        "best_positions"
      ]
    },
    {
      "cell_type": "code",
      "execution_count": null,
      "metadata": {
        "colab": {
          "base_uri": "https://localhost:8080/",
          "height": 35
        },
        "id": "w4BFEhmN6wUw",
        "outputId": "decf8e00-7671-4747-bf80-3ff3ba33b2b7"
      },
      "outputs": [
        {
          "data": {
            "application/vnd.google.colaboratory.intrinsic+json": {
              "type": "string"
            },
            "text/plain": [
              "'Real'"
            ]
          },
          "execution_count": 65,
          "metadata": {},
          "output_type": "execute_result"
        }
      ],
      "source": [
        "data_dict[best_positions[0]]"
      ]
    },
    {
      "cell_type": "code",
      "execution_count": null,
      "metadata": {
        "colab": {
          "base_uri": "https://localhost:8080/"
        },
        "id": "r8DP9564URBB",
        "outputId": "1108e787-d1df-4d56-be0d-ce87b81395c4"
      },
      "outputs": [
        {
          "data": {
            "text/plain": [
              "array(['Real', 'Fake', 'Real', ..., 'Real', 'Real', 'Real'], dtype='<U4')"
            ]
          },
          "execution_count": 94,
          "metadata": {},
          "output_type": "execute_result"
        }
      ],
      "source": [
        "predictions"
      ]
    },
    {
      "cell_type": "code",
      "source": [
        "for idx, row in df_test.iterrows():\n",
        "    if idx > 2:\n",
        "      df_submission[\"label\"][idx] = data_dict[best_positions[idx]]\n",
        "\n",
        "    if idx % 1000 == 0:\n",
        "      print(idx)\n",
        "\n",
        "df_submission.to_csv(\"Submission.csv\", encoding=\"utf-8-sig\", index=False)"
      ],
      "metadata": {
        "colab": {
          "base_uri": "https://localhost:8080/"
        },
        "id": "96cANcebXJs0",
        "outputId": "e4eb578b-179a-41c9-d714-1abbfb7f7179"
      },
      "execution_count": 51,
      "outputs": [
        {
          "output_type": "stream",
          "name": "stdout",
          "text": [
            "0\n",
            "1000\n",
            "2000\n",
            "3000\n",
            "4000\n",
            "5000\n",
            "6000\n",
            "7000\n",
            "8000\n",
            "9000\n",
            "10000\n",
            "11000\n",
            "12000\n",
            "13000\n",
            "14000\n",
            "15000\n",
            "16000\n",
            "17000\n",
            "18000\n",
            "19000\n",
            "20000\n"
          ]
        }
      ]
    },
    {
      "cell_type": "code",
      "source": [
        "df_submission"
      ],
      "metadata": {
        "colab": {
          "base_uri": "https://localhost:8080/",
          "height": 423
        },
        "id": "aOaXxG4QYxg3",
        "outputId": "0b9791fc-838a-4e49-895c-668321f5d9ea"
      },
      "execution_count": 52,
      "outputs": [
        {
          "output_type": "execute_result",
          "data": {
            "text/plain": [
              "                           id label\n",
              "0      63e2vyej6oXukEfDdoGuA5  Real\n",
              "1      ZjYG72fdvd6JmazkS32ZFx  Fake\n",
              "2      ZYUhHXzaDxtncvd6nw8yiy  Fake\n",
              "3      HejAe5F5BGKD4HUYMT9DTg  Real\n",
              "4      5ZjAEKgz9RCsBykjtYyp4S  Fake\n",
              "...                       ...   ...\n",
              "20904  W425RhXCDso796s9LWrCye  Real\n",
              "20905  EWwMtde6s3skSDmLKXPojr  Fake\n",
              "20906  afMmnJ6K3LSpsHSPbaSr45  Real\n",
              "20907  MCakJo4x4pkoELSiPvtgkB  Real\n",
              "20908  E8UBWYESTvz5JXDykmTtXX  Real\n",
              "\n",
              "[20909 rows x 2 columns]"
            ],
            "text/html": [
              "\n",
              "  <div id=\"df-b97b266b-8e68-4748-9cd0-f86d464b3d31\">\n",
              "    <div class=\"colab-df-container\">\n",
              "      <div>\n",
              "<style scoped>\n",
              "    .dataframe tbody tr th:only-of-type {\n",
              "        vertical-align: middle;\n",
              "    }\n",
              "\n",
              "    .dataframe tbody tr th {\n",
              "        vertical-align: top;\n",
              "    }\n",
              "\n",
              "    .dataframe thead th {\n",
              "        text-align: right;\n",
              "    }\n",
              "</style>\n",
              "<table border=\"1\" class=\"dataframe\">\n",
              "  <thead>\n",
              "    <tr style=\"text-align: right;\">\n",
              "      <th></th>\n",
              "      <th>id</th>\n",
              "      <th>label</th>\n",
              "    </tr>\n",
              "  </thead>\n",
              "  <tbody>\n",
              "    <tr>\n",
              "      <th>0</th>\n",
              "      <td>63e2vyej6oXukEfDdoGuA5</td>\n",
              "      <td>Real</td>\n",
              "    </tr>\n",
              "    <tr>\n",
              "      <th>1</th>\n",
              "      <td>ZjYG72fdvd6JmazkS32ZFx</td>\n",
              "      <td>Fake</td>\n",
              "    </tr>\n",
              "    <tr>\n",
              "      <th>2</th>\n",
              "      <td>ZYUhHXzaDxtncvd6nw8yiy</td>\n",
              "      <td>Fake</td>\n",
              "    </tr>\n",
              "    <tr>\n",
              "      <th>3</th>\n",
              "      <td>HejAe5F5BGKD4HUYMT9DTg</td>\n",
              "      <td>Real</td>\n",
              "    </tr>\n",
              "    <tr>\n",
              "      <th>4</th>\n",
              "      <td>5ZjAEKgz9RCsBykjtYyp4S</td>\n",
              "      <td>Fake</td>\n",
              "    </tr>\n",
              "    <tr>\n",
              "      <th>...</th>\n",
              "      <td>...</td>\n",
              "      <td>...</td>\n",
              "    </tr>\n",
              "    <tr>\n",
              "      <th>20904</th>\n",
              "      <td>W425RhXCDso796s9LWrCye</td>\n",
              "      <td>Real</td>\n",
              "    </tr>\n",
              "    <tr>\n",
              "      <th>20905</th>\n",
              "      <td>EWwMtde6s3skSDmLKXPojr</td>\n",
              "      <td>Fake</td>\n",
              "    </tr>\n",
              "    <tr>\n",
              "      <th>20906</th>\n",
              "      <td>afMmnJ6K3LSpsHSPbaSr45</td>\n",
              "      <td>Real</td>\n",
              "    </tr>\n",
              "    <tr>\n",
              "      <th>20907</th>\n",
              "      <td>MCakJo4x4pkoELSiPvtgkB</td>\n",
              "      <td>Real</td>\n",
              "    </tr>\n",
              "    <tr>\n",
              "      <th>20908</th>\n",
              "      <td>E8UBWYESTvz5JXDykmTtXX</td>\n",
              "      <td>Real</td>\n",
              "    </tr>\n",
              "  </tbody>\n",
              "</table>\n",
              "<p>20909 rows × 2 columns</p>\n",
              "</div>\n",
              "      <button class=\"colab-df-convert\" onclick=\"convertToInteractive('df-b97b266b-8e68-4748-9cd0-f86d464b3d31')\"\n",
              "              title=\"Convert this dataframe to an interactive table.\"\n",
              "              style=\"display:none;\">\n",
              "        \n",
              "  <svg xmlns=\"http://www.w3.org/2000/svg\" height=\"24px\"viewBox=\"0 0 24 24\"\n",
              "       width=\"24px\">\n",
              "    <path d=\"M0 0h24v24H0V0z\" fill=\"none\"/>\n",
              "    <path d=\"M18.56 5.44l.94 2.06.94-2.06 2.06-.94-2.06-.94-.94-2.06-.94 2.06-2.06.94zm-11 1L8.5 8.5l.94-2.06 2.06-.94-2.06-.94L8.5 2.5l-.94 2.06-2.06.94zm10 10l.94 2.06.94-2.06 2.06-.94-2.06-.94-.94-2.06-.94 2.06-2.06.94z\"/><path d=\"M17.41 7.96l-1.37-1.37c-.4-.4-.92-.59-1.43-.59-.52 0-1.04.2-1.43.59L10.3 9.45l-7.72 7.72c-.78.78-.78 2.05 0 2.83L4 21.41c.39.39.9.59 1.41.59.51 0 1.02-.2 1.41-.59l7.78-7.78 2.81-2.81c.8-.78.8-2.07 0-2.86zM5.41 20L4 18.59l7.72-7.72 1.47 1.35L5.41 20z\"/>\n",
              "  </svg>\n",
              "      </button>\n",
              "      \n",
              "  <style>\n",
              "    .colab-df-container {\n",
              "      display:flex;\n",
              "      flex-wrap:wrap;\n",
              "      gap: 12px;\n",
              "    }\n",
              "\n",
              "    .colab-df-convert {\n",
              "      background-color: #E8F0FE;\n",
              "      border: none;\n",
              "      border-radius: 50%;\n",
              "      cursor: pointer;\n",
              "      display: none;\n",
              "      fill: #1967D2;\n",
              "      height: 32px;\n",
              "      padding: 0 0 0 0;\n",
              "      width: 32px;\n",
              "    }\n",
              "\n",
              "    .colab-df-convert:hover {\n",
              "      background-color: #E2EBFA;\n",
              "      box-shadow: 0px 1px 2px rgba(60, 64, 67, 0.3), 0px 1px 3px 1px rgba(60, 64, 67, 0.15);\n",
              "      fill: #174EA6;\n",
              "    }\n",
              "\n",
              "    [theme=dark] .colab-df-convert {\n",
              "      background-color: #3B4455;\n",
              "      fill: #D2E3FC;\n",
              "    }\n",
              "\n",
              "    [theme=dark] .colab-df-convert:hover {\n",
              "      background-color: #434B5C;\n",
              "      box-shadow: 0px 1px 3px 1px rgba(0, 0, 0, 0.15);\n",
              "      filter: drop-shadow(0px 1px 2px rgba(0, 0, 0, 0.3));\n",
              "      fill: #FFFFFF;\n",
              "    }\n",
              "  </style>\n",
              "\n",
              "      <script>\n",
              "        const buttonEl =\n",
              "          document.querySelector('#df-b97b266b-8e68-4748-9cd0-f86d464b3d31 button.colab-df-convert');\n",
              "        buttonEl.style.display =\n",
              "          google.colab.kernel.accessAllowed ? 'block' : 'none';\n",
              "\n",
              "        async function convertToInteractive(key) {\n",
              "          const element = document.querySelector('#df-b97b266b-8e68-4748-9cd0-f86d464b3d31');\n",
              "          const dataTable =\n",
              "            await google.colab.kernel.invokeFunction('convertToInteractive',\n",
              "                                                     [key], {});\n",
              "          if (!dataTable) return;\n",
              "\n",
              "          const docLinkHtml = 'Like what you see? Visit the ' +\n",
              "            '<a target=\"_blank\" href=https://colab.research.google.com/notebooks/data_table.ipynb>data table notebook</a>'\n",
              "            + ' to learn more about interactive tables.';\n",
              "          element.innerHTML = '';\n",
              "          dataTable['output_type'] = 'display_data';\n",
              "          await google.colab.output.renderOutput(dataTable, element);\n",
              "          const docLink = document.createElement('div');\n",
              "          docLink.innerHTML = docLinkHtml;\n",
              "          element.appendChild(docLink);\n",
              "        }\n",
              "      </script>\n",
              "    </div>\n",
              "  </div>\n",
              "  "
            ]
          },
          "metadata": {},
          "execution_count": 52
        }
      ]
    },
    {
      "cell_type": "code",
      "execution_count": null,
      "metadata": {
        "colab": {
          "base_uri": "https://localhost:8080/"
        },
        "id": "RcstNwBvcGeB",
        "outputId": "fcc854d7-9345-4b5a-8fbe-8a6058c517f5"
      },
      "outputs": [
        {
          "name": "stdout",
          "output_type": "stream",
          "text": [
            "0\n",
            "1000\n",
            "2000\n",
            "3000\n",
            "4000\n",
            "5000\n",
            "6000\n",
            "7000\n",
            "8000\n",
            "9000\n",
            "10000\n",
            "11000\n",
            "12000\n",
            "13000\n",
            "14000\n",
            "15000\n",
            "16000\n",
            "17000\n",
            "18000\n",
            "19000\n",
            "20000\n"
          ]
        }
      ],
      "source": [
        "for idx, row in df_test.iterrows():\n",
        "    if idx > 2:\n",
        "      df_submission[\"label\"][idx] = predictions[idx]\n",
        "\n",
        "    if idx % 1000 == 0:\n",
        "      print(idx)\n",
        "\n",
        "df_submission.to_csv(\"Submission.csv\", encoding=\"utf-8-sig\", index=False)"
      ]
    },
    {
      "cell_type": "code",
      "execution_count": null,
      "metadata": {
        "colab": {
          "base_uri": "https://localhost:8080/",
          "height": 423
        },
        "id": "dVyVr-PZceI6",
        "outputId": "e8774568-51ae-49ef-8d5d-abc717b57adf"
      },
      "outputs": [
        {
          "data": {
            "text/html": [
              "\n",
              "  <div id=\"df-e3909406-c307-4a95-8d61-d0a883da4a3d\">\n",
              "    <div class=\"colab-df-container\">\n",
              "      <div>\n",
              "<style scoped>\n",
              "    .dataframe tbody tr th:only-of-type {\n",
              "        vertical-align: middle;\n",
              "    }\n",
              "\n",
              "    .dataframe tbody tr th {\n",
              "        vertical-align: top;\n",
              "    }\n",
              "\n",
              "    .dataframe thead th {\n",
              "        text-align: right;\n",
              "    }\n",
              "</style>\n",
              "<table border=\"1\" class=\"dataframe\">\n",
              "  <thead>\n",
              "    <tr style=\"text-align: right;\">\n",
              "      <th></th>\n",
              "      <th>id</th>\n",
              "      <th>label</th>\n",
              "    </tr>\n",
              "  </thead>\n",
              "  <tbody>\n",
              "    <tr>\n",
              "      <th>0</th>\n",
              "      <td>63e2vyej6oXukEfDdoGuA5</td>\n",
              "      <td>Real</td>\n",
              "    </tr>\n",
              "    <tr>\n",
              "      <th>1</th>\n",
              "      <td>ZjYG72fdvd6JmazkS32ZFx</td>\n",
              "      <td>Fake</td>\n",
              "    </tr>\n",
              "    <tr>\n",
              "      <th>2</th>\n",
              "      <td>ZYUhHXzaDxtncvd6nw8yiy</td>\n",
              "      <td>Fake</td>\n",
              "    </tr>\n",
              "    <tr>\n",
              "      <th>3</th>\n",
              "      <td>HejAe5F5BGKD4HUYMT9DTg</td>\n",
              "      <td>Fake</td>\n",
              "    </tr>\n",
              "    <tr>\n",
              "      <th>4</th>\n",
              "      <td>5ZjAEKgz9RCsBykjtYyp4S</td>\n",
              "      <td>Fake</td>\n",
              "    </tr>\n",
              "    <tr>\n",
              "      <th>...</th>\n",
              "      <td>...</td>\n",
              "      <td>...</td>\n",
              "    </tr>\n",
              "    <tr>\n",
              "      <th>20904</th>\n",
              "      <td>W425RhXCDso796s9LWrCye</td>\n",
              "      <td>Real</td>\n",
              "    </tr>\n",
              "    <tr>\n",
              "      <th>20905</th>\n",
              "      <td>EWwMtde6s3skSDmLKXPojr</td>\n",
              "      <td>Fake</td>\n",
              "    </tr>\n",
              "    <tr>\n",
              "      <th>20906</th>\n",
              "      <td>afMmnJ6K3LSpsHSPbaSr45</td>\n",
              "      <td>Real</td>\n",
              "    </tr>\n",
              "    <tr>\n",
              "      <th>20907</th>\n",
              "      <td>MCakJo4x4pkoELSiPvtgkB</td>\n",
              "      <td>Real</td>\n",
              "    </tr>\n",
              "    <tr>\n",
              "      <th>20908</th>\n",
              "      <td>E8UBWYESTvz5JXDykmTtXX</td>\n",
              "      <td>Real</td>\n",
              "    </tr>\n",
              "  </tbody>\n",
              "</table>\n",
              "<p>20909 rows × 2 columns</p>\n",
              "</div>\n",
              "      <button class=\"colab-df-convert\" onclick=\"convertToInteractive('df-e3909406-c307-4a95-8d61-d0a883da4a3d')\"\n",
              "              title=\"Convert this dataframe to an interactive table.\"\n",
              "              style=\"display:none;\">\n",
              "        \n",
              "  <svg xmlns=\"http://www.w3.org/2000/svg\" height=\"24px\"viewBox=\"0 0 24 24\"\n",
              "       width=\"24px\">\n",
              "    <path d=\"M0 0h24v24H0V0z\" fill=\"none\"/>\n",
              "    <path d=\"M18.56 5.44l.94 2.06.94-2.06 2.06-.94-2.06-.94-.94-2.06-.94 2.06-2.06.94zm-11 1L8.5 8.5l.94-2.06 2.06-.94-2.06-.94L8.5 2.5l-.94 2.06-2.06.94zm10 10l.94 2.06.94-2.06 2.06-.94-2.06-.94-.94-2.06-.94 2.06-2.06.94z\"/><path d=\"M17.41 7.96l-1.37-1.37c-.4-.4-.92-.59-1.43-.59-.52 0-1.04.2-1.43.59L10.3 9.45l-7.72 7.72c-.78.78-.78 2.05 0 2.83L4 21.41c.39.39.9.59 1.41.59.51 0 1.02-.2 1.41-.59l7.78-7.78 2.81-2.81c.8-.78.8-2.07 0-2.86zM5.41 20L4 18.59l7.72-7.72 1.47 1.35L5.41 20z\"/>\n",
              "  </svg>\n",
              "      </button>\n",
              "      \n",
              "  <style>\n",
              "    .colab-df-container {\n",
              "      display:flex;\n",
              "      flex-wrap:wrap;\n",
              "      gap: 12px;\n",
              "    }\n",
              "\n",
              "    .colab-df-convert {\n",
              "      background-color: #E8F0FE;\n",
              "      border: none;\n",
              "      border-radius: 50%;\n",
              "      cursor: pointer;\n",
              "      display: none;\n",
              "      fill: #1967D2;\n",
              "      height: 32px;\n",
              "      padding: 0 0 0 0;\n",
              "      width: 32px;\n",
              "    }\n",
              "\n",
              "    .colab-df-convert:hover {\n",
              "      background-color: #E2EBFA;\n",
              "      box-shadow: 0px 1px 2px rgba(60, 64, 67, 0.3), 0px 1px 3px 1px rgba(60, 64, 67, 0.15);\n",
              "      fill: #174EA6;\n",
              "    }\n",
              "\n",
              "    [theme=dark] .colab-df-convert {\n",
              "      background-color: #3B4455;\n",
              "      fill: #D2E3FC;\n",
              "    }\n",
              "\n",
              "    [theme=dark] .colab-df-convert:hover {\n",
              "      background-color: #434B5C;\n",
              "      box-shadow: 0px 1px 3px 1px rgba(0, 0, 0, 0.15);\n",
              "      filter: drop-shadow(0px 1px 2px rgba(0, 0, 0, 0.3));\n",
              "      fill: #FFFFFF;\n",
              "    }\n",
              "  </style>\n",
              "\n",
              "      <script>\n",
              "        const buttonEl =\n",
              "          document.querySelector('#df-e3909406-c307-4a95-8d61-d0a883da4a3d button.colab-df-convert');\n",
              "        buttonEl.style.display =\n",
              "          google.colab.kernel.accessAllowed ? 'block' : 'none';\n",
              "\n",
              "        async function convertToInteractive(key) {\n",
              "          const element = document.querySelector('#df-e3909406-c307-4a95-8d61-d0a883da4a3d');\n",
              "          const dataTable =\n",
              "            await google.colab.kernel.invokeFunction('convertToInteractive',\n",
              "                                                     [key], {});\n",
              "          if (!dataTable) return;\n",
              "\n",
              "          const docLinkHtml = 'Like what you see? Visit the ' +\n",
              "            '<a target=\"_blank\" href=https://colab.research.google.com/notebooks/data_table.ipynb>data table notebook</a>'\n",
              "            + ' to learn more about interactive tables.';\n",
              "          element.innerHTML = '';\n",
              "          dataTable['output_type'] = 'display_data';\n",
              "          await google.colab.output.renderOutput(dataTable, element);\n",
              "          const docLink = document.createElement('div');\n",
              "          docLink.innerHTML = docLinkHtml;\n",
              "          element.appendChild(docLink);\n",
              "        }\n",
              "      </script>\n",
              "    </div>\n",
              "  </div>\n",
              "  "
            ],
            "text/plain": [
              "                           id label\n",
              "0      63e2vyej6oXukEfDdoGuA5  Real\n",
              "1      ZjYG72fdvd6JmazkS32ZFx  Fake\n",
              "2      ZYUhHXzaDxtncvd6nw8yiy  Fake\n",
              "3      HejAe5F5BGKD4HUYMT9DTg  Fake\n",
              "4      5ZjAEKgz9RCsBykjtYyp4S  Fake\n",
              "...                       ...   ...\n",
              "20904  W425RhXCDso796s9LWrCye  Real\n",
              "20905  EWwMtde6s3skSDmLKXPojr  Fake\n",
              "20906  afMmnJ6K3LSpsHSPbaSr45  Real\n",
              "20907  MCakJo4x4pkoELSiPvtgkB  Real\n",
              "20908  E8UBWYESTvz5JXDykmTtXX  Real\n",
              "\n",
              "[20909 rows x 2 columns]"
            ]
          },
          "execution_count": 96,
          "metadata": {},
          "output_type": "execute_result"
        }
      ],
      "source": [
        "df_submission"
      ]
    },
    {
      "cell_type": "code",
      "execution_count": null,
      "metadata": {
        "colab": {
          "base_uri": "https://localhost:8080/"
        },
        "id": "L2iyaDv3ybM-",
        "outputId": "88a11e77-c896-44d7-dfda-10260094b894"
      },
      "outputs": [
        {
          "name": "stdout",
          "output_type": "stream",
          "text": [
            "0\n",
            "100\n",
            "200\n",
            "300\n",
            "400\n",
            "500\n",
            "600\n",
            "700\n",
            "800\n",
            "900\n",
            "1000\n",
            "1100\n",
            "1200\n",
            "1300\n",
            "1400\n",
            "1500\n"
          ]
        }
      ],
      "source": [
        "for idx,row in df_test.iterrows():\n",
        "  if idx > 2:\n",
        "    input_ids = tokenizer.encode(df_test[\"text\"][idx], return_tensors='pt')\n",
        "    output = modelcometrain.generate(input_ids,\n",
        "                        max_length=1515, \n",
        "                        num_beams=1, \n",
        "                        early_stopping=True)\n",
        "    generated_text = tokenizer.decode(output[0], skip_special_tokens=True)\n",
        "    if generated_text == \"true\":\n",
        "        df_submission[\"label\"][idx] = \"Real\"\n",
        "    elif generated_text == \"fake\":\n",
        "        df_submission[\"label\"][idx] = generated_text\n",
        "  if idx % 100 == 0:\n",
        "    print(idx)\n",
        "\n",
        "df_submission.to_csv('Submission.csv',encoding='utf-8-sig',index=False)"
      ]
    },
    {
      "cell_type": "markdown",
      "metadata": {
        "id": "F_nI6w94rO18"
      },
      "source": [
        "#Submission to Kaggle"
      ]
    },
    {
      "cell_type": "code",
      "execution_count": null,
      "metadata": {
        "colab": {
          "base_uri": "https://localhost:8080/"
        },
        "id": "agIA0MvcrNXi",
        "outputId": "1b90be74-13e9-4343-e940-564b3749efb4"
      },
      "outputs": [
        {
          "name": "stdout",
          "output_type": "stream",
          "text": [
            "100% 572k/572k [00:04<00:00, 141kB/s]\n",
            "Successfully submitted to Hackathon Online: Fake News Classification"
          ]
        }
      ],
      "source": [
        "!kaggle competitions submit -c hackathon-online-fake-news-classification -f /content/Submission.csv -m \"time 1 random\""
      ]
    },
    {
      "cell_type": "code",
      "execution_count": null,
      "metadata": {
        "id": "dyCJJQUBvdkh"
      },
      "outputs": [],
      "source": []
    }
  ],
  "metadata": {
    "accelerator": "GPU",
    "colab": {
      "provenance": [],
      "machine_shape": "hm"
    },
    "gpuClass": "standard",
    "kernelspec": {
      "display_name": "Python 3",
      "name": "python3"
    },
    "language_info": {
      "name": "python"
    },
    "widgets": {
      "application/vnd.jupyter.widget-state+json": {
        "023def7acb6f417da6f73d83d87768a4": {
          "model_module": "@jupyter-widgets/base",
          "model_module_version": "1.2.0",
          "model_name": "LayoutModel",
          "state": {
            "_model_module": "@jupyter-widgets/base",
            "_model_module_version": "1.2.0",
            "_model_name": "LayoutModel",
            "_view_count": null,
            "_view_module": "@jupyter-widgets/base",
            "_view_module_version": "1.2.0",
            "_view_name": "LayoutView",
            "align_content": null,
            "align_items": null,
            "align_self": null,
            "border": null,
            "bottom": null,
            "display": null,
            "flex": null,
            "flex_flow": null,
            "grid_area": null,
            "grid_auto_columns": null,
            "grid_auto_flow": null,
            "grid_auto_rows": null,
            "grid_column": null,
            "grid_gap": null,
            "grid_row": null,
            "grid_template_areas": null,
            "grid_template_columns": null,
            "grid_template_rows": null,
            "height": null,
            "justify_content": null,
            "justify_items": null,
            "left": null,
            "margin": null,
            "max_height": null,
            "max_width": null,
            "min_height": null,
            "min_width": null,
            "object_fit": null,
            "object_position": null,
            "order": null,
            "overflow": null,
            "overflow_x": null,
            "overflow_y": null,
            "padding": null,
            "right": null,
            "top": null,
            "visibility": null,
            "width": null
          }
        },
        "068f12d20da74138a81ce3af222698be": {
          "model_module": "@jupyter-widgets/controls",
          "model_module_version": "1.5.0",
          "model_name": "HTMLModel",
          "state": {
            "_dom_classes": [],
            "_model_module": "@jupyter-widgets/controls",
            "_model_module_version": "1.5.0",
            "_model_name": "HTMLModel",
            "_view_count": null,
            "_view_module": "@jupyter-widgets/controls",
            "_view_module_version": "1.5.0",
            "_view_name": "HTMLView",
            "description": "",
            "description_tooltip": null,
            "layout": "IPY_MODEL_a71c26404a76404ba6eaed7dcee55866",
            "placeholder": "​",
            "style": "IPY_MODEL_da5554c4e2ab4d6bab5f6d28847d95a3",
            "value": "Downloading pytorch_model.bin: 100%"
          }
        },
        "0869b3a94be24ecea515379d2bf2f200": {
          "model_module": "@jupyter-widgets/controls",
          "model_module_version": "1.5.0",
          "model_name": "HTMLModel",
          "state": {
            "_dom_classes": [],
            "_model_module": "@jupyter-widgets/controls",
            "_model_module_version": "1.5.0",
            "_model_name": "HTMLModel",
            "_view_count": null,
            "_view_module": "@jupyter-widgets/controls",
            "_view_module_version": "1.5.0",
            "_view_name": "HTMLView",
            "description": "",
            "description_tooltip": null,
            "layout": "IPY_MODEL_c4085060233b45fb82dce3e659c38035",
            "placeholder": "​",
            "style": "IPY_MODEL_7982c149be0b42928c0a3b554cf70de1",
            "value": " 624/624 [00:00&lt;00:00, 43.1kB/s]"
          }
        },
        "0cbc7a14de0c40e8a57e2d8e246336bc": {
          "model_module": "@jupyter-widgets/controls",
          "model_module_version": "1.5.0",
          "model_name": "HTMLModel",
          "state": {
            "_dom_classes": [],
            "_model_module": "@jupyter-widgets/controls",
            "_model_module_version": "1.5.0",
            "_model_name": "HTMLModel",
            "_view_count": null,
            "_view_module": "@jupyter-widgets/controls",
            "_view_module_version": "1.5.0",
            "_view_name": "HTMLView",
            "description": "",
            "description_tooltip": null,
            "layout": "IPY_MODEL_5b30ff237c58428aa27c4abaaa3a3890",
            "placeholder": "​",
            "style": "IPY_MODEL_a3a67dccf8b1442c9a7d65da6dea0d14",
            "value": "Downloading (…)lve/main/config.json: 100%"
          }
        },
        "0fc186ccd4d742fdbdb524b18a55a63a": {
          "model_module": "@jupyter-widgets/controls",
          "model_module_version": "1.5.0",
          "model_name": "DescriptionStyleModel",
          "state": {
            "_model_module": "@jupyter-widgets/controls",
            "_model_module_version": "1.5.0",
            "_model_name": "DescriptionStyleModel",
            "_view_count": null,
            "_view_module": "@jupyter-widgets/base",
            "_view_module_version": "1.2.0",
            "_view_name": "StyleView",
            "description_width": ""
          }
        },
        "1382afed0bdf4e58b352325bcc750340": {
          "model_module": "@jupyter-widgets/controls",
          "model_module_version": "1.5.0",
          "model_name": "HBoxModel",
          "state": {
            "_dom_classes": [],
            "_model_module": "@jupyter-widgets/controls",
            "_model_module_version": "1.5.0",
            "_model_name": "HBoxModel",
            "_view_count": null,
            "_view_module": "@jupyter-widgets/controls",
            "_view_module_version": "1.5.0",
            "_view_name": "HBoxView",
            "box_style": "",
            "children": [
              "IPY_MODEL_3cba6cbbd518420bb3f56108b523afd1",
              "IPY_MODEL_7d78dfd34eff44f5bbb120e5435978bb",
              "IPY_MODEL_5838c520fd1643feb929912345079aa4"
            ],
            "layout": "IPY_MODEL_b46265e4eebc40dc9961dc1a74c4299f"
          }
        },
        "14d9231ab6004b75ab9a7a4f31341e43": {
          "model_module": "@jupyter-widgets/controls",
          "model_module_version": "1.5.0",
          "model_name": "FloatProgressModel",
          "state": {
            "_dom_classes": [],
            "_model_module": "@jupyter-widgets/controls",
            "_model_module_version": "1.5.0",
            "_model_name": "FloatProgressModel",
            "_view_count": null,
            "_view_module": "@jupyter-widgets/controls",
            "_view_module_version": "1.5.0",
            "_view_name": "ProgressView",
            "bar_style": "success",
            "description": "",
            "description_tooltip": null,
            "layout": "IPY_MODEL_69d277f65b694760ac6d2908f14b63dd",
            "max": 624,
            "min": 0,
            "orientation": "horizontal",
            "style": "IPY_MODEL_9eefbd465ae24b948845b558ee0d0d1e",
            "value": 624
          }
        },
        "1a2f3739b9694a9080c097835ce7150e": {
          "model_module": "@jupyter-widgets/base",
          "model_module_version": "1.2.0",
          "model_name": "LayoutModel",
          "state": {
            "_model_module": "@jupyter-widgets/base",
            "_model_module_version": "1.2.0",
            "_model_name": "LayoutModel",
            "_view_count": null,
            "_view_module": "@jupyter-widgets/base",
            "_view_module_version": "1.2.0",
            "_view_name": "LayoutView",
            "align_content": null,
            "align_items": null,
            "align_self": null,
            "border": null,
            "bottom": null,
            "display": null,
            "flex": null,
            "flex_flow": null,
            "grid_area": null,
            "grid_auto_columns": null,
            "grid_auto_flow": null,
            "grid_auto_rows": null,
            "grid_column": null,
            "grid_gap": null,
            "grid_row": null,
            "grid_template_areas": null,
            "grid_template_columns": null,
            "grid_template_rows": null,
            "height": null,
            "justify_content": null,
            "justify_items": null,
            "left": null,
            "margin": null,
            "max_height": null,
            "max_width": null,
            "min_height": null,
            "min_width": null,
            "object_fit": null,
            "object_position": null,
            "order": null,
            "overflow": null,
            "overflow_x": null,
            "overflow_y": null,
            "padding": null,
            "right": null,
            "top": null,
            "visibility": null,
            "width": null
          }
        },
        "1c526328b5ca4e8da2874cc68167e190": {
          "model_module": "@jupyter-widgets/controls",
          "model_module_version": "1.5.0",
          "model_name": "DescriptionStyleModel",
          "state": {
            "_model_module": "@jupyter-widgets/controls",
            "_model_module_version": "1.5.0",
            "_model_name": "DescriptionStyleModel",
            "_view_count": null,
            "_view_module": "@jupyter-widgets/base",
            "_view_module_version": "1.2.0",
            "_view_name": "StyleView",
            "description_width": ""
          }
        },
        "24a48fc7b3d44d378d22888588ebe9b0": {
          "model_module": "@jupyter-widgets/controls",
          "model_module_version": "1.5.0",
          "model_name": "HTMLModel",
          "state": {
            "_dom_classes": [],
            "_model_module": "@jupyter-widgets/controls",
            "_model_module_version": "1.5.0",
            "_model_name": "HTMLModel",
            "_view_count": null,
            "_view_module": "@jupyter-widgets/controls",
            "_view_module_version": "1.5.0",
            "_view_name": "HTMLView",
            "description": "",
            "description_tooltip": null,
            "layout": "IPY_MODEL_8c7da9207e3a4cce865f40c74322c5d5",
            "placeholder": "​",
            "style": "IPY_MODEL_2df8531b4e004a9ca0fc6b83636e4361",
            "value": " 899k/899k [00:01&lt;00:00, 793kB/s]"
          }
        },
        "2b7f2ad9844a48eea2b09a2264b98beb": {
          "model_module": "@jupyter-widgets/controls",
          "model_module_version": "1.5.0",
          "model_name": "DescriptionStyleModel",
          "state": {
            "_model_module": "@jupyter-widgets/controls",
            "_model_module_version": "1.5.0",
            "_model_name": "DescriptionStyleModel",
            "_view_count": null,
            "_view_module": "@jupyter-widgets/base",
            "_view_module_version": "1.2.0",
            "_view_name": "StyleView",
            "description_width": ""
          }
        },
        "2dced758ea4e4f5192284c0e99225717": {
          "model_module": "@jupyter-widgets/controls",
          "model_module_version": "1.5.0",
          "model_name": "ProgressStyleModel",
          "state": {
            "_model_module": "@jupyter-widgets/controls",
            "_model_module_version": "1.5.0",
            "_model_name": "ProgressStyleModel",
            "_view_count": null,
            "_view_module": "@jupyter-widgets/base",
            "_view_module_version": "1.2.0",
            "_view_name": "StyleView",
            "bar_color": null,
            "description_width": ""
          }
        },
        "2dd324b41eac46498d0ed7c609239be8": {
          "model_module": "@jupyter-widgets/base",
          "model_module_version": "1.2.0",
          "model_name": "LayoutModel",
          "state": {
            "_model_module": "@jupyter-widgets/base",
            "_model_module_version": "1.2.0",
            "_model_name": "LayoutModel",
            "_view_count": null,
            "_view_module": "@jupyter-widgets/base",
            "_view_module_version": "1.2.0",
            "_view_name": "LayoutView",
            "align_content": null,
            "align_items": null,
            "align_self": null,
            "border": null,
            "bottom": null,
            "display": null,
            "flex": null,
            "flex_flow": null,
            "grid_area": null,
            "grid_auto_columns": null,
            "grid_auto_flow": null,
            "grid_auto_rows": null,
            "grid_column": null,
            "grid_gap": null,
            "grid_row": null,
            "grid_template_areas": null,
            "grid_template_columns": null,
            "grid_template_rows": null,
            "height": null,
            "justify_content": null,
            "justify_items": null,
            "left": null,
            "margin": null,
            "max_height": null,
            "max_width": null,
            "min_height": null,
            "min_width": null,
            "object_fit": null,
            "object_position": null,
            "order": null,
            "overflow": null,
            "overflow_x": null,
            "overflow_y": null,
            "padding": null,
            "right": null,
            "top": null,
            "visibility": null,
            "width": null
          }
        },
        "2df8531b4e004a9ca0fc6b83636e4361": {
          "model_module": "@jupyter-widgets/controls",
          "model_module_version": "1.5.0",
          "model_name": "DescriptionStyleModel",
          "state": {
            "_model_module": "@jupyter-widgets/controls",
            "_model_module_version": "1.5.0",
            "_model_name": "DescriptionStyleModel",
            "_view_count": null,
            "_view_module": "@jupyter-widgets/base",
            "_view_module_version": "1.2.0",
            "_view_name": "StyleView",
            "description_width": ""
          }
        },
        "3c7a7d4cfaf54f5797d25b60ab5bb0af": {
          "model_module": "@jupyter-widgets/controls",
          "model_module_version": "1.5.0",
          "model_name": "ProgressStyleModel",
          "state": {
            "_model_module": "@jupyter-widgets/controls",
            "_model_module_version": "1.5.0",
            "_model_name": "ProgressStyleModel",
            "_view_count": null,
            "_view_module": "@jupyter-widgets/base",
            "_view_module_version": "1.2.0",
            "_view_name": "StyleView",
            "bar_color": null,
            "description_width": ""
          }
        },
        "3cba6cbbd518420bb3f56108b523afd1": {
          "model_module": "@jupyter-widgets/controls",
          "model_module_version": "1.5.0",
          "model_name": "HTMLModel",
          "state": {
            "_dom_classes": [],
            "_model_module": "@jupyter-widgets/controls",
            "_model_module_version": "1.5.0",
            "_model_name": "HTMLModel",
            "_view_count": null,
            "_view_module": "@jupyter-widgets/controls",
            "_view_module_version": "1.5.0",
            "_view_name": "HTMLView",
            "description": "",
            "description_tooltip": null,
            "layout": "IPY_MODEL_1a2f3739b9694a9080c097835ce7150e",
            "placeholder": "​",
            "style": "IPY_MODEL_ea32f12120074179bbfc7fab0f4c7bb6",
            "value": "Downloading (…)olve/main/merges.txt: 100%"
          }
        },
        "46180cb920b248d08c620d23318c6d04": {
          "model_module": "@jupyter-widgets/controls",
          "model_module_version": "1.5.0",
          "model_name": "ProgressStyleModel",
          "state": {
            "_model_module": "@jupyter-widgets/controls",
            "_model_module_version": "1.5.0",
            "_model_name": "ProgressStyleModel",
            "_view_count": null,
            "_view_module": "@jupyter-widgets/base",
            "_view_module_version": "1.2.0",
            "_view_name": "StyleView",
            "bar_color": null,
            "description_width": ""
          }
        },
        "56f94cbec1d642d391da902dd582fb8b": {
          "model_module": "@jupyter-widgets/base",
          "model_module_version": "1.2.0",
          "model_name": "LayoutModel",
          "state": {
            "_model_module": "@jupyter-widgets/base",
            "_model_module_version": "1.2.0",
            "_model_name": "LayoutModel",
            "_view_count": null,
            "_view_module": "@jupyter-widgets/base",
            "_view_module_version": "1.2.0",
            "_view_name": "LayoutView",
            "align_content": null,
            "align_items": null,
            "align_self": null,
            "border": null,
            "bottom": null,
            "display": null,
            "flex": null,
            "flex_flow": null,
            "grid_area": null,
            "grid_auto_columns": null,
            "grid_auto_flow": null,
            "grid_auto_rows": null,
            "grid_column": null,
            "grid_gap": null,
            "grid_row": null,
            "grid_template_areas": null,
            "grid_template_columns": null,
            "grid_template_rows": null,
            "height": null,
            "justify_content": null,
            "justify_items": null,
            "left": null,
            "margin": null,
            "max_height": null,
            "max_width": null,
            "min_height": null,
            "min_width": null,
            "object_fit": null,
            "object_position": null,
            "order": null,
            "overflow": null,
            "overflow_x": null,
            "overflow_y": null,
            "padding": null,
            "right": null,
            "top": null,
            "visibility": null,
            "width": null
          }
        },
        "5838c520fd1643feb929912345079aa4": {
          "model_module": "@jupyter-widgets/controls",
          "model_module_version": "1.5.0",
          "model_name": "HTMLModel",
          "state": {
            "_dom_classes": [],
            "_model_module": "@jupyter-widgets/controls",
            "_model_module_version": "1.5.0",
            "_model_name": "HTMLModel",
            "_view_count": null,
            "_view_module": "@jupyter-widgets/controls",
            "_view_module_version": "1.5.0",
            "_view_name": "HTMLView",
            "description": "",
            "description_tooltip": null,
            "layout": "IPY_MODEL_c30b63ba08304f1ba075a0fe0a087db5",
            "placeholder": "​",
            "style": "IPY_MODEL_61078a99414243a89edb7844fd2ee493",
            "value": " 456k/456k [00:00&lt;00:00, 501kB/s]"
          }
        },
        "5b30ff237c58428aa27c4abaaa3a3890": {
          "model_module": "@jupyter-widgets/base",
          "model_module_version": "1.2.0",
          "model_name": "LayoutModel",
          "state": {
            "_model_module": "@jupyter-widgets/base",
            "_model_module_version": "1.2.0",
            "_model_name": "LayoutModel",
            "_view_count": null,
            "_view_module": "@jupyter-widgets/base",
            "_view_module_version": "1.2.0",
            "_view_name": "LayoutView",
            "align_content": null,
            "align_items": null,
            "align_self": null,
            "border": null,
            "bottom": null,
            "display": null,
            "flex": null,
            "flex_flow": null,
            "grid_area": null,
            "grid_auto_columns": null,
            "grid_auto_flow": null,
            "grid_auto_rows": null,
            "grid_column": null,
            "grid_gap": null,
            "grid_row": null,
            "grid_template_areas": null,
            "grid_template_columns": null,
            "grid_template_rows": null,
            "height": null,
            "justify_content": null,
            "justify_items": null,
            "left": null,
            "margin": null,
            "max_height": null,
            "max_width": null,
            "min_height": null,
            "min_width": null,
            "object_fit": null,
            "object_position": null,
            "order": null,
            "overflow": null,
            "overflow_x": null,
            "overflow_y": null,
            "padding": null,
            "right": null,
            "top": null,
            "visibility": null,
            "width": null
          }
        },
        "5bb6e045487a4860a194e19706696e2b": {
          "model_module": "@jupyter-widgets/controls",
          "model_module_version": "1.5.0",
          "model_name": "ProgressStyleModel",
          "state": {
            "_model_module": "@jupyter-widgets/controls",
            "_model_module_version": "1.5.0",
            "_model_name": "ProgressStyleModel",
            "_view_count": null,
            "_view_module": "@jupyter-widgets/base",
            "_view_module_version": "1.2.0",
            "_view_name": "StyleView",
            "bar_color": null,
            "description_width": ""
          }
        },
        "5cd7650d7dc34b058c26648fac03f1d4": {
          "model_module": "@jupyter-widgets/base",
          "model_module_version": "1.2.0",
          "model_name": "LayoutModel",
          "state": {
            "_model_module": "@jupyter-widgets/base",
            "_model_module_version": "1.2.0",
            "_model_name": "LayoutModel",
            "_view_count": null,
            "_view_module": "@jupyter-widgets/base",
            "_view_module_version": "1.2.0",
            "_view_name": "LayoutView",
            "align_content": null,
            "align_items": null,
            "align_self": null,
            "border": null,
            "bottom": null,
            "display": null,
            "flex": null,
            "flex_flow": null,
            "grid_area": null,
            "grid_auto_columns": null,
            "grid_auto_flow": null,
            "grid_auto_rows": null,
            "grid_column": null,
            "grid_gap": null,
            "grid_row": null,
            "grid_template_areas": null,
            "grid_template_columns": null,
            "grid_template_rows": null,
            "height": null,
            "justify_content": null,
            "justify_items": null,
            "left": null,
            "margin": null,
            "max_height": null,
            "max_width": null,
            "min_height": null,
            "min_width": null,
            "object_fit": null,
            "object_position": null,
            "order": null,
            "overflow": null,
            "overflow_x": null,
            "overflow_y": null,
            "padding": null,
            "right": null,
            "top": null,
            "visibility": null,
            "width": null
          }
        },
        "61078a99414243a89edb7844fd2ee493": {
          "model_module": "@jupyter-widgets/controls",
          "model_module_version": "1.5.0",
          "model_name": "DescriptionStyleModel",
          "state": {
            "_model_module": "@jupyter-widgets/controls",
            "_model_module_version": "1.5.0",
            "_model_name": "DescriptionStyleModel",
            "_view_count": null,
            "_view_module": "@jupyter-widgets/base",
            "_view_module_version": "1.2.0",
            "_view_name": "StyleView",
            "description_width": ""
          }
        },
        "69d277f65b694760ac6d2908f14b63dd": {
          "model_module": "@jupyter-widgets/base",
          "model_module_version": "1.2.0",
          "model_name": "LayoutModel",
          "state": {
            "_model_module": "@jupyter-widgets/base",
            "_model_module_version": "1.2.0",
            "_model_name": "LayoutModel",
            "_view_count": null,
            "_view_module": "@jupyter-widgets/base",
            "_view_module_version": "1.2.0",
            "_view_name": "LayoutView",
            "align_content": null,
            "align_items": null,
            "align_self": null,
            "border": null,
            "bottom": null,
            "display": null,
            "flex": null,
            "flex_flow": null,
            "grid_area": null,
            "grid_auto_columns": null,
            "grid_auto_flow": null,
            "grid_auto_rows": null,
            "grid_column": null,
            "grid_gap": null,
            "grid_row": null,
            "grid_template_areas": null,
            "grid_template_columns": null,
            "grid_template_rows": null,
            "height": null,
            "justify_content": null,
            "justify_items": null,
            "left": null,
            "margin": null,
            "max_height": null,
            "max_width": null,
            "min_height": null,
            "min_width": null,
            "object_fit": null,
            "object_position": null,
            "order": null,
            "overflow": null,
            "overflow_x": null,
            "overflow_y": null,
            "padding": null,
            "right": null,
            "top": null,
            "visibility": null,
            "width": null
          }
        },
        "6b6722bcdf2b4f348ea3035412735ca0": {
          "model_module": "@jupyter-widgets/controls",
          "model_module_version": "1.5.0",
          "model_name": "FloatProgressModel",
          "state": {
            "_dom_classes": [],
            "_model_module": "@jupyter-widgets/controls",
            "_model_module_version": "1.5.0",
            "_model_name": "FloatProgressModel",
            "_view_count": null,
            "_view_module": "@jupyter-widgets/controls",
            "_view_module_version": "1.5.0",
            "_view_name": "ProgressView",
            "bar_style": "success",
            "description": "",
            "description_tooltip": null,
            "layout": "IPY_MODEL_023def7acb6f417da6f73d83d87768a4",
            "max": 898823,
            "min": 0,
            "orientation": "horizontal",
            "style": "IPY_MODEL_2dced758ea4e4f5192284c0e99225717",
            "value": 898823
          }
        },
        "7982c149be0b42928c0a3b554cf70de1": {
          "model_module": "@jupyter-widgets/controls",
          "model_module_version": "1.5.0",
          "model_name": "DescriptionStyleModel",
          "state": {
            "_model_module": "@jupyter-widgets/controls",
            "_model_module_version": "1.5.0",
            "_model_name": "DescriptionStyleModel",
            "_view_count": null,
            "_view_module": "@jupyter-widgets/base",
            "_view_module_version": "1.2.0",
            "_view_name": "StyleView",
            "description_width": ""
          }
        },
        "7bbd2d1517e74316af990fe0bb042aee": {
          "model_module": "@jupyter-widgets/base",
          "model_module_version": "1.2.0",
          "model_name": "LayoutModel",
          "state": {
            "_model_module": "@jupyter-widgets/base",
            "_model_module_version": "1.2.0",
            "_model_name": "LayoutModel",
            "_view_count": null,
            "_view_module": "@jupyter-widgets/base",
            "_view_module_version": "1.2.0",
            "_view_name": "LayoutView",
            "align_content": null,
            "align_items": null,
            "align_self": null,
            "border": null,
            "bottom": null,
            "display": null,
            "flex": null,
            "flex_flow": null,
            "grid_area": null,
            "grid_auto_columns": null,
            "grid_auto_flow": null,
            "grid_auto_rows": null,
            "grid_column": null,
            "grid_gap": null,
            "grid_row": null,
            "grid_template_areas": null,
            "grid_template_columns": null,
            "grid_template_rows": null,
            "height": null,
            "justify_content": null,
            "justify_items": null,
            "left": null,
            "margin": null,
            "max_height": null,
            "max_width": null,
            "min_height": null,
            "min_width": null,
            "object_fit": null,
            "object_position": null,
            "order": null,
            "overflow": null,
            "overflow_x": null,
            "overflow_y": null,
            "padding": null,
            "right": null,
            "top": null,
            "visibility": null,
            "width": null
          }
        },
        "7d78dfd34eff44f5bbb120e5435978bb": {
          "model_module": "@jupyter-widgets/controls",
          "model_module_version": "1.5.0",
          "model_name": "FloatProgressModel",
          "state": {
            "_dom_classes": [],
            "_model_module": "@jupyter-widgets/controls",
            "_model_module_version": "1.5.0",
            "_model_name": "FloatProgressModel",
            "_view_count": null,
            "_view_module": "@jupyter-widgets/controls",
            "_view_module_version": "1.5.0",
            "_view_name": "ProgressView",
            "bar_style": "success",
            "description": "",
            "description_tooltip": null,
            "layout": "IPY_MODEL_fce583c8f51c49b2af628037e8f7c7db",
            "max": 456318,
            "min": 0,
            "orientation": "horizontal",
            "style": "IPY_MODEL_5bb6e045487a4860a194e19706696e2b",
            "value": 456318
          }
        },
        "8c7da9207e3a4cce865f40c74322c5d5": {
          "model_module": "@jupyter-widgets/base",
          "model_module_version": "1.2.0",
          "model_name": "LayoutModel",
          "state": {
            "_model_module": "@jupyter-widgets/base",
            "_model_module_version": "1.2.0",
            "_model_name": "LayoutModel",
            "_view_count": null,
            "_view_module": "@jupyter-widgets/base",
            "_view_module_version": "1.2.0",
            "_view_name": "LayoutView",
            "align_content": null,
            "align_items": null,
            "align_self": null,
            "border": null,
            "bottom": null,
            "display": null,
            "flex": null,
            "flex_flow": null,
            "grid_area": null,
            "grid_auto_columns": null,
            "grid_auto_flow": null,
            "grid_auto_rows": null,
            "grid_column": null,
            "grid_gap": null,
            "grid_row": null,
            "grid_template_areas": null,
            "grid_template_columns": null,
            "grid_template_rows": null,
            "height": null,
            "justify_content": null,
            "justify_items": null,
            "left": null,
            "margin": null,
            "max_height": null,
            "max_width": null,
            "min_height": null,
            "min_width": null,
            "object_fit": null,
            "object_position": null,
            "order": null,
            "overflow": null,
            "overflow_x": null,
            "overflow_y": null,
            "padding": null,
            "right": null,
            "top": null,
            "visibility": null,
            "width": null
          }
        },
        "905d5feee5df41c5985035d134723135": {
          "model_module": "@jupyter-widgets/controls",
          "model_module_version": "1.5.0",
          "model_name": "HBoxModel",
          "state": {
            "_dom_classes": [],
            "_model_module": "@jupyter-widgets/controls",
            "_model_module_version": "1.5.0",
            "_model_name": "HBoxModel",
            "_view_count": null,
            "_view_module": "@jupyter-widgets/controls",
            "_view_module_version": "1.5.0",
            "_view_name": "HBoxView",
            "box_style": "",
            "children": [
              "IPY_MODEL_c59b23d9a4d14f93bf4fe9c10f13d8fd",
              "IPY_MODEL_d2d1de6236764afb911d06a879a134ec",
              "IPY_MODEL_cd7c8418ca0b4d17bc4fb989b9a0feb4"
            ],
            "layout": "IPY_MODEL_7bbd2d1517e74316af990fe0bb042aee"
          }
        },
        "9093ce9e04dd4294b93e715c0a37588e": {
          "model_module": "@jupyter-widgets/controls",
          "model_module_version": "1.5.0",
          "model_name": "HTMLModel",
          "state": {
            "_dom_classes": [],
            "_model_module": "@jupyter-widgets/controls",
            "_model_module_version": "1.5.0",
            "_model_name": "HTMLModel",
            "_view_count": null,
            "_view_module": "@jupyter-widgets/controls",
            "_view_module_version": "1.5.0",
            "_view_name": "HTMLView",
            "description": "",
            "description_tooltip": null,
            "layout": "IPY_MODEL_deb699772682430b8777489a26b0456b",
            "placeholder": "​",
            "style": "IPY_MODEL_cf7efd650278445ca6a4f7de5ec0c677",
            "value": "Downloading (…)olve/main/vocab.json: 100%"
          }
        },
        "95d18a63261e4ca5935ce085bbcc9685": {
          "model_module": "@jupyter-widgets/base",
          "model_module_version": "1.2.0",
          "model_name": "LayoutModel",
          "state": {
            "_model_module": "@jupyter-widgets/base",
            "_model_module_version": "1.2.0",
            "_model_name": "LayoutModel",
            "_view_count": null,
            "_view_module": "@jupyter-widgets/base",
            "_view_module_version": "1.2.0",
            "_view_name": "LayoutView",
            "align_content": null,
            "align_items": null,
            "align_self": null,
            "border": null,
            "bottom": null,
            "display": null,
            "flex": null,
            "flex_flow": null,
            "grid_area": null,
            "grid_auto_columns": null,
            "grid_auto_flow": null,
            "grid_auto_rows": null,
            "grid_column": null,
            "grid_gap": null,
            "grid_row": null,
            "grid_template_areas": null,
            "grid_template_columns": null,
            "grid_template_rows": null,
            "height": null,
            "justify_content": null,
            "justify_items": null,
            "left": null,
            "margin": null,
            "max_height": null,
            "max_width": null,
            "min_height": null,
            "min_width": null,
            "object_fit": null,
            "object_position": null,
            "order": null,
            "overflow": null,
            "overflow_x": null,
            "overflow_y": null,
            "padding": null,
            "right": null,
            "top": null,
            "visibility": null,
            "width": null
          }
        },
        "9ebf87bf3d56427bacb99e3c51099232": {
          "model_module": "@jupyter-widgets/base",
          "model_module_version": "1.2.0",
          "model_name": "LayoutModel",
          "state": {
            "_model_module": "@jupyter-widgets/base",
            "_model_module_version": "1.2.0",
            "_model_name": "LayoutModel",
            "_view_count": null,
            "_view_module": "@jupyter-widgets/base",
            "_view_module_version": "1.2.0",
            "_view_name": "LayoutView",
            "align_content": null,
            "align_items": null,
            "align_self": null,
            "border": null,
            "bottom": null,
            "display": null,
            "flex": null,
            "flex_flow": null,
            "grid_area": null,
            "grid_auto_columns": null,
            "grid_auto_flow": null,
            "grid_auto_rows": null,
            "grid_column": null,
            "grid_gap": null,
            "grid_row": null,
            "grid_template_areas": null,
            "grid_template_columns": null,
            "grid_template_rows": null,
            "height": null,
            "justify_content": null,
            "justify_items": null,
            "left": null,
            "margin": null,
            "max_height": null,
            "max_width": null,
            "min_height": null,
            "min_width": null,
            "object_fit": null,
            "object_position": null,
            "order": null,
            "overflow": null,
            "overflow_x": null,
            "overflow_y": null,
            "padding": null,
            "right": null,
            "top": null,
            "visibility": null,
            "width": null
          }
        },
        "9eefbd465ae24b948845b558ee0d0d1e": {
          "model_module": "@jupyter-widgets/controls",
          "model_module_version": "1.5.0",
          "model_name": "ProgressStyleModel",
          "state": {
            "_model_module": "@jupyter-widgets/controls",
            "_model_module_version": "1.5.0",
            "_model_name": "ProgressStyleModel",
            "_view_count": null,
            "_view_module": "@jupyter-widgets/base",
            "_view_module_version": "1.2.0",
            "_view_name": "StyleView",
            "bar_color": null,
            "description_width": ""
          }
        },
        "a2fb7123939b4ffaaf6995ee9cfb109b": {
          "model_module": "@jupyter-widgets/controls",
          "model_module_version": "1.5.0",
          "model_name": "HBoxModel",
          "state": {
            "_dom_classes": [],
            "_model_module": "@jupyter-widgets/controls",
            "_model_module_version": "1.5.0",
            "_model_name": "HBoxModel",
            "_view_count": null,
            "_view_module": "@jupyter-widgets/controls",
            "_view_module_version": "1.5.0",
            "_view_name": "HBoxView",
            "box_style": "",
            "children": [
              "IPY_MODEL_068f12d20da74138a81ce3af222698be",
              "IPY_MODEL_e3af7724acd64f94a8f29f6717138dff",
              "IPY_MODEL_a93cf36ddf424140b20c3071678f0f56"
            ],
            "layout": "IPY_MODEL_95d18a63261e4ca5935ce085bbcc9685"
          }
        },
        "a3a67dccf8b1442c9a7d65da6dea0d14": {
          "model_module": "@jupyter-widgets/controls",
          "model_module_version": "1.5.0",
          "model_name": "DescriptionStyleModel",
          "state": {
            "_model_module": "@jupyter-widgets/controls",
            "_model_module_version": "1.5.0",
            "_model_name": "DescriptionStyleModel",
            "_view_count": null,
            "_view_module": "@jupyter-widgets/base",
            "_view_module_version": "1.2.0",
            "_view_name": "StyleView",
            "description_width": ""
          }
        },
        "a71c26404a76404ba6eaed7dcee55866": {
          "model_module": "@jupyter-widgets/base",
          "model_module_version": "1.2.0",
          "model_name": "LayoutModel",
          "state": {
            "_model_module": "@jupyter-widgets/base",
            "_model_module_version": "1.2.0",
            "_model_name": "LayoutModel",
            "_view_count": null,
            "_view_module": "@jupyter-widgets/base",
            "_view_module_version": "1.2.0",
            "_view_name": "LayoutView",
            "align_content": null,
            "align_items": null,
            "align_self": null,
            "border": null,
            "bottom": null,
            "display": null,
            "flex": null,
            "flex_flow": null,
            "grid_area": null,
            "grid_auto_columns": null,
            "grid_auto_flow": null,
            "grid_auto_rows": null,
            "grid_column": null,
            "grid_gap": null,
            "grid_row": null,
            "grid_template_areas": null,
            "grid_template_columns": null,
            "grid_template_rows": null,
            "height": null,
            "justify_content": null,
            "justify_items": null,
            "left": null,
            "margin": null,
            "max_height": null,
            "max_width": null,
            "min_height": null,
            "min_width": null,
            "object_fit": null,
            "object_position": null,
            "order": null,
            "overflow": null,
            "overflow_x": null,
            "overflow_y": null,
            "padding": null,
            "right": null,
            "top": null,
            "visibility": null,
            "width": null
          }
        },
        "a93cf36ddf424140b20c3071678f0f56": {
          "model_module": "@jupyter-widgets/controls",
          "model_module_version": "1.5.0",
          "model_name": "HTMLModel",
          "state": {
            "_dom_classes": [],
            "_model_module": "@jupyter-widgets/controls",
            "_model_module_version": "1.5.0",
            "_model_name": "HTMLModel",
            "_view_count": null,
            "_view_module": "@jupyter-widgets/controls",
            "_view_module_version": "1.5.0",
            "_view_name": "HTMLView",
            "description": "",
            "description_tooltip": null,
            "layout": "IPY_MODEL_b707258052c0485d864c035bca604e98",
            "placeholder": "​",
            "style": "IPY_MODEL_0fc186ccd4d742fdbdb524b18a55a63a",
            "value": " 501M/501M [00:03&lt;00:00, 154MB/s]"
          }
        },
        "a956b7088f3e45c58701e4a0beffe2f3": {
          "model_module": "@jupyter-widgets/controls",
          "model_module_version": "1.5.0",
          "model_name": "HBoxModel",
          "state": {
            "_dom_classes": [],
            "_model_module": "@jupyter-widgets/controls",
            "_model_module_version": "1.5.0",
            "_model_name": "HBoxModel",
            "_view_count": null,
            "_view_module": "@jupyter-widgets/controls",
            "_view_module_version": "1.5.0",
            "_view_name": "HBoxView",
            "box_style": "",
            "children": [
              "IPY_MODEL_0cbc7a14de0c40e8a57e2d8e246336bc",
              "IPY_MODEL_14d9231ab6004b75ab9a7a4f31341e43",
              "IPY_MODEL_0869b3a94be24ecea515379d2bf2f200"
            ],
            "layout": "IPY_MODEL_afbd01b700814c3a910b6d4c8e4022ee"
          }
        },
        "afbd01b700814c3a910b6d4c8e4022ee": {
          "model_module": "@jupyter-widgets/base",
          "model_module_version": "1.2.0",
          "model_name": "LayoutModel",
          "state": {
            "_model_module": "@jupyter-widgets/base",
            "_model_module_version": "1.2.0",
            "_model_name": "LayoutModel",
            "_view_count": null,
            "_view_module": "@jupyter-widgets/base",
            "_view_module_version": "1.2.0",
            "_view_name": "LayoutView",
            "align_content": null,
            "align_items": null,
            "align_self": null,
            "border": null,
            "bottom": null,
            "display": null,
            "flex": null,
            "flex_flow": null,
            "grid_area": null,
            "grid_auto_columns": null,
            "grid_auto_flow": null,
            "grid_auto_rows": null,
            "grid_column": null,
            "grid_gap": null,
            "grid_row": null,
            "grid_template_areas": null,
            "grid_template_columns": null,
            "grid_template_rows": null,
            "height": null,
            "justify_content": null,
            "justify_items": null,
            "left": null,
            "margin": null,
            "max_height": null,
            "max_width": null,
            "min_height": null,
            "min_width": null,
            "object_fit": null,
            "object_position": null,
            "order": null,
            "overflow": null,
            "overflow_x": null,
            "overflow_y": null,
            "padding": null,
            "right": null,
            "top": null,
            "visibility": null,
            "width": null
          }
        },
        "b46265e4eebc40dc9961dc1a74c4299f": {
          "model_module": "@jupyter-widgets/base",
          "model_module_version": "1.2.0",
          "model_name": "LayoutModel",
          "state": {
            "_model_module": "@jupyter-widgets/base",
            "_model_module_version": "1.2.0",
            "_model_name": "LayoutModel",
            "_view_count": null,
            "_view_module": "@jupyter-widgets/base",
            "_view_module_version": "1.2.0",
            "_view_name": "LayoutView",
            "align_content": null,
            "align_items": null,
            "align_self": null,
            "border": null,
            "bottom": null,
            "display": null,
            "flex": null,
            "flex_flow": null,
            "grid_area": null,
            "grid_auto_columns": null,
            "grid_auto_flow": null,
            "grid_auto_rows": null,
            "grid_column": null,
            "grid_gap": null,
            "grid_row": null,
            "grid_template_areas": null,
            "grid_template_columns": null,
            "grid_template_rows": null,
            "height": null,
            "justify_content": null,
            "justify_items": null,
            "left": null,
            "margin": null,
            "max_height": null,
            "max_width": null,
            "min_height": null,
            "min_width": null,
            "object_fit": null,
            "object_position": null,
            "order": null,
            "overflow": null,
            "overflow_x": null,
            "overflow_y": null,
            "padding": null,
            "right": null,
            "top": null,
            "visibility": null,
            "width": null
          }
        },
        "b707258052c0485d864c035bca604e98": {
          "model_module": "@jupyter-widgets/base",
          "model_module_version": "1.2.0",
          "model_name": "LayoutModel",
          "state": {
            "_model_module": "@jupyter-widgets/base",
            "_model_module_version": "1.2.0",
            "_model_name": "LayoutModel",
            "_view_count": null,
            "_view_module": "@jupyter-widgets/base",
            "_view_module_version": "1.2.0",
            "_view_name": "LayoutView",
            "align_content": null,
            "align_items": null,
            "align_self": null,
            "border": null,
            "bottom": null,
            "display": null,
            "flex": null,
            "flex_flow": null,
            "grid_area": null,
            "grid_auto_columns": null,
            "grid_auto_flow": null,
            "grid_auto_rows": null,
            "grid_column": null,
            "grid_gap": null,
            "grid_row": null,
            "grid_template_areas": null,
            "grid_template_columns": null,
            "grid_template_rows": null,
            "height": null,
            "justify_content": null,
            "justify_items": null,
            "left": null,
            "margin": null,
            "max_height": null,
            "max_width": null,
            "min_height": null,
            "min_width": null,
            "object_fit": null,
            "object_position": null,
            "order": null,
            "overflow": null,
            "overflow_x": null,
            "overflow_y": null,
            "padding": null,
            "right": null,
            "top": null,
            "visibility": null,
            "width": null
          }
        },
        "c30b63ba08304f1ba075a0fe0a087db5": {
          "model_module": "@jupyter-widgets/base",
          "model_module_version": "1.2.0",
          "model_name": "LayoutModel",
          "state": {
            "_model_module": "@jupyter-widgets/base",
            "_model_module_version": "1.2.0",
            "_model_name": "LayoutModel",
            "_view_count": null,
            "_view_module": "@jupyter-widgets/base",
            "_view_module_version": "1.2.0",
            "_view_name": "LayoutView",
            "align_content": null,
            "align_items": null,
            "align_self": null,
            "border": null,
            "bottom": null,
            "display": null,
            "flex": null,
            "flex_flow": null,
            "grid_area": null,
            "grid_auto_columns": null,
            "grid_auto_flow": null,
            "grid_auto_rows": null,
            "grid_column": null,
            "grid_gap": null,
            "grid_row": null,
            "grid_template_areas": null,
            "grid_template_columns": null,
            "grid_template_rows": null,
            "height": null,
            "justify_content": null,
            "justify_items": null,
            "left": null,
            "margin": null,
            "max_height": null,
            "max_width": null,
            "min_height": null,
            "min_width": null,
            "object_fit": null,
            "object_position": null,
            "order": null,
            "overflow": null,
            "overflow_x": null,
            "overflow_y": null,
            "padding": null,
            "right": null,
            "top": null,
            "visibility": null,
            "width": null
          }
        },
        "c4085060233b45fb82dce3e659c38035": {
          "model_module": "@jupyter-widgets/base",
          "model_module_version": "1.2.0",
          "model_name": "LayoutModel",
          "state": {
            "_model_module": "@jupyter-widgets/base",
            "_model_module_version": "1.2.0",
            "_model_name": "LayoutModel",
            "_view_count": null,
            "_view_module": "@jupyter-widgets/base",
            "_view_module_version": "1.2.0",
            "_view_name": "LayoutView",
            "align_content": null,
            "align_items": null,
            "align_self": null,
            "border": null,
            "bottom": null,
            "display": null,
            "flex": null,
            "flex_flow": null,
            "grid_area": null,
            "grid_auto_columns": null,
            "grid_auto_flow": null,
            "grid_auto_rows": null,
            "grid_column": null,
            "grid_gap": null,
            "grid_row": null,
            "grid_template_areas": null,
            "grid_template_columns": null,
            "grid_template_rows": null,
            "height": null,
            "justify_content": null,
            "justify_items": null,
            "left": null,
            "margin": null,
            "max_height": null,
            "max_width": null,
            "min_height": null,
            "min_width": null,
            "object_fit": null,
            "object_position": null,
            "order": null,
            "overflow": null,
            "overflow_x": null,
            "overflow_y": null,
            "padding": null,
            "right": null,
            "top": null,
            "visibility": null,
            "width": null
          }
        },
        "c59b23d9a4d14f93bf4fe9c10f13d8fd": {
          "model_module": "@jupyter-widgets/controls",
          "model_module_version": "1.5.0",
          "model_name": "HTMLModel",
          "state": {
            "_dom_classes": [],
            "_model_module": "@jupyter-widgets/controls",
            "_model_module_version": "1.5.0",
            "_model_name": "HTMLModel",
            "_view_count": null,
            "_view_module": "@jupyter-widgets/controls",
            "_view_module_version": "1.5.0",
            "_view_name": "HTMLView",
            "description": "",
            "description_tooltip": null,
            "layout": "IPY_MODEL_cc177e0041274775b42eb38ad49baf27",
            "placeholder": "​",
            "style": "IPY_MODEL_1c526328b5ca4e8da2874cc68167e190",
            "value": "Downloading (…)/main/tokenizer.json: 100%"
          }
        },
        "cc177e0041274775b42eb38ad49baf27": {
          "model_module": "@jupyter-widgets/base",
          "model_module_version": "1.2.0",
          "model_name": "LayoutModel",
          "state": {
            "_model_module": "@jupyter-widgets/base",
            "_model_module_version": "1.2.0",
            "_model_name": "LayoutModel",
            "_view_count": null,
            "_view_module": "@jupyter-widgets/base",
            "_view_module_version": "1.2.0",
            "_view_name": "LayoutView",
            "align_content": null,
            "align_items": null,
            "align_self": null,
            "border": null,
            "bottom": null,
            "display": null,
            "flex": null,
            "flex_flow": null,
            "grid_area": null,
            "grid_auto_columns": null,
            "grid_auto_flow": null,
            "grid_auto_rows": null,
            "grid_column": null,
            "grid_gap": null,
            "grid_row": null,
            "grid_template_areas": null,
            "grid_template_columns": null,
            "grid_template_rows": null,
            "height": null,
            "justify_content": null,
            "justify_items": null,
            "left": null,
            "margin": null,
            "max_height": null,
            "max_width": null,
            "min_height": null,
            "min_width": null,
            "object_fit": null,
            "object_position": null,
            "order": null,
            "overflow": null,
            "overflow_x": null,
            "overflow_y": null,
            "padding": null,
            "right": null,
            "top": null,
            "visibility": null,
            "width": null
          }
        },
        "cd7c8418ca0b4d17bc4fb989b9a0feb4": {
          "model_module": "@jupyter-widgets/controls",
          "model_module_version": "1.5.0",
          "model_name": "HTMLModel",
          "state": {
            "_dom_classes": [],
            "_model_module": "@jupyter-widgets/controls",
            "_model_module_version": "1.5.0",
            "_model_name": "HTMLModel",
            "_view_count": null,
            "_view_module": "@jupyter-widgets/controls",
            "_view_module_version": "1.5.0",
            "_view_name": "HTMLView",
            "description": "",
            "description_tooltip": null,
            "layout": "IPY_MODEL_5cd7650d7dc34b058c26648fac03f1d4",
            "placeholder": "​",
            "style": "IPY_MODEL_2b7f2ad9844a48eea2b09a2264b98beb",
            "value": " 1.36M/1.36M [00:01&lt;00:00, 1.17MB/s]"
          }
        },
        "cf7efd650278445ca6a4f7de5ec0c677": {
          "model_module": "@jupyter-widgets/controls",
          "model_module_version": "1.5.0",
          "model_name": "DescriptionStyleModel",
          "state": {
            "_model_module": "@jupyter-widgets/controls",
            "_model_module_version": "1.5.0",
            "_model_name": "DescriptionStyleModel",
            "_view_count": null,
            "_view_module": "@jupyter-widgets/base",
            "_view_module_version": "1.2.0",
            "_view_name": "StyleView",
            "description_width": ""
          }
        },
        "d2d1de6236764afb911d06a879a134ec": {
          "model_module": "@jupyter-widgets/controls",
          "model_module_version": "1.5.0",
          "model_name": "FloatProgressModel",
          "state": {
            "_dom_classes": [],
            "_model_module": "@jupyter-widgets/controls",
            "_model_module_version": "1.5.0",
            "_model_name": "FloatProgressModel",
            "_view_count": null,
            "_view_module": "@jupyter-widgets/controls",
            "_view_module_version": "1.5.0",
            "_view_name": "ProgressView",
            "bar_style": "success",
            "description": "",
            "description_tooltip": null,
            "layout": "IPY_MODEL_56f94cbec1d642d391da902dd582fb8b",
            "max": 1355863,
            "min": 0,
            "orientation": "horizontal",
            "style": "IPY_MODEL_3c7a7d4cfaf54f5797d25b60ab5bb0af",
            "value": 1355863
          }
        },
        "da5554c4e2ab4d6bab5f6d28847d95a3": {
          "model_module": "@jupyter-widgets/controls",
          "model_module_version": "1.5.0",
          "model_name": "DescriptionStyleModel",
          "state": {
            "_model_module": "@jupyter-widgets/controls",
            "_model_module_version": "1.5.0",
            "_model_name": "DescriptionStyleModel",
            "_view_count": null,
            "_view_module": "@jupyter-widgets/base",
            "_view_module_version": "1.2.0",
            "_view_name": "StyleView",
            "description_width": ""
          }
        },
        "deb699772682430b8777489a26b0456b": {
          "model_module": "@jupyter-widgets/base",
          "model_module_version": "1.2.0",
          "model_name": "LayoutModel",
          "state": {
            "_model_module": "@jupyter-widgets/base",
            "_model_module_version": "1.2.0",
            "_model_name": "LayoutModel",
            "_view_count": null,
            "_view_module": "@jupyter-widgets/base",
            "_view_module_version": "1.2.0",
            "_view_name": "LayoutView",
            "align_content": null,
            "align_items": null,
            "align_self": null,
            "border": null,
            "bottom": null,
            "display": null,
            "flex": null,
            "flex_flow": null,
            "grid_area": null,
            "grid_auto_columns": null,
            "grid_auto_flow": null,
            "grid_auto_rows": null,
            "grid_column": null,
            "grid_gap": null,
            "grid_row": null,
            "grid_template_areas": null,
            "grid_template_columns": null,
            "grid_template_rows": null,
            "height": null,
            "justify_content": null,
            "justify_items": null,
            "left": null,
            "margin": null,
            "max_height": null,
            "max_width": null,
            "min_height": null,
            "min_width": null,
            "object_fit": null,
            "object_position": null,
            "order": null,
            "overflow": null,
            "overflow_x": null,
            "overflow_y": null,
            "padding": null,
            "right": null,
            "top": null,
            "visibility": null,
            "width": null
          }
        },
        "e3af7724acd64f94a8f29f6717138dff": {
          "model_module": "@jupyter-widgets/controls",
          "model_module_version": "1.5.0",
          "model_name": "FloatProgressModel",
          "state": {
            "_dom_classes": [],
            "_model_module": "@jupyter-widgets/controls",
            "_model_module_version": "1.5.0",
            "_model_name": "FloatProgressModel",
            "_view_count": null,
            "_view_module": "@jupyter-widgets/controls",
            "_view_module_version": "1.5.0",
            "_view_name": "ProgressView",
            "bar_style": "success",
            "description": "",
            "description_tooltip": null,
            "layout": "IPY_MODEL_2dd324b41eac46498d0ed7c609239be8",
            "max": 501000585,
            "min": 0,
            "orientation": "horizontal",
            "style": "IPY_MODEL_46180cb920b248d08c620d23318c6d04",
            "value": 501000585
          }
        },
        "ea32f12120074179bbfc7fab0f4c7bb6": {
          "model_module": "@jupyter-widgets/controls",
          "model_module_version": "1.5.0",
          "model_name": "DescriptionStyleModel",
          "state": {
            "_model_module": "@jupyter-widgets/controls",
            "_model_module_version": "1.5.0",
            "_model_name": "DescriptionStyleModel",
            "_view_count": null,
            "_view_module": "@jupyter-widgets/base",
            "_view_module_version": "1.2.0",
            "_view_name": "StyleView",
            "description_width": ""
          }
        },
        "f6a2804a0fe54dab8f948ad9d621d74a": {
          "model_module": "@jupyter-widgets/controls",
          "model_module_version": "1.5.0",
          "model_name": "HBoxModel",
          "state": {
            "_dom_classes": [],
            "_model_module": "@jupyter-widgets/controls",
            "_model_module_version": "1.5.0",
            "_model_name": "HBoxModel",
            "_view_count": null,
            "_view_module": "@jupyter-widgets/controls",
            "_view_module_version": "1.5.0",
            "_view_name": "HBoxView",
            "box_style": "",
            "children": [
              "IPY_MODEL_9093ce9e04dd4294b93e715c0a37588e",
              "IPY_MODEL_6b6722bcdf2b4f348ea3035412735ca0",
              "IPY_MODEL_24a48fc7b3d44d378d22888588ebe9b0"
            ],
            "layout": "IPY_MODEL_9ebf87bf3d56427bacb99e3c51099232"
          }
        },
        "fce583c8f51c49b2af628037e8f7c7db": {
          "model_module": "@jupyter-widgets/base",
          "model_module_version": "1.2.0",
          "model_name": "LayoutModel",
          "state": {
            "_model_module": "@jupyter-widgets/base",
            "_model_module_version": "1.2.0",
            "_model_name": "LayoutModel",
            "_view_count": null,
            "_view_module": "@jupyter-widgets/base",
            "_view_module_version": "1.2.0",
            "_view_name": "LayoutView",
            "align_content": null,
            "align_items": null,
            "align_self": null,
            "border": null,
            "bottom": null,
            "display": null,
            "flex": null,
            "flex_flow": null,
            "grid_area": null,
            "grid_auto_columns": null,
            "grid_auto_flow": null,
            "grid_auto_rows": null,
            "grid_column": null,
            "grid_gap": null,
            "grid_row": null,
            "grid_template_areas": null,
            "grid_template_columns": null,
            "grid_template_rows": null,
            "height": null,
            "justify_content": null,
            "justify_items": null,
            "left": null,
            "margin": null,
            "max_height": null,
            "max_width": null,
            "min_height": null,
            "min_width": null,
            "object_fit": null,
            "object_position": null,
            "order": null,
            "overflow": null,
            "overflow_x": null,
            "overflow_y": null,
            "padding": null,
            "right": null,
            "top": null,
            "visibility": null,
            "width": null
          }
        }
      }
    }
  },
  "nbformat": 4,
  "nbformat_minor": 0
}